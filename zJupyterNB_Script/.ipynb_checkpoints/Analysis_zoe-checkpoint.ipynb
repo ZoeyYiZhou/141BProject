{
 "cells": [
  {
   "cell_type": "code",
   "execution_count": 1,
   "metadata": {
    "collapsed": true
   },
   "outputs": [],
   "source": [
    "import os\n",
    "import pandas as pd\n",
    "import numpy as np\n",
    "import matplotlib\n",
    "from matplotlib import pyplot as plt\n",
    "plt.style.use('ggplot')\n",
    "%matplotlib inline\n",
    "matplotlib.style.use('ggplot')\n",
    "import seaborn as sns"
   ]
  },
  {
   "cell_type": "code",
   "execution_count": 2,
   "metadata": {
    "collapsed": false
   },
   "outputs": [],
   "source": [
    "os.chdir('/Users/yizhou/Desktop/')"
   ]
  },
  {
   "cell_type": "code",
   "execution_count": 3,
   "metadata": {
    "collapsed": true
   },
   "outputs": [],
   "source": [
    "ca_data = pd.read_excel('SubB_Yr_Cnty_Crp_Wtr_Acr_Zip_Prcip_Ecn.xlsx')"
   ]
  },
  {
   "cell_type": "code",
   "execution_count": 4,
   "metadata": {
    "collapsed": false
   },
   "outputs": [
    {
     "data": {
      "text/html": [
       "<div>\n",
       "<table border=\"1\" class=\"dataframe\">\n",
       "  <thead>\n",
       "    <tr style=\"text-align: right;\">\n",
       "      <th></th>\n",
       "      <th>Subbasin_N</th>\n",
       "      <th>Year</th>\n",
       "      <th>County</th>\n",
       "      <th>Crop</th>\n",
       "      <th>WaterUsagePerAcre</th>\n",
       "      <th>Acre</th>\n",
       "      <th>zipcode</th>\n",
       "      <th>Precip</th>\n",
       "      <th>EcnValue</th>\n",
       "    </tr>\n",
       "  </thead>\n",
       "  <tbody>\n",
       "    <tr>\n",
       "      <th>0</th>\n",
       "      <td>CHOWCHILLA</td>\n",
       "      <td>2010</td>\n",
       "      <td>Madera</td>\n",
       "      <td>Al Pist</td>\n",
       "      <td>3.344023</td>\n",
       "      <td>36958.464642</td>\n",
       "      <td>93638</td>\n",
       "      <td>14.15</td>\n",
       "      <td>7575.600000</td>\n",
       "    </tr>\n",
       "    <tr>\n",
       "      <th>1</th>\n",
       "      <td>CHOWCHILLA</td>\n",
       "      <td>2010</td>\n",
       "      <td>Madera</td>\n",
       "      <td>Alfalfa</td>\n",
       "      <td>4.318180</td>\n",
       "      <td>34392.028150</td>\n",
       "      <td>93638</td>\n",
       "      <td>14.15</td>\n",
       "      <td>1442.000000</td>\n",
       "    </tr>\n",
       "    <tr>\n",
       "      <th>2</th>\n",
       "      <td>CHOWCHILLA</td>\n",
       "      <td>2010</td>\n",
       "      <td>Madera</td>\n",
       "      <td>Corn</td>\n",
       "      <td>2.545571</td>\n",
       "      <td>6004.104783</td>\n",
       "      <td>93638</td>\n",
       "      <td>14.15</td>\n",
       "      <td>1278.095000</td>\n",
       "    </tr>\n",
       "    <tr>\n",
       "      <th>3</th>\n",
       "      <td>CHOWCHILLA</td>\n",
       "      <td>2010</td>\n",
       "      <td>Madera</td>\n",
       "      <td>Cotton</td>\n",
       "      <td>3.152639</td>\n",
       "      <td>3535.633219</td>\n",
       "      <td>93638</td>\n",
       "      <td>14.15</td>\n",
       "      <td>227920.000000</td>\n",
       "    </tr>\n",
       "    <tr>\n",
       "      <th>4</th>\n",
       "      <td>CHOWCHILLA</td>\n",
       "      <td>2010</td>\n",
       "      <td>Madera</td>\n",
       "      <td>Cucurb</td>\n",
       "      <td>1.605352</td>\n",
       "      <td>163.237815</td>\n",
       "      <td>93638</td>\n",
       "      <td>14.15</td>\n",
       "      <td>5715.333333</td>\n",
       "    </tr>\n",
       "  </tbody>\n",
       "</table>\n",
       "</div>"
      ],
      "text/plain": [
       "   Subbasin_N  Year  County     Crop  WaterUsagePerAcre          Acre  \\\n",
       "0  CHOWCHILLA  2010  Madera  Al Pist           3.344023  36958.464642   \n",
       "1  CHOWCHILLA  2010  Madera  Alfalfa           4.318180  34392.028150   \n",
       "2  CHOWCHILLA  2010  Madera     Corn           2.545571   6004.104783   \n",
       "3  CHOWCHILLA  2010  Madera   Cotton           3.152639   3535.633219   \n",
       "4  CHOWCHILLA  2010  Madera   Cucurb           1.605352    163.237815   \n",
       "\n",
       "   zipcode  Precip       EcnValue  \n",
       "0    93638   14.15    7575.600000  \n",
       "1    93638   14.15    1442.000000  \n",
       "2    93638   14.15    1278.095000  \n",
       "3    93638   14.15  227920.000000  \n",
       "4    93638   14.15    5715.333333  "
      ]
     },
     "execution_count": 4,
     "metadata": {},
     "output_type": "execute_result"
    }
   ],
   "source": [
    "ca_data.head()"
   ]
  },
  {
   "cell_type": "code",
   "execution_count": 5,
   "metadata": {
    "collapsed": false
   },
   "outputs": [
    {
     "data": {
      "text/html": [
       "<div>\n",
       "<table border=\"1\" class=\"dataframe\">\n",
       "  <thead>\n",
       "    <tr style=\"text-align: right;\">\n",
       "      <th></th>\n",
       "      <th>Subbasin_N</th>\n",
       "      <th>Year</th>\n",
       "      <th>County</th>\n",
       "      <th>Crop</th>\n",
       "      <th>WaterUsagePerAcre</th>\n",
       "      <th>Acre</th>\n",
       "      <th>zipcode</th>\n",
       "      <th>Precip</th>\n",
       "      <th>EcnValue</th>\n",
       "    </tr>\n",
       "  </thead>\n",
       "  <tbody>\n",
       "    <tr>\n",
       "      <th>0</th>\n",
       "      <td>CHOWCHILLA</td>\n",
       "      <td>2010</td>\n",
       "      <td>Madera</td>\n",
       "      <td>Al Pist</td>\n",
       "      <td>3.344023</td>\n",
       "      <td>36958.464642</td>\n",
       "      <td>93638</td>\n",
       "      <td>14.15</td>\n",
       "      <td>7575.600000</td>\n",
       "    </tr>\n",
       "    <tr>\n",
       "      <th>1</th>\n",
       "      <td>CHOWCHILLA</td>\n",
       "      <td>2010</td>\n",
       "      <td>Madera</td>\n",
       "      <td>Alfalfa</td>\n",
       "      <td>4.318180</td>\n",
       "      <td>34392.028150</td>\n",
       "      <td>93638</td>\n",
       "      <td>14.15</td>\n",
       "      <td>1442.000000</td>\n",
       "    </tr>\n",
       "    <tr>\n",
       "      <th>2</th>\n",
       "      <td>CHOWCHILLA</td>\n",
       "      <td>2010</td>\n",
       "      <td>Madera</td>\n",
       "      <td>Corn</td>\n",
       "      <td>2.545571</td>\n",
       "      <td>6004.104783</td>\n",
       "      <td>93638</td>\n",
       "      <td>14.15</td>\n",
       "      <td>1278.095000</td>\n",
       "    </tr>\n",
       "    <tr>\n",
       "      <th>3</th>\n",
       "      <td>CHOWCHILLA</td>\n",
       "      <td>2010</td>\n",
       "      <td>Madera</td>\n",
       "      <td>Cotton</td>\n",
       "      <td>3.152639</td>\n",
       "      <td>3535.633219</td>\n",
       "      <td>93638</td>\n",
       "      <td>14.15</td>\n",
       "      <td>227920.000000</td>\n",
       "    </tr>\n",
       "    <tr>\n",
       "      <th>4</th>\n",
       "      <td>CHOWCHILLA</td>\n",
       "      <td>2010</td>\n",
       "      <td>Madera</td>\n",
       "      <td>Cucurb</td>\n",
       "      <td>1.605352</td>\n",
       "      <td>163.237815</td>\n",
       "      <td>93638</td>\n",
       "      <td>14.15</td>\n",
       "      <td>5715.333333</td>\n",
       "    </tr>\n",
       "  </tbody>\n",
       "</table>\n",
       "</div>"
      ],
      "text/plain": [
       "   Subbasin_N  Year  County     Crop  WaterUsagePerAcre          Acre  \\\n",
       "0  CHOWCHILLA  2010  Madera  Al Pist           3.344023  36958.464642   \n",
       "1  CHOWCHILLA  2010  Madera  Alfalfa           4.318180  34392.028150   \n",
       "2  CHOWCHILLA  2010  Madera     Corn           2.545571   6004.104783   \n",
       "3  CHOWCHILLA  2010  Madera   Cotton           3.152639   3535.633219   \n",
       "4  CHOWCHILLA  2010  Madera   Cucurb           1.605352    163.237815   \n",
       "\n",
       "   zipcode  Precip       EcnValue  \n",
       "0    93638   14.15    7575.600000  \n",
       "1    93638   14.15    1442.000000  \n",
       "2    93638   14.15    1278.095000  \n",
       "3    93638   14.15  227920.000000  \n",
       "4    93638   14.15    5715.333333  "
      ]
     },
     "execution_count": 5,
     "metadata": {},
     "output_type": "execute_result"
    }
   ],
   "source": [
    "# First we are going to make analysis in year 2010 because the data in 2010 is the most compelete data\n",
    "data2010 = ca_data[ca_data['Year'] == 2010]\n",
    "data2010.head()"
   ]
  },
  {
   "cell_type": "code",
   "execution_count": 6,
   "metadata": {
    "collapsed": false
   },
   "outputs": [
    {
     "name": "stderr",
     "output_type": "stream",
     "text": [
      "/Users/yizhou/anaconda/lib/python2.7/site-packages/pandas/core/generic.py:3378: SettingWithCopyWarning: \n",
      "A value is trying to be set on a copy of a slice from a DataFrame.\n",
      "Try using .loc[row_indexer,col_indexer] = value instead\n",
      "\n",
      "See the caveats in the documentation: http://pandas.pydata.org/pandas-docs/stable/indexing.html#indexing-view-versus-copy\n",
      "  inplace=False, regex=regex)\n"
     ]
    }
   ],
   "source": [
    "replacements = {\n",
    "   'Crop': {\n",
    "      r'Al Pist': 'Almond&Pistachio',\n",
    "      r'Cucurb': 'Melon&Cucumber',\n",
    "      r'On Gar': 'Onion&Garlic',\n",
    "      r'Oth Dec': 'DeciduousPlant',\n",
    "      r'Subtrop':'SubtropicalPlant',\n",
    "      r'Vine': 'GrapeFruit',\n",
    "      r'Oth Fld': 'FieldCrop',\n",
    "      r'SgrBeet': 'SugarBeet',\n",
    "      r'Safflwr': 'Safflower',\n",
    "      r'Pr Tom': 'ProcessedTomato',\n",
    "      r'Fr Tom': 'MarketTomato',\n",
    "      r'Oth Trk': 'TropicalPlant'}\n",
    "}\n",
    "\n",
    "data2010.replace(replacements, regex=True, inplace=True)"
   ]
  },
  {
   "cell_type": "code",
   "execution_count": 7,
   "metadata": {
    "collapsed": false
   },
   "outputs": [
    {
     "data": {
      "text/html": [
       "<div>\n",
       "<table border=\"1\" class=\"dataframe\">\n",
       "  <thead>\n",
       "    <tr style=\"text-align: right;\">\n",
       "      <th></th>\n",
       "      <th>Subbasin_N</th>\n",
       "      <th>Year</th>\n",
       "      <th>County</th>\n",
       "      <th>Crop</th>\n",
       "      <th>WaterUsagePerAcre</th>\n",
       "      <th>Acre</th>\n",
       "      <th>zipcode</th>\n",
       "      <th>Precip</th>\n",
       "      <th>EcnValue</th>\n",
       "    </tr>\n",
       "  </thead>\n",
       "  <tbody>\n",
       "    <tr>\n",
       "      <th>0</th>\n",
       "      <td>CHOWCHILLA</td>\n",
       "      <td>2010</td>\n",
       "      <td>Madera</td>\n",
       "      <td>Almond&amp;Pistachio</td>\n",
       "      <td>3.344023</td>\n",
       "      <td>36958.464642</td>\n",
       "      <td>93638</td>\n",
       "      <td>14.15</td>\n",
       "      <td>7575.600000</td>\n",
       "    </tr>\n",
       "    <tr>\n",
       "      <th>1</th>\n",
       "      <td>CHOWCHILLA</td>\n",
       "      <td>2010</td>\n",
       "      <td>Madera</td>\n",
       "      <td>Alfalfa</td>\n",
       "      <td>4.318180</td>\n",
       "      <td>34392.028150</td>\n",
       "      <td>93638</td>\n",
       "      <td>14.15</td>\n",
       "      <td>1442.000000</td>\n",
       "    </tr>\n",
       "    <tr>\n",
       "      <th>2</th>\n",
       "      <td>CHOWCHILLA</td>\n",
       "      <td>2010</td>\n",
       "      <td>Madera</td>\n",
       "      <td>Corn</td>\n",
       "      <td>2.545571</td>\n",
       "      <td>6004.104783</td>\n",
       "      <td>93638</td>\n",
       "      <td>14.15</td>\n",
       "      <td>1278.095000</td>\n",
       "    </tr>\n",
       "    <tr>\n",
       "      <th>3</th>\n",
       "      <td>CHOWCHILLA</td>\n",
       "      <td>2010</td>\n",
       "      <td>Madera</td>\n",
       "      <td>Cotton</td>\n",
       "      <td>3.152639</td>\n",
       "      <td>3535.633219</td>\n",
       "      <td>93638</td>\n",
       "      <td>14.15</td>\n",
       "      <td>227920.000000</td>\n",
       "    </tr>\n",
       "    <tr>\n",
       "      <th>4</th>\n",
       "      <td>CHOWCHILLA</td>\n",
       "      <td>2010</td>\n",
       "      <td>Madera</td>\n",
       "      <td>Melon&amp;Cucumber</td>\n",
       "      <td>1.605352</td>\n",
       "      <td>163.237815</td>\n",
       "      <td>93638</td>\n",
       "      <td>14.15</td>\n",
       "      <td>5715.333333</td>\n",
       "    </tr>\n",
       "  </tbody>\n",
       "</table>\n",
       "</div>"
      ],
      "text/plain": [
       "   Subbasin_N  Year  County              Crop  WaterUsagePerAcre  \\\n",
       "0  CHOWCHILLA  2010  Madera  Almond&Pistachio           3.344023   \n",
       "1  CHOWCHILLA  2010  Madera           Alfalfa           4.318180   \n",
       "2  CHOWCHILLA  2010  Madera              Corn           2.545571   \n",
       "3  CHOWCHILLA  2010  Madera            Cotton           3.152639   \n",
       "4  CHOWCHILLA  2010  Madera    Melon&Cucumber           1.605352   \n",
       "\n",
       "           Acre  zipcode  Precip       EcnValue  \n",
       "0  36958.464642    93638   14.15    7575.600000  \n",
       "1  34392.028150    93638   14.15    1442.000000  \n",
       "2   6004.104783    93638   14.15    1278.095000  \n",
       "3   3535.633219    93638   14.15  227920.000000  \n",
       "4    163.237815    93638   14.15    5715.333333  "
      ]
     },
     "execution_count": 7,
     "metadata": {},
     "output_type": "execute_result"
    }
   ],
   "source": [
    "data2010.head()"
   ]
  },
  {
   "cell_type": "code",
   "execution_count": 8,
   "metadata": {
    "collapsed": false
   },
   "outputs": [],
   "source": [
    "# get data for different county\n",
    "name_list = np.unique(data2010['Subbasin_N'])\n",
    "cont_pd = [0]*18\n",
    "for n in range(len(name_list)):\n",
    "    cont_pd[n] = pd.DataFrame(data2010[data2010['Subbasin_N'] == name_list[n]])\n",
    "    cont_pd[n] = cont_pd[n].reset_index(drop=True)"
   ]
  },
  {
   "cell_type": "code",
   "execution_count": 9,
   "metadata": {
    "collapsed": false
   },
   "outputs": [
    {
     "data": {
      "text/html": [
       "<div>\n",
       "<table border=\"1\" class=\"dataframe\">\n",
       "  <thead>\n",
       "    <tr style=\"text-align: right;\">\n",
       "      <th></th>\n",
       "      <th>Subbasin_N</th>\n",
       "      <th>Year</th>\n",
       "      <th>County</th>\n",
       "      <th>Crop</th>\n",
       "      <th>WaterUsagePerAcre</th>\n",
       "      <th>Acre</th>\n",
       "      <th>zipcode</th>\n",
       "      <th>Precip</th>\n",
       "      <th>EcnValue</th>\n",
       "    </tr>\n",
       "  </thead>\n",
       "  <tbody>\n",
       "    <tr>\n",
       "      <th>0</th>\n",
       "      <td>CHOWCHILLA</td>\n",
       "      <td>2010</td>\n",
       "      <td>Madera</td>\n",
       "      <td>Almond&amp;Pistachio</td>\n",
       "      <td>3.344023</td>\n",
       "      <td>36958.464642</td>\n",
       "      <td>93638</td>\n",
       "      <td>14.15</td>\n",
       "      <td>7575.600000</td>\n",
       "    </tr>\n",
       "    <tr>\n",
       "      <th>1</th>\n",
       "      <td>CHOWCHILLA</td>\n",
       "      <td>2010</td>\n",
       "      <td>Madera</td>\n",
       "      <td>Alfalfa</td>\n",
       "      <td>4.318180</td>\n",
       "      <td>34392.028150</td>\n",
       "      <td>93638</td>\n",
       "      <td>14.15</td>\n",
       "      <td>1442.000000</td>\n",
       "    </tr>\n",
       "    <tr>\n",
       "      <th>2</th>\n",
       "      <td>CHOWCHILLA</td>\n",
       "      <td>2010</td>\n",
       "      <td>Madera</td>\n",
       "      <td>Corn</td>\n",
       "      <td>2.545571</td>\n",
       "      <td>6004.104783</td>\n",
       "      <td>93638</td>\n",
       "      <td>14.15</td>\n",
       "      <td>1278.095000</td>\n",
       "    </tr>\n",
       "    <tr>\n",
       "      <th>3</th>\n",
       "      <td>CHOWCHILLA</td>\n",
       "      <td>2010</td>\n",
       "      <td>Madera</td>\n",
       "      <td>Cotton</td>\n",
       "      <td>3.152639</td>\n",
       "      <td>3535.633219</td>\n",
       "      <td>93638</td>\n",
       "      <td>14.15</td>\n",
       "      <td>227920.000000</td>\n",
       "    </tr>\n",
       "    <tr>\n",
       "      <th>4</th>\n",
       "      <td>CHOWCHILLA</td>\n",
       "      <td>2010</td>\n",
       "      <td>Madera</td>\n",
       "      <td>Melon&amp;Cucumber</td>\n",
       "      <td>1.605352</td>\n",
       "      <td>163.237815</td>\n",
       "      <td>93638</td>\n",
       "      <td>14.15</td>\n",
       "      <td>5715.333333</td>\n",
       "    </tr>\n",
       "    <tr>\n",
       "      <th>5</th>\n",
       "      <td>CHOWCHILLA</td>\n",
       "      <td>2010</td>\n",
       "      <td>Madera</td>\n",
       "      <td>DryBean</td>\n",
       "      <td>1.940346</td>\n",
       "      <td>3.780712</td>\n",
       "      <td>93638</td>\n",
       "      <td>14.15</td>\n",
       "      <td>131776.000000</td>\n",
       "    </tr>\n",
       "    <tr>\n",
       "      <th>6</th>\n",
       "      <td>CHOWCHILLA</td>\n",
       "      <td>2010</td>\n",
       "      <td>Madera</td>\n",
       "      <td>Grain</td>\n",
       "      <td>1.026442</td>\n",
       "      <td>23115.720015</td>\n",
       "      <td>93638</td>\n",
       "      <td>14.15</td>\n",
       "      <td>1018.426000</td>\n",
       "    </tr>\n",
       "    <tr>\n",
       "      <th>7</th>\n",
       "      <td>CHOWCHILLA</td>\n",
       "      <td>2010</td>\n",
       "      <td>Madera</td>\n",
       "      <td>Onion&amp;Garlic</td>\n",
       "      <td>2.918113</td>\n",
       "      <td>9.562978</td>\n",
       "      <td>93638</td>\n",
       "      <td>14.15</td>\n",
       "      <td>7614.750000</td>\n",
       "    </tr>\n",
       "    <tr>\n",
       "      <th>8</th>\n",
       "      <td>CHOWCHILLA</td>\n",
       "      <td>2010</td>\n",
       "      <td>Madera</td>\n",
       "      <td>DeciduousPlant</td>\n",
       "      <td>3.471690</td>\n",
       "      <td>324.251682</td>\n",
       "      <td>93638</td>\n",
       "      <td>14.15</td>\n",
       "      <td>5564.693333</td>\n",
       "    </tr>\n",
       "    <tr>\n",
       "      <th>9</th>\n",
       "      <td>CHOWCHILLA</td>\n",
       "      <td>2010</td>\n",
       "      <td>Madera</td>\n",
       "      <td>FieldCrop</td>\n",
       "      <td>2.519371</td>\n",
       "      <td>46.146930</td>\n",
       "      <td>93638</td>\n",
       "      <td>14.15</td>\n",
       "      <td>17880.060000</td>\n",
       "    </tr>\n",
       "    <tr>\n",
       "      <th>10</th>\n",
       "      <td>CHOWCHILLA</td>\n",
       "      <td>2010</td>\n",
       "      <td>Madera</td>\n",
       "      <td>TropicalPlant</td>\n",
       "      <td>1.139580</td>\n",
       "      <td>1768.928584</td>\n",
       "      <td>93638</td>\n",
       "      <td>14.15</td>\n",
       "      <td>11736.666667</td>\n",
       "    </tr>\n",
       "    <tr>\n",
       "      <th>11</th>\n",
       "      <td>CHOWCHILLA</td>\n",
       "      <td>2010</td>\n",
       "      <td>Madera</td>\n",
       "      <td>Pasture</td>\n",
       "      <td>4.207748</td>\n",
       "      <td>16459.219959</td>\n",
       "      <td>93638</td>\n",
       "      <td>14.15</td>\n",
       "      <td>0.000000</td>\n",
       "    </tr>\n",
       "    <tr>\n",
       "      <th>12</th>\n",
       "      <td>CHOWCHILLA</td>\n",
       "      <td>2010</td>\n",
       "      <td>Madera</td>\n",
       "      <td>Potato</td>\n",
       "      <td>1.248577</td>\n",
       "      <td>13.566085</td>\n",
       "      <td>93638</td>\n",
       "      <td>14.15</td>\n",
       "      <td>7267.500000</td>\n",
       "    </tr>\n",
       "    <tr>\n",
       "      <th>13</th>\n",
       "      <td>CHOWCHILLA</td>\n",
       "      <td>2010</td>\n",
       "      <td>Madera</td>\n",
       "      <td>ProcessedTomato</td>\n",
       "      <td>2.520835</td>\n",
       "      <td>919.602677</td>\n",
       "      <td>93638</td>\n",
       "      <td>14.15</td>\n",
       "      <td>NaN</td>\n",
       "    </tr>\n",
       "    <tr>\n",
       "      <th>14</th>\n",
       "      <td>CHOWCHILLA</td>\n",
       "      <td>2010</td>\n",
       "      <td>Madera</td>\n",
       "      <td>Rice</td>\n",
       "      <td>4.885808</td>\n",
       "      <td>5.782266</td>\n",
       "      <td>93638</td>\n",
       "      <td>14.15</td>\n",
       "      <td>1772.320000</td>\n",
       "    </tr>\n",
       "    <tr>\n",
       "      <th>15</th>\n",
       "      <td>CHOWCHILLA</td>\n",
       "      <td>2010</td>\n",
       "      <td>Madera</td>\n",
       "      <td>Safflower</td>\n",
       "      <td>2.104100</td>\n",
       "      <td>19.570746</td>\n",
       "      <td>93638</td>\n",
       "      <td>14.15</td>\n",
       "      <td>53000.000000</td>\n",
       "    </tr>\n",
       "    <tr>\n",
       "      <th>16</th>\n",
       "      <td>CHOWCHILLA</td>\n",
       "      <td>2010</td>\n",
       "      <td>Madera</td>\n",
       "      <td>SubtropicalPlant</td>\n",
       "      <td>2.727559</td>\n",
       "      <td>58.489844</td>\n",
       "      <td>93638</td>\n",
       "      <td>14.15</td>\n",
       "      <td>3714.695000</td>\n",
       "    </tr>\n",
       "    <tr>\n",
       "      <th>17</th>\n",
       "      <td>CHOWCHILLA</td>\n",
       "      <td>2010</td>\n",
       "      <td>Madera</td>\n",
       "      <td>GrapeFruit</td>\n",
       "      <td>2.531771</td>\n",
       "      <td>5483.367257</td>\n",
       "      <td>93638</td>\n",
       "      <td>14.15</td>\n",
       "      <td>4563.000000</td>\n",
       "    </tr>\n",
       "  </tbody>\n",
       "</table>\n",
       "</div>"
      ],
      "text/plain": [
       "    Subbasin_N  Year  County              Crop  WaterUsagePerAcre  \\\n",
       "0   CHOWCHILLA  2010  Madera  Almond&Pistachio           3.344023   \n",
       "1   CHOWCHILLA  2010  Madera           Alfalfa           4.318180   \n",
       "2   CHOWCHILLA  2010  Madera              Corn           2.545571   \n",
       "3   CHOWCHILLA  2010  Madera            Cotton           3.152639   \n",
       "4   CHOWCHILLA  2010  Madera    Melon&Cucumber           1.605352   \n",
       "5   CHOWCHILLA  2010  Madera           DryBean           1.940346   \n",
       "6   CHOWCHILLA  2010  Madera             Grain           1.026442   \n",
       "7   CHOWCHILLA  2010  Madera      Onion&Garlic           2.918113   \n",
       "8   CHOWCHILLA  2010  Madera    DeciduousPlant           3.471690   \n",
       "9   CHOWCHILLA  2010  Madera         FieldCrop           2.519371   \n",
       "10  CHOWCHILLA  2010  Madera     TropicalPlant           1.139580   \n",
       "11  CHOWCHILLA  2010  Madera           Pasture           4.207748   \n",
       "12  CHOWCHILLA  2010  Madera            Potato           1.248577   \n",
       "13  CHOWCHILLA  2010  Madera   ProcessedTomato           2.520835   \n",
       "14  CHOWCHILLA  2010  Madera              Rice           4.885808   \n",
       "15  CHOWCHILLA  2010  Madera         Safflower           2.104100   \n",
       "16  CHOWCHILLA  2010  Madera  SubtropicalPlant           2.727559   \n",
       "17  CHOWCHILLA  2010  Madera        GrapeFruit           2.531771   \n",
       "\n",
       "            Acre  zipcode  Precip       EcnValue  \n",
       "0   36958.464642    93638   14.15    7575.600000  \n",
       "1   34392.028150    93638   14.15    1442.000000  \n",
       "2    6004.104783    93638   14.15    1278.095000  \n",
       "3    3535.633219    93638   14.15  227920.000000  \n",
       "4     163.237815    93638   14.15    5715.333333  \n",
       "5       3.780712    93638   14.15  131776.000000  \n",
       "6   23115.720015    93638   14.15    1018.426000  \n",
       "7       9.562978    93638   14.15    7614.750000  \n",
       "8     324.251682    93638   14.15    5564.693333  \n",
       "9      46.146930    93638   14.15   17880.060000  \n",
       "10   1768.928584    93638   14.15   11736.666667  \n",
       "11  16459.219959    93638   14.15       0.000000  \n",
       "12     13.566085    93638   14.15    7267.500000  \n",
       "13    919.602677    93638   14.15            NaN  \n",
       "14      5.782266    93638   14.15    1772.320000  \n",
       "15     19.570746    93638   14.15   53000.000000  \n",
       "16     58.489844    93638   14.15    3714.695000  \n",
       "17   5483.367257    93638   14.15    4563.000000  "
      ]
     },
     "execution_count": 9,
     "metadata": {},
     "output_type": "execute_result"
    }
   ],
   "source": [
    "cont_pd[0]"
   ]
  },
  {
   "cell_type": "code",
   "execution_count": 10,
   "metadata": {
    "collapsed": false
   },
   "outputs": [
    {
     "name": "stdout",
     "output_type": "stream",
     "text": [
      "[u'Almond&Pistachio' u'Alfalfa' u'Corn' u'Cotton' u'Melon&Cucumber'\n",
      " u'DryBean' u'Grain' u'Onion&Garlic' u'DeciduousPlant' u'FieldCrop'\n",
      " u'TropicalPlant' u'Pasture' u'Potato' u'ProcessedTomato' u'Rice'\n",
      " u'Safflower' u'SubtropicalPlant' u'GrapeFruit']\n"
     ]
    }
   ],
   "source": [
    "print data2010['Crop'].unique()\n",
    "x = ['Al Pist', 'Alfalfa','Corn', 'Cotton', 'Cucurb', 'DryBean', 'Grain', 'On Gar', 'Oth Dec', 'Oth Fld',\n",
    "    'Oth Trk', 'Pasture', 'Potato', 'Pr Tom', 'Safflwr', 'Subtrop', 'Vine']"
   ]
  },
  {
   "cell_type": "code",
   "execution_count": 11,
   "metadata": {
    "collapsed": false
   },
   "outputs": [],
   "source": [
    "names = ['CHOWCHILLA', 'MADERA', 'COSUMNES', 'EASTERN SAN JOAQUIN', 'TRACY', 'DELTA-MENDOTA', 'MODESTO', \n",
    "        'TURLOCK', 'KAWEAH', 'TULE', 'KERN COUNTY', 'WHITE WOLF', 'KETTLEMAN PLAIN', 'KINGS', 'TULARE LAKE',\n",
    "        'MERCED', 'PLEASANT VALLEY', 'WESTSIDE']"
   ]
  },
  {
   "cell_type": "code",
   "execution_count": 12,
   "metadata": {
    "collapsed": false
   },
   "outputs": [],
   "source": [
    "# assigen data into subasion dataframe, add appropriate column and sort it.\n",
    "cont = [0] * 18\n",
    "for i in range(0,18):\n",
    "    cont[i] = pd.DataFrame(data2010[data2010['Subbasin_N'] == name_list[i]])\n",
    "    cont[i] = cont[i].reset_index(drop=True)\n",
    "    \n",
    "    num = cont[i][cont[i]['Crop'] == 'Pasture'].index\n",
    "    cont[i] = cont[i].drop(cont[i].index[num])\n",
    "    cont[i] = cont[i].reset_index(drop=True)\n",
    "    \n",
    "    approp = cont[i]['WaterUsagePerAcre']*12/cont[i]['Precip']\n",
    "    cont[i]['Appropriate'] = pd.Series(approp,index = cont[i].index)\n",
    "    cont[i] = cont[i].sort_values('Appropriate', axis=0)"
   ]
  },
  {
   "cell_type": "code",
   "execution_count": 13,
   "metadata": {
    "collapsed": false
   },
   "outputs": [
    {
     "data": {
      "text/plain": [
       "[[u'DryBean', u'Safflower', u'FieldCrop'],\n",
       " [u'DryBean', u'Safflower', u'Onion&Garlic'],\n",
       " [u'DryBean', u'Safflower', u'TropicalPlant'],\n",
       " [u'DryBean', u'Safflower', u'Onion&Garlic'],\n",
       " [u'Safflower', u'FieldCrop', u'TropicalPlant'],\n",
       " [u'Cotton', u'Safflower', u'FieldCrop'],\n",
       " [u'Cotton', u'DryBean', u'Safflower'],\n",
       " [u'Safflower', u'FieldCrop', u'TropicalPlant'],\n",
       " [u'DryBean', u'Safflower', u'FieldCrop'],\n",
       " [u'DryBean', u'Safflower', u'TropicalPlant'],\n",
       " [u'DryBean', u'Safflower', u'TropicalPlant'],\n",
       " [u'Cotton', u'DryBean', u'Safflower'],\n",
       " [u'DryBean', u'Safflower', u'Onion&Garlic'],\n",
       " [u'Safflower', u'FieldCrop', u'TropicalPlant'],\n",
       " [u'Cotton', u'FieldCrop', u'TropicalPlant'],\n",
       " [u'DryBean', u'Safflower', u'TropicalPlant'],\n",
       " [u'DryBean', u'Safflower', u'TropicalPlant'],\n",
       " [u'Cotton', u'TropicalPlant', u'Almond&Pistachio']]"
      ]
     },
     "execution_count": 13,
     "metadata": {},
     "output_type": "execute_result"
    }
   ],
   "source": [
    "# Combine with econ value\n",
    "Top3_list = []\n",
    "for i in range(0,18):\n",
    "    a = list(cont[i][0:7].sort_values('EcnValue', axis=0, ascending = False)['Crop'][0:3])\n",
    "    Top3_list.append(a)\n",
    "Top3_list"
   ]
  },
  {
   "cell_type": "code",
   "execution_count": 14,
   "metadata": {
    "collapsed": false
   },
   "outputs": [
    {
     "data": {
      "text/plain": [
       "0               [DryBean, Safflower, FieldCrop]\n",
       "1            [DryBean, Safflower, Onion&Garlic]\n",
       "2           [DryBean, Safflower, TropicalPlant]\n",
       "3            [DryBean, Safflower, Onion&Garlic]\n",
       "4         [Safflower, FieldCrop, TropicalPlant]\n",
       "5                [Cotton, Safflower, FieldCrop]\n",
       "6                  [Cotton, DryBean, Safflower]\n",
       "7         [Safflower, FieldCrop, TropicalPlant]\n",
       "8               [DryBean, Safflower, FieldCrop]\n",
       "9           [DryBean, Safflower, TropicalPlant]\n",
       "10          [DryBean, Safflower, TropicalPlant]\n",
       "11                 [Cotton, DryBean, Safflower]\n",
       "12           [DryBean, Safflower, Onion&Garlic]\n",
       "13        [Safflower, FieldCrop, TropicalPlant]\n",
       "14           [Cotton, FieldCrop, TropicalPlant]\n",
       "15          [DryBean, Safflower, TropicalPlant]\n",
       "16          [DryBean, Safflower, TropicalPlant]\n",
       "17    [Cotton, TropicalPlant, Almond&Pistachio]\n",
       "Name: Top3_Suggested_Crop, dtype: object"
      ]
     },
     "execution_count": 14,
     "metadata": {},
     "output_type": "execute_result"
    }
   ],
   "source": [
    "Top3_df = pd.DataFrame(\n",
    "    {'Subbasin': names,\n",
    "     'Top3_Suggested_Crop': Top3_list,\n",
    "    })\n",
    "Top3_df['Top3_Suggested_Crop']"
   ]
  },
  {
   "cell_type": "code",
   "execution_count": 15,
   "metadata": {
    "collapsed": false
   },
   "outputs": [],
   "source": [
    "Lon_lat = pd.read_excel('18Sub_Lon_Lat.xlsx')\n",
    "Lon_lat\n",
    "combine_df = pd.merge(Lon_lat, Top3_df, left_on = \"Subbasin_N\", right_on = \"Subbasin\", how = \"left\")\n",
    "del combine_df['Subbasin']"
   ]
  },
  {
   "cell_type": "code",
   "execution_count": 149,
   "metadata": {
    "collapsed": false
   },
   "outputs": [],
   "source": [
    "writer = pd.ExcelWriter('Lon_lat.xlsx', engine='xlsxwriter')\n",
    "combine_df.to_excel(writer, sheet_name='Sheet1')\n",
    "writer.save()"
   ]
  },
  {
   "cell_type": "code",
   "execution_count": 19,
   "metadata": {
    "collapsed": true
   },
   "outputs": [],
   "source": [
    "import requests\n",
    "import requests_cache\n",
    "requests_cache.install_cache(\"cache\")\n",
    "import plotly \n",
    "plotly.tools.set_credentials_file(username='xiyy0929', api_key='qxnzYGi5IRe09usYNkit')"
   ]
  },
  {
   "cell_type": "code",
   "execution_count": 20,
   "metadata": {
    "collapsed": false
   },
   "outputs": [
    {
     "data": {
      "text/html": [
       "<iframe id=\"igraph\" scrolling=\"no\" style=\"border:none;\" seamless=\"seamless\" src=\"https://plot.ly/~xiyy0929/2.embed\" height=\"525px\" width=\"100%\"></iframe>"
      ],
      "text/plain": [
       "<plotly.tools.PlotlyDisplay object>"
      ]
     },
     "execution_count": 20,
     "metadata": {},
     "output_type": "execute_result"
    }
   ],
   "source": [
    "import plotly.plotly as py\n",
    "import plotly.graph_objs as go\n",
    "\n",
    "\n",
    "trace = [0]*18\n",
    "for i in range(0,18):\n",
    "    trace[i] = go.Bar(\n",
    "        x=cont[i]['Crop'],\n",
    "        y=cont[i]['Appropriate'],\n",
    "        name = names[i]\n",
    "    )\n",
    "\n",
    "data = [trace[0], trace[1], trace[2], trace[3], trace[4], trace[5], trace[6], trace[7], trace[8], trace[9], trace[10],\n",
    "       trace[11], trace[12], trace[13], trace[14], trace[15], trace[16], trace[17]]\n",
    "layout = go.Layout(\n",
    "    barmode='group'\n",
    ")\n",
    "\n",
    "showtickprefix='first'\n",
    "\n",
    "fig = go.Figure(data=data, layout=layout)\n",
    "py.iplot(fig, filename='grouped-bar')"
   ]
  },
  {
   "cell_type": "code",
   "execution_count": 22,
   "metadata": {
    "collapsed": false
   },
   "outputs": [
    {
     "data": {
      "text/html": [
       "<iframe id=\"igraph\" scrolling=\"no\" style=\"border:none;\" seamless=\"seamless\" src=\"https://plot.ly/~xiyy0929/2.embed\" height=\"525px\" width=\"100%\"></iframe>"
      ],
      "text/plain": [
       "<plotly.tools.PlotlyDisplay object>"
      ]
     },
     "execution_count": 22,
     "metadata": {},
     "output_type": "execute_result"
    }
   ],
   "source": [
    "import plotly.plotly as py\n",
    "import plotly.graph_objs as go\n",
    "\n",
    "\n",
    "trace = [0]*18\n",
    "for i in range(0,18):\n",
    "    trace[i] = go.Bar(\n",
    "        x=cont[i]['Crop'],\n",
    "        y=cont[i]['Appropriate'],\n",
    "        name = names[i]\n",
    "    )\n",
    "\n",
    "data = [trace[0], trace[1], trace[2], trace[3], trace[4], trace[5], trace[6], trace[7], trace[8], trace[9], trace[10],\n",
    "       trace[11], trace[12], trace[13], trace[14], trace[15], trace[16], trace[17]]\n",
    "layout = go.Layout(\n",
    "    barmode='group'\n",
    ")\n",
    "\n",
    "showtickprefix='first'\n",
    "\n",
    "fig = go.Figure(data=data, layout=layout)\n",
    "py.iplot(fig, filename='grouped-bar')"
   ]
  },
  {
   "cell_type": "code",
   "execution_count": 24,
   "metadata": {
    "collapsed": false
   },
   "outputs": [
    {
     "name": "stdout",
     "output_type": "stream",
     "text": [
      "                Crop      EconValue\n",
      "3             Cotton  227920.000000\n",
      "5            DryBean  131776.000000\n",
      "13         Safflower   53000.000000\n",
      "9          FieldCrop   17880.060000\n",
      "10     TropicalPlant   11736.666667\n",
      "7       Onion&Garlic    7614.750000\n",
      "0   Almond&Pistachio    7575.600000\n",
      "11            Potato    7267.500000\n",
      "4     Melon&Cucumber    5715.333333\n",
      "8     DeciduousPlant    5564.693333\n",
      "15        GrapeFruit    4563.000000\n",
      "14  SubtropicalPlant    3714.695000\n",
      "12              Rice    1772.320000\n",
      "1            Alfalfa    1442.000000\n",
      "2               Corn    1278.095000\n",
      "6              Grain    1018.426000\n"
     ]
    },
    {
     "data": {
      "image/png": "[encoded data removed]",
      "text/plain": [
       "<matplotlib.figure.Figure at 0x112787e50>"
      ]
     },
     "metadata": {},
     "output_type": "display_data"
    }
   ],
   "source": [
    "# make my list into a dataframe\n",
    "a = data2010['Crop']\n",
    "b = data2010['EcnValue']\n",
    "econ_df = pd.DataFrame({'Crop':a, 'EconValue': b})\n",
    "econ_df = econ_df.drop_duplicates()\n",
    "# drop pasture(value is zero) drop Pr Tom since cannot find the econ value\n",
    "econ_df = econ_df.drop(econ_df.index[[11,13]])\n",
    "econ_df = econ_df.reset_index(drop=True)\n",
    "econ_df = econ_df.sort_values('EconValue',axis = 0, ascending = False)\n",
    "print econ_df\n",
    "sns.factorplot(\"Crop\", 'EconValue',data = econ_df, kind = \"bar\", size=4, aspect=4)\n",
    "sns.plt.title(\"Bar Plot for Economic Value for dofferent crops\")\n",
    "plt.show()"
   ]
  },
  {
   "cell_type": "code",
   "execution_count": null,
   "metadata": {
    "collapsed": true
   },
   "outputs": [],
   "source": [
    "[u'Melon&Cucumber', u'DeciduousPlant', u'Potato' u'Pr Tom', u'SubtropicalPlant' u'GrapeFruit']"
   ]
  },
  {
   "cell_type": "code",
   "execution_count": null,
   "metadata": {
    "collapsed": true
   },
   "outputs": [],
   "source": [
    "u'Potato' u'Melon&Cucumber' u'DeciduousPlant'"
   ]
  },
  {
   "cell_type": "code",
   "execution_count": null,
   "metadata": {
    "collapsed": true
   },
   "outputs": [],
   "source": []
  },
  {
   "cell_type": "code",
   "execution_count": null,
   "metadata": {
    "collapsed": true
   },
   "outputs": [],
   "source": []
  },
  {
   "cell_type": "code",
   "execution_count": 25,
   "metadata": {
    "collapsed": true
   },
   "outputs": [],
   "source": [
    "def add(df):\n",
    "    approp = df['WaterUsagePerAcre']*12/df['Precip']\n",
    "    df['Appropriate'] = pd.Series(approp,index = df.index)\n",
    "    df = df.sort_values('Appropriate', axis=0)\n",
    "    df = df.reset_index(drop=True)\n",
    "    return df"
   ]
  },
  {
   "cell_type": "code",
   "execution_count": 26,
   "metadata": {
    "collapsed": false
   },
   "outputs": [],
   "source": [
    "a = data2010[data2010['Crop'] == 'Potato']\n",
    "b = data2010[data2010['Crop'] == 'Melon&Cucumber']\n",
    "c = data2010[data2010['Crop'] == 'DeciduousPlant']\n",
    "Cotton = add(a.copy())\n",
    "DryBean = add(b.copy())\n",
    "Safflwr = add(c.copy())"
   ]
  },
  {
   "cell_type": "code",
   "execution_count": 21,
   "metadata": {
    "collapsed": false
   },
   "outputs": [
    {
     "ename": "NameError",
     "evalue": "name 'Cotton' is not defined",
     "output_type": "error",
     "traceback": [
      "\u001b[0;31m---------------------------------------------------------------------------\u001b[0m",
      "\u001b[0;31mNameError\u001b[0m                                 Traceback (most recent call last)",
      "\u001b[0;32m<ipython-input-21-3b8fc64c57f9>\u001b[0m in \u001b[0;36m<module>\u001b[0;34m()\u001b[0m\n\u001b[1;32m      4\u001b[0m \u001b[0;34m\u001b[0m\u001b[0m\n\u001b[1;32m      5\u001b[0m trace1 = go.Bar(\n\u001b[0;32m----> 6\u001b[0;31m     \u001b[0mx\u001b[0m\u001b[0;34m=\u001b[0m\u001b[0mCotton\u001b[0m\u001b[0;34m[\u001b[0m\u001b[0;34m'Subbasin_N'\u001b[0m\u001b[0;34m]\u001b[0m\u001b[0;34m,\u001b[0m\u001b[0;34m\u001b[0m\u001b[0m\n\u001b[0m\u001b[1;32m      7\u001b[0m     \u001b[0my\u001b[0m\u001b[0;34m=\u001b[0m\u001b[0mCotton\u001b[0m\u001b[0;34m[\u001b[0m\u001b[0;34m'Appropriate'\u001b[0m\u001b[0;34m]\u001b[0m\u001b[0;34m,\u001b[0m\u001b[0;34m\u001b[0m\u001b[0m\n\u001b[1;32m      8\u001b[0m     \u001b[0mname\u001b[0m \u001b[0;34m=\u001b[0m \u001b[0;34m'Potato'\u001b[0m\u001b[0;34m\u001b[0m\u001b[0m\n",
      "\u001b[0;31mNameError\u001b[0m: name 'Cotton' is not defined"
     ]
    }
   ],
   "source": [
    "from plotly import tools\n",
    "import plotly.plotly as py\n",
    "import plotly.graph_objs as go\n",
    "\n",
    "trace1 = go.Bar(\n",
    "    x=Cotton['Subbasin_N'],\n",
    "    y=Cotton['Appropriate'],\n",
    "    name = 'Potato'\n",
    ")\n",
    "\n",
    "trace2 = go.Bar(\n",
    "    x=DryBean['Subbasin_N'],\n",
    "    y=DryBean['Appropriate'],\n",
    "    name = 'Melon&Cucumber'\n",
    ")\n",
    "\n",
    "trace3 = go.Bar(\n",
    "    x=Safflwr['Subbasin_N'],\n",
    "    y=Safflwr['Appropriate'],\n",
    "    name = 'DeciduousPlant'\n",
    ")\n",
    "\n",
    "\n",
    "fig = tools.make_subplots(rows=3, cols=1)\n",
    "\n",
    "fig.append_trace(trace1, 1, 1)\n",
    "fig.append_trace(trace2, 2, 1)\n",
    "fig.append_trace(trace3, 3, 1)\n",
    "\n",
    "\n",
    "fig['layout']['xaxis1'].update(title='Subasin' )\n",
    "fig['layout']['xaxis2'].update(title='Subasin' )\n",
    "fig['layout']['xaxis3'].update(title='Subasin' )\n",
    "\n",
    "\n",
    "fig['layout']['yaxis1'].update(title='Appropriateness',range=[0, 5])\n",
    "fig['layout']['yaxis2'].update(title='Appropriateness', range=[0, 5])\n",
    "fig['layout']['yaxis3'].update(title='Appropriateness', range=[0, 5])\n",
    "\n",
    "fig['layout'].update(title='Other Interested Crops')\n",
    "\n",
    "py.iplot(fig, filename='Other Three Instrested Crops')"
   ]
  },
  {
   "cell_type": "code",
   "execution_count": null,
   "metadata": {
    "collapsed": true
   },
   "outputs": [],
   "source": []
  },
  {
   "cell_type": "code",
   "execution_count": null,
   "metadata": {
    "collapsed": true
   },
   "outputs": [],
   "source": []
  }
 ],
 "metadata": {
  "anaconda-cloud": {},
  "kernelspec": {
   "display_name": "Python 2",
   "language": "python",
   "name": "python2"
  },
  "language_info": {
   "codemirror_mode": {
    "name": "ipython",
    "version": 2
   },
   "file_extension": ".py",
   "mimetype": "text/x-python",
   "name": "python",
   "nbconvert_exporter": "python",
   "pygments_lexer": "ipython2",
   "version": "2.7.12"
  }
 },
 "nbformat": 4,
 "nbformat_minor": 1
}
