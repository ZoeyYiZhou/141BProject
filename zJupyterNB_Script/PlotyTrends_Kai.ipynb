{
 "cells": [
  {
   "cell_type": "markdown",
   "metadata": {},
   "source": [
    "Crop value extract from https://www.nass.usda.gov/Statistics_by_State/California/Publications/California_Ag_Statistics/CAFieldCrops.pdf cwt is unit 100pounds https://www.nass.usda.gov/Statistics_by_State/California/Publications/\n",
    "In [283]:\n"
   ]
  },
  {
   "cell_type": "code",
   "execution_count": 9,
   "metadata": {
    "collapsed": true
   },
   "outputs": [],
   "source": [
    "from urllib2 import Request, urlopen\n",
    "from urlparse import urlparse, urlunparse\n",
    "import requests, requests_cache\n",
    "import pandas as pd\n",
    "import json\n",
    "import os\n",
    "import numpy as np\n",
    "\n",
    "from matplotlib import pyplot as plt\n",
    "plt.style.use('ggplot')\n",
    "%matplotlib inline\n",
    "\n",
    "\n",
    "from urllib2 import Request, urlopen\n",
    "\n",
    "import requests\n",
    "# In terminal: conda install requests\n",
    "import requests_cache\n",
    "# In terminal: pip install requests_cache"
   ]
  },
  {
   "cell_type": "code",
   "execution_count": 12,
   "metadata": {
    "collapsed": false
   },
   "outputs": [],
   "source": [
    "os.chdir('/Users/kaijin/Downloads')"
   ]
  },
  {
   "cell_type": "code",
   "execution_count": 13,
   "metadata": {
    "collapsed": false
   },
   "outputs": [
    {
     "data": {
      "text/html": [
       "<div>\n",
       "<table border=\"1\" class=\"dataframe\">\n",
       "  <thead>\n",
       "    <tr style=\"text-align: right;\">\n",
       "      <th></th>\n",
       "      <th>Subbasin_N</th>\n",
       "      <th>Year</th>\n",
       "      <th>County</th>\n",
       "      <th>Crop</th>\n",
       "      <th>WaterUsagePerAcre</th>\n",
       "      <th>Acre</th>\n",
       "      <th>zipcode</th>\n",
       "      <th>Precip</th>\n",
       "      <th>EcnValue</th>\n",
       "    </tr>\n",
       "  </thead>\n",
       "  <tbody>\n",
       "    <tr>\n",
       "      <th>0</th>\n",
       "      <td>CHOWCHILLA</td>\n",
       "      <td>2010</td>\n",
       "      <td>Madera</td>\n",
       "      <td>Al Pist</td>\n",
       "      <td>3.344023</td>\n",
       "      <td>36958.464642</td>\n",
       "      <td>93638</td>\n",
       "      <td>14.15</td>\n",
       "      <td>7575.600000</td>\n",
       "    </tr>\n",
       "    <tr>\n",
       "      <th>1</th>\n",
       "      <td>CHOWCHILLA</td>\n",
       "      <td>2010</td>\n",
       "      <td>Madera</td>\n",
       "      <td>Alfalfa</td>\n",
       "      <td>4.318180</td>\n",
       "      <td>34392.028150</td>\n",
       "      <td>93638</td>\n",
       "      <td>14.15</td>\n",
       "      <td>1442.000000</td>\n",
       "    </tr>\n",
       "    <tr>\n",
       "      <th>2</th>\n",
       "      <td>CHOWCHILLA</td>\n",
       "      <td>2010</td>\n",
       "      <td>Madera</td>\n",
       "      <td>Corn</td>\n",
       "      <td>2.545571</td>\n",
       "      <td>6004.104783</td>\n",
       "      <td>93638</td>\n",
       "      <td>14.15</td>\n",
       "      <td>1278.095000</td>\n",
       "    </tr>\n",
       "    <tr>\n",
       "      <th>3</th>\n",
       "      <td>CHOWCHILLA</td>\n",
       "      <td>2010</td>\n",
       "      <td>Madera</td>\n",
       "      <td>Cotton</td>\n",
       "      <td>3.152639</td>\n",
       "      <td>3535.633219</td>\n",
       "      <td>93638</td>\n",
       "      <td>14.15</td>\n",
       "      <td>227920.000000</td>\n",
       "    </tr>\n",
       "    <tr>\n",
       "      <th>4</th>\n",
       "      <td>CHOWCHILLA</td>\n",
       "      <td>2010</td>\n",
       "      <td>Madera</td>\n",
       "      <td>Cucurb</td>\n",
       "      <td>1.605352</td>\n",
       "      <td>163.237815</td>\n",
       "      <td>93638</td>\n",
       "      <td>14.15</td>\n",
       "      <td>5715.333333</td>\n",
       "    </tr>\n",
       "  </tbody>\n",
       "</table>\n",
       "</div>"
      ],
      "text/plain": [
       "   Subbasin_N  Year  County     Crop  WaterUsagePerAcre          Acre  \\\n",
       "0  CHOWCHILLA  2010  Madera  Al Pist           3.344023  36958.464642   \n",
       "1  CHOWCHILLA  2010  Madera  Alfalfa           4.318180  34392.028150   \n",
       "2  CHOWCHILLA  2010  Madera     Corn           2.545571   6004.104783   \n",
       "3  CHOWCHILLA  2010  Madera   Cotton           3.152639   3535.633219   \n",
       "4  CHOWCHILLA  2010  Madera   Cucurb           1.605352    163.237815   \n",
       "\n",
       "   zipcode  Precip       EcnValue  \n",
       "0    93638   14.15    7575.600000  \n",
       "1    93638   14.15    1442.000000  \n",
       "2    93638   14.15    1278.095000  \n",
       "3    93638   14.15  227920.000000  \n",
       "4    93638   14.15    5715.333333  "
      ]
     },
     "execution_count": 13,
     "metadata": {},
     "output_type": "execute_result"
    }
   ],
   "source": [
    "file1=pd.read_excel(\"SubB_Yr_Cnty_Crp_Wtr_Acr_Zip_Prcip_Ecn.xlsx\")\n",
    "file1.head()"
   ]
  },
  {
   "cell_type": "code",
   "execution_count": 14,
   "metadata": {
    "collapsed": false
   },
   "outputs": [
    {
     "data": {
      "text/html": [
       "<div>\n",
       "<table border=\"1\" class=\"dataframe\">\n",
       "  <thead>\n",
       "    <tr>\n",
       "      <th></th>\n",
       "      <th></th>\n",
       "      <th></th>\n",
       "      <th></th>\n",
       "      <th>WaterUsagePerAcre</th>\n",
       "      <th>Precip</th>\n",
       "      <th>Acre</th>\n",
       "    </tr>\n",
       "    <tr>\n",
       "      <th></th>\n",
       "      <th></th>\n",
       "      <th></th>\n",
       "      <th></th>\n",
       "      <th>mean</th>\n",
       "      <th>mean</th>\n",
       "      <th>sum</th>\n",
       "    </tr>\n",
       "    <tr>\n",
       "      <th>Subbasin_N</th>\n",
       "      <th>County</th>\n",
       "      <th>Year</th>\n",
       "      <th>Crop</th>\n",
       "      <th></th>\n",
       "      <th></th>\n",
       "      <th></th>\n",
       "    </tr>\n",
       "  </thead>\n",
       "  <tbody>\n",
       "    <tr>\n",
       "      <th rowspan=\"5\" valign=\"top\">CHOWCHILLA</th>\n",
       "      <th rowspan=\"5\" valign=\"top\">Madera</th>\n",
       "      <th rowspan=\"5\" valign=\"top\">2010</th>\n",
       "      <th>Al Pist</th>\n",
       "      <td>3.344023</td>\n",
       "      <td>14.15</td>\n",
       "      <td>36958.464642</td>\n",
       "    </tr>\n",
       "    <tr>\n",
       "      <th>Alfalfa</th>\n",
       "      <td>4.318180</td>\n",
       "      <td>14.15</td>\n",
       "      <td>34392.028150</td>\n",
       "    </tr>\n",
       "    <tr>\n",
       "      <th>Corn</th>\n",
       "      <td>2.545571</td>\n",
       "      <td>14.15</td>\n",
       "      <td>6004.104783</td>\n",
       "    </tr>\n",
       "    <tr>\n",
       "      <th>Cotton</th>\n",
       "      <td>3.152639</td>\n",
       "      <td>14.15</td>\n",
       "      <td>3535.633219</td>\n",
       "    </tr>\n",
       "    <tr>\n",
       "      <th>Cucurb</th>\n",
       "      <td>1.605352</td>\n",
       "      <td>14.15</td>\n",
       "      <td>163.237815</td>\n",
       "    </tr>\n",
       "  </tbody>\n",
       "</table>\n",
       "</div>"
      ],
      "text/plain": [
       "                               WaterUsagePerAcre Precip          Acre\n",
       "                                            mean   mean           sum\n",
       "Subbasin_N County Year Crop                                          \n",
       "CHOWCHILLA Madera 2010 Al Pist          3.344023  14.15  36958.464642\n",
       "                       Alfalfa          4.318180  14.15  34392.028150\n",
       "                       Corn             2.545571  14.15   6004.104783\n",
       "                       Cotton           3.152639  14.15   3535.633219\n",
       "                       Cucurb           1.605352  14.15    163.237815"
      ]
     },
     "execution_count": 14,
     "metadata": {},
     "output_type": "execute_result"
    }
   ],
   "source": [
    "f = {'Acre':['sum'], 'WaterUsagePerAcre':['mean'],\"Precip\":['mean']}\n",
    "grouped_data=file1.groupby(['Subbasin_N', 'County', 'Year', 'Crop']).agg(f)\n",
    "grouped_data.head()"
   ]
  },
  {
   "cell_type": "code",
   "execution_count": 15,
   "metadata": {
    "collapsed": false
   },
   "outputs": [
    {
     "name": "stdout",
     "output_type": "stream",
     "text": [
      "2.56030331608 4.70053080302\n"
     ]
    }
   ],
   "source": [
    "cutoff1=np.percentile(grouped_data[\"WaterUsagePerAcre\"], 40)\n",
    "cutoff2=np.percentile(grouped_data[\"WaterUsagePerAcre\"], 90)\n",
    "print cutoff1,cutoff2\n",
    "\n",
    "# get index for high water usage\n",
    "list3=np.array(list(file1.loc[:,\"Crop\"]))\n",
    "# get index for high water usage\n",
    "indexH= np.where(list3 != \"high\")[0]\n",
    "indexH=np.array(indexH).tolist()\n",
    "\n",
    "\n",
    "newtable=file1"
   ]
  },
  {
   "cell_type": "code",
   "execution_count": 16,
   "metadata": {
    "collapsed": false
   },
   "outputs": [],
   "source": [
    "def tiers_split(i):\n",
    "    if newtable[\"WaterUsagePerAcre\"][i]> cutoff2:\n",
    "        return \"high\"\n",
    "    elif newtable[\"WaterUsagePerAcre\"][i]> cutoff1:\n",
    "        return \"medium\"\n",
    "    else:\n",
    "        return \"low\"\n",
    "    \n",
    "newtable[\"tiers\"] = [tiers_split(i)for i in range(len(newtable[\"WaterUsagePerAcre\"]))]\n",
    "newtable[\"total\"]= [newtable[\"WaterUsagePerAcre\"][i]*newtable[\"Acre\"][i] for i in range(len(newtable[\"WaterUsagePerAcre\"]))]"
   ]
  },
  {
   "cell_type": "code",
   "execution_count": 17,
   "metadata": {
    "collapsed": false
   },
   "outputs": [],
   "source": [
    "\n",
    "def common_elements(list1, list2):\n",
    "    \"\"\"\n",
    "    Return a list containing the elements which are in both list1 and list2\n",
    "    \n",
    "    \"\"\"\n",
    "    result = []\n",
    "    for element in list1:\n",
    "        if element in list2:\n",
    "            result.append(element)\n",
    "    return result\n",
    "\n",
    "list1=np.array(list(newtable.loc[:,\"tiers\"]))\n",
    "list2=np.array(list(newtable.loc[:,\"Year\"]))\n",
    "\n",
    "\n",
    "# get index for high water usage\n",
    "indexH= np.where(list1 == \"high\")[0]\n",
    "indexH=np.array(indexH).tolist()\n",
    "indexM= np.where(list1 == \"medium\")\n",
    "indexM=np.array(indexM).tolist()[0]\n",
    "indexL= np.where(list1 == \"low\")\n",
    "indexL=np.array(indexL).tolist()[0]\n",
    "\n",
    "indexNew= np.where(list3 != \"Pasture\")[0]\n",
    "indexNew=np.array(indexNew).tolist()\n",
    "indexH=common_elements(indexH,indexNew)\n",
    "indexL=common_elements(indexL,indexNew)\n",
    "indexM=common_elements(indexM,indexNew)\n",
    "\n",
    "\n",
    "# get index for years \n",
    "index2010= np.where(list2 == 2010)\n",
    "index2010=np.array(index2010).tolist()[0]\n",
    "index2011= np.where(list2 == 2011)\n",
    "index2011=np.array(index2011).tolist()[0]\n",
    "index2012= np.where(list2 == 2012)\n",
    "index2012=np.array(index2012).tolist()[0]\n",
    "index2013= np.where(list2 == 2013)\n",
    "index2013=np.array(index2013).tolist()[0]\n",
    "index2014= np.where(list2 == 2014)\n",
    "index2014=np.array(index2014).tolist()[0]\n",
    "index2015= np.where(list2 == 2015)\n",
    "index2015=np.array(index2015).tolist()[0]"
   ]
  },
  {
   "cell_type": "code",
   "execution_count": 18,
   "metadata": {
    "collapsed": false
   },
   "outputs": [
    {
     "data": {
      "text/html": [
       "<iframe id=\"igraph\" scrolling=\"no\" style=\"border:none;\" seamless=\"seamless\" src=\"https://plot.ly/~yizhou1231/6.embed\" height=\"525px\" width=\"100%\"></iframe>"
      ],
      "text/plain": [
       "<plotly.tools.PlotlyDisplay object>"
      ]
     },
     "execution_count": 18,
     "metadata": {},
     "output_type": "execute_result"
    }
   ],
   "source": [
    "\n",
    "\n",
    "# get the common list for year and tiers\n",
    "# remove pastures\n",
    "indexH2010=common_elements(indexH,index2010)\n",
    "indexH2011=common_elements(indexH,index2011)\n",
    "indexH2012=common_elements(indexH,index2012)\n",
    "indexH2013=common_elements(indexH,index2013)\n",
    "indexH2014=common_elements(indexH,index2014)\n",
    "indexH2015=common_elements(indexH,index2015)\n",
    "\n",
    "indexL2010=common_elements(indexL,index2010)\n",
    "indexL2011=common_elements(indexL,index2011)\n",
    "indexL2012=common_elements(indexL,index2012)\n",
    "indexL2013=common_elements(indexL,index2013)\n",
    "indexL2014=common_elements(indexL,index2014)\n",
    "indexL2015=common_elements(indexL,index2015)\n",
    "\n",
    "indexM2010=common_elements(indexM,index2010)\n",
    "indexM2011=common_elements(indexM,index2011)\n",
    "indexM2012=common_elements(indexM,index2012)\n",
    "indexM2013=common_elements(indexM,index2013)\n",
    "indexM2014=common_elements(indexM,index2014)\n",
    "indexM2015=common_elements(indexM,index2015)\n",
    "\n",
    "import plotly \n",
    "plotly.tools.set_credentials_file(username='yizhou1231', api_key='2Mua9lXLoOo1QPaNLQPB')\n",
    "\n",
    "\n",
    "import plotly.plotly as py\n",
    "import plotly.graph_objs as go\n",
    "\n",
    "\n",
    "\n",
    "trace1 = go.Bar(\n",
    "    x=[2010, 2011, 2012,2013,2014,2015],\n",
    "    y=[sum(newtable.loc[indexL2010,\"Acre\"]), \n",
    "       sum(newtable.loc[indexL2011,\"Acre\"]), \n",
    "       sum(newtable.loc[indexL2012,\"Acre\"]),\n",
    "       sum(newtable.loc[indexL2013,\"Acre\"]),\n",
    "       sum(newtable.loc[indexL2014,\"Acre\"]),\n",
    "       sum(newtable.loc[indexL2015,\"Acre\"])\n",
    "      ],\n",
    "    name='Low Water Usage'\n",
    ")\n",
    "trace2 = go.Bar(\n",
    "   x=[2010, 2011, 2012,2013,2014,2015],\n",
    "    y=[sum(newtable.loc[indexM2010,\"Acre\"]), \n",
    "       sum(newtable.loc[indexM2011,\"Acre\"]), \n",
    "       sum(newtable.loc[indexM2012,\"Acre\"]),\n",
    "       sum(newtable.loc[indexM2013,\"Acre\"]),\n",
    "       sum(newtable.loc[indexM2014,\"Acre\"]),\n",
    "       sum(newtable.loc[indexM2015,\"Acre\"])\n",
    "      ],\n",
    "    name='Medium Water Usage'\n",
    ")\n",
    "\n",
    "trace3 = go.Bar(\n",
    "   x=[2010, 2011, 2012,2013,2014,2015],\n",
    "    y=[sum(newtable.loc[indexH2010,\"Acre\"]), \n",
    "       sum(newtable.loc[indexH2011,\"Acre\"]), \n",
    "       sum(newtable.loc[indexH2012,\"Acre\"]),\n",
    "       sum(newtable.loc[indexH2013,\"Acre\"]),\n",
    "       sum(newtable.loc[indexH2014,\"Acre\"]),\n",
    "       sum(newtable.loc[indexH2015,\"Acre\"])\n",
    "      ],\n",
    "    name='High Water Usage'\n",
    ")\n",
    "\n",
    "\n",
    "data = [trace1, trace2,trace3]\n",
    "layout = go.Layout(\n",
    "    barmode='stack',\n",
    "    title=\"crops areas trends in  San Joaquin Valley\",     # more about \"layout's\" \"title\": /python/reference/#layout-title\n",
    "    xaxis=dict(                 # all \"layout's\" \"xaxis\" attributes: /python/reference/#layout-xaxis\n",
    "        title=\"time\"            # more about \"layout's\" \"xaxis's\" \"title\": /python/reference/#layout-xaxis-title\n",
    "    )\n",
    ")\n",
    "\n",
    "fig = go.Figure(data=data, layout=layout)\n",
    "py.iplot(fig, filename='crops areas trends in  San Joaquin Valley')"
   ]
  },
  {
   "cell_type": "code",
   "execution_count": 24,
   "metadata": {
    "collapsed": false
   },
   "outputs": [
    {
     "data": {
      "text/plain": [
       "3.7346511983920401"
      ]
     },
     "execution_count": 24,
     "metadata": {},
     "output_type": "execute_result"
    }
   ],
   "source": [
    "def avg(l):\n",
    "    return sum(l, 0.0) / len(l)\n",
    "rains = np.array([avg(newtable.loc[index2010,\"Precip\"]),\n",
    "                 avg(newtable.loc[index2011,\"Precip\"]),\n",
    "                 avg(newtable.loc[index2012,\"Precip\"]),\n",
    "                 avg(newtable.loc[index2013,\"Precip\"]),\n",
    "                 avg(newtable.loc[index2014,\"Precip\"]),\n",
    "                 avg(newtable.loc[index2014,\"Precip\"])])\n",
    "\n",
    "def StdRain(indexyear):\n",
    "    return (avg(newtable.loc[indexyear,\"Precip\"])-avg(newtable.loc[:,\"Precip\"]))/np.std(rains)+2\n",
    "StdRain(index2010)\n",
    "\n",
    "Areas = np.array([sum(newtable.loc[index2010,\"Acre\"]),\n",
    "                  sum(newtable.loc[index2011,\"Acre\"]), \n",
    "                  sum(newtable.loc[index2012,\"Acre\"]),\n",
    "                  sum(newtable.loc[index2013,\"Acre\"]),\n",
    "                  sum(newtable.loc[index2014,\"Acre\"]),\n",
    "                  sum(newtable.loc[index2015,\"Acre\"])])\n",
    "\n",
    "def StdArea(indexyear):\n",
    "    return (sum(newtable.loc[indexyear,\"Acre\"])-avg(list(Areas)))/np.std(Areas)+2\n",
    "StdArea(index2010)\n",
    "\n",
    "Econs= np.array([ sum([newtable.loc[index,\"Acre\"]*newtable.loc[index,\"EcnValue\"] for index in index2010 if newtable.loc[index,\"Acre\"]*newtable.loc[index,\"EcnValue\"]>0]), \n",
    "                  sum([newtable.loc[index,\"Acre\"]*newtable.loc[index,\"EcnValue\"] for index in index2011 if newtable.loc[index,\"Acre\"]*newtable.loc[index,\"EcnValue\"]>0]), \n",
    "                  sum([newtable.loc[index,\"Acre\"]*newtable.loc[index,\"EcnValue\"] for index in index2012 if newtable.loc[index,\"Acre\"]*newtable.loc[index,\"EcnValue\"]>0]), \n",
    "                  sum([newtable.loc[index,\"Acre\"]*newtable.loc[index,\"EcnValue\"] for index in index2013 if newtable.loc[index,\"Acre\"]*newtable.loc[index,\"EcnValue\"]>0]), \n",
    "                  sum([newtable.loc[index,\"Acre\"]*newtable.loc[index,\"EcnValue\"] for index in index2014 if newtable.loc[index,\"Acre\"]*newtable.loc[index,\"EcnValue\"]>0]), \n",
    "                  sum([newtable.loc[index,\"Acre\"]*newtable.loc[index,\"EcnValue\"] for index in index2015 if newtable.loc[index,\"Acre\"]*newtable.loc[index,\"EcnValue\"]>0])        \n",
    "    ]\n",
    ")\n",
    "\n",
    "def StdEcon (indexyear):\n",
    "    return (sum([newtable.loc[index,\"Acre\"]*newtable.loc[index,\"EcnValue\"] for index in indexyear if newtable.loc[index,\"Acre\"]*newtable.loc[index,\"EcnValue\"]>0])-avg(list(Econs)))/np.std(Econs)+2\n",
    "StdArea(index2010)\n"
   ]
  },
  {
   "cell_type": "code",
   "execution_count": 22,
   "metadata": {
    "collapsed": false
   },
   "outputs": [
    {
     "data": {
      "text/html": [
       "<iframe id=\"igraph\" scrolling=\"no\" style=\"border:none;\" seamless=\"seamless\" src=\"https://plot.ly/~yizhou1231/8.embed\" height=\"525px\" width=\"100%\"></iframe>"
      ],
      "text/plain": [
       "<plotly.tools.PlotlyDisplay object>"
      ]
     },
     "execution_count": 22,
     "metadata": {},
     "output_type": "execute_result"
    }
   ],
   "source": [
    "trace1 = go.Bar(\n",
    "    x=[2010, 2011, 2012,2013,2014,2015],\n",
    "    y=[sum(newtable.loc[indexL2010,\"total\"]), \n",
    "       sum(newtable.loc[indexL2011,\"total\"]), \n",
    "       sum(newtable.loc[indexL2012,\"total\"]),\n",
    "       sum(newtable.loc[indexL2013,\"total\"]),\n",
    "       sum(newtable.loc[indexL2014,\"total\"]),\n",
    "       sum(newtable.loc[indexL2015,\"total\"])\n",
    "      ],\n",
    "    name='Low Water Usage'\n",
    ")\n",
    "trace2 = go.Bar(\n",
    "   x=[2010, 2011, 2012,2013,2014,2015],\n",
    "    y=[sum(newtable.loc[indexM2010,\"total\"]), \n",
    "       sum(newtable.loc[indexM2011,\"total\"]), \n",
    "       sum(newtable.loc[indexM2012,\"total\"]),\n",
    "       sum(newtable.loc[indexM2013,\"total\"]),\n",
    "       sum(newtable.loc[indexM2014,\"total\"]),\n",
    "       sum(newtable.loc[indexM2015,\"total\"])\n",
    "      ],\n",
    "    name='Medium Water Usage'\n",
    ")\n",
    "\n",
    "trace3 = go.Bar(\n",
    "   x=[2010, 2011, 2012,2013,2014,2015],\n",
    "    y=[sum(newtable.loc[indexH2010,\"total\"]), \n",
    "       sum(newtable.loc[indexH2011,\"total\"]), \n",
    "       sum(newtable.loc[indexH2012,\"total\"]),\n",
    "       sum(newtable.loc[indexH2013,\"total\"]),\n",
    "       sum(newtable.loc[indexH2014,\"total\"]),\n",
    "       sum(newtable.loc[indexH2015,\"total\"])\n",
    "      ],\n",
    "    name='High Water Usage'\n",
    ")\n",
    "\n",
    "\n",
    "data = [trace1, trace2,trace3]\n",
    "layout = go.Layout(\n",
    "    barmode='stack',\n",
    "    title=\"crops wateruse trends in  San Joaquin Valley\",     # more about \"layout's\" \"title\": /python/reference/#layout-title\n",
    "    xaxis=dict(                 # all \"layout's\" \"xaxis\" attributes: /python/reference/#layout-xaxis\n",
    "        title=\"time\"            # more about \"layout's\" \"xaxis's\" \"title\": /python/reference/#layout-xaxis-title\n",
    "    )\n",
    ")\n",
    "\n",
    "fig = go.Figure(data=data, layout=layout)\n",
    "py.iplot(fig, filename='crops wateruse trends in  San Joaquin Valley')"
   ]
  },
  {
   "cell_type": "code",
   "execution_count": 25,
   "metadata": {
    "collapsed": false
   },
   "outputs": [
    {
     "data": {
      "text/html": [
       "<iframe id=\"igraph\" scrolling=\"no\" style=\"border:none;\" seamless=\"seamless\" src=\"https://plot.ly/~yizhou1231/10.embed\" height=\"525px\" width=\"100%\"></iframe>"
      ],
      "text/plain": [
       "<plotly.tools.PlotlyDisplay object>"
      ]
     },
     "execution_count": 25,
     "metadata": {},
     "output_type": "execute_result"
    }
   ],
   "source": [
    "\n",
    "trace1 = go.Bar(\n",
    "    x=[2010, 2011, 2012,2013,2014,2015],\n",
    "    y=[StdRain(index2010), \n",
    "       StdRain(index2011), \n",
    "       StdRain(index2012),\n",
    "       StdRain(index2013),\n",
    "       StdRain(index2014),\n",
    "       StdRain(index2015)\n",
    "      ],\n",
    "    name='Precip')\n",
    "\n",
    "\n",
    "trace2 = go.Bar(\n",
    "    x=[2010, 2011, 2012,2013,2014,2015],\n",
    "    y=[StdArea(index2010), \n",
    "       StdArea(index2011), \n",
    "       StdArea(index2012),\n",
    "       StdArea(index2013), \n",
    "       StdArea(index2014), \n",
    "       StdArea(index2015)\n",
    "      ],\n",
    "    name='area')\n",
    "\n",
    "trace3 = go.Bar(\n",
    "    x=[2010, 2011, 2012,2013,2014,2015],\n",
    "    y=[StdEcon(index2010), \n",
    "       StdEcon(index2011), \n",
    "       StdEcon(index2012),\n",
    "       StdEcon(index2013), \n",
    "       StdEcon(index2014), \n",
    "       StdEcon(index2015)\n",
    "      ],\n",
    "    name='EconValue')\n",
    "\n",
    "\n",
    "data = [trace1,trace2,trace3]\n",
    "layout = go.Layout(\n",
    "    barmode='group',\n",
    "    title=\"Crops, Wateruse, Value, and weather trends in  San Joaquin Valley\",     # more about \"layout's\" \"title\": /python/reference/#layout-title\n",
    "    xaxis=dict(                 # all \"layout's\" \"xaxis\" attributes: /python/reference/#layout-xaxis\n",
    "        title=\"time\"            # more about \"layout's\" \"xaxis's\" \"title\": /python/reference/#layout-xaxis-title\n",
    "    ),\n",
    "    yaxis=dict(                 # all \"layout's\" \"xaxis\" attributes: /python/reference/#layout-xaxis\n",
    "        title=\"standaized value\"            # more about \"layout's\" \"xaxis's\" \"title\": /python/reference/#layout-xaxis-title\n",
    "    )\n",
    ")\n",
    "\n",
    "fig = go.Figure(data=data, layout=layout)\n",
    "py.iplot(fig, filename='Crops, Wateruse, Value, and weather trends in  San Joaquin Valley')"
   ]
  },
  {
   "cell_type": "code",
   "execution_count": 26,
   "metadata": {
    "collapsed": true
   },
   "outputs": [],
   "source": [
    "def index_with_years (newindex):\n",
    "    \"\"\"\n",
    "    Return a list containing the list conbined 2 index with years 2010 to 2015\n",
    "    \n",
    "    \"\"\"\n",
    "    indexNew=[common_elements(newindex,index2010)]\n",
    "    \n",
    "    indexNew.append(common_elements(newindex,index2011))\n",
    "    indexNew.append(common_elements(newindex,index2012))\n",
    "    indexNew.append(common_elements(newindex,index2013))\n",
    "    indexNew.append(common_elements(newindex,index2014))    \n",
    "    indexNew.append(common_elements(newindex,index2015))\n",
    "    return indexNew\n"
   ]
  },
  {
   "cell_type": "code",
   "execution_count": 27,
   "metadata": {
    "collapsed": false
   },
   "outputs": [],
   "source": [
    "list4=np.array(list(newtable.loc[:,\"Crop\"]))\n",
    "\n",
    "\n",
    "# get index for high water usage\n",
    "indexAlfalfa= np.where(list4 == \"Rice\")[0]\n",
    "indexAlfalfa=np.array(indexH).tolist()"
   ]
  },
  {
   "cell_type": "code",
   "execution_count": 28,
   "metadata": {
    "collapsed": false
   },
   "outputs": [
    {
     "data": {
      "text/html": [
       "<iframe id=\"igraph\" scrolling=\"no\" style=\"border:none;\" seamless=\"seamless\" src=\"https://plot.ly/~yizhou1231/13.embed\" height=\"525px\" width=\"100%\"></iframe>"
      ],
      "text/plain": [
       "<plotly.tools.PlotlyDisplay object>"
      ]
     },
     "execution_count": 28,
     "metadata": {},
     "output_type": "execute_result"
    }
   ],
   "source": [
    "trace1 = go.Bar(\n",
    "    x=[2010, 2011, 2012,2013,2014,2015],\n",
    "    y=[sum(newtable.loc[index_with_years(indexAlfalfa)[0],\"Acre\"]), \n",
    "       sum(newtable.loc[index_with_years(indexAlfalfa)[1],\"Acre\"]), \n",
    "       sum(newtable.loc[index_with_years(indexAlfalfa)[2],\"Acre\"]),\n",
    "       sum(newtable.loc[index_with_years(indexAlfalfa)[3],\"Acre\"]),\n",
    "       sum(newtable.loc[index_with_years(indexAlfalfa)[4],\"Acre\"]),\n",
    "       sum(newtable.loc[index_with_years(indexAlfalfa)[5],\"Acre\"])\n",
    "      ],\n",
    "    name='Alfalfa'\n",
    ")\n",
    "\n",
    "\n",
    "data = [trace1]\n",
    "layout = go.Layout(\n",
    "    barmode='stack',\n",
    "    title=\"Alfalfa areas trends in  San Joaquin Valley\",     # more about \"layout's\" \"title\": /python/reference/#layout-title\n",
    "    xaxis=dict(                 # all \"layout's\" \"xaxis\" attributes: /python/reference/#layout-xaxis\n",
    "        title=\"time\"            # more about \"layout's\" \"xaxis's\" \"title\": /python/reference/#layout-xaxis-title\n",
    "    )\n",
    ")\n",
    "\n",
    "fig = go.Figure(data=data, layout=layout)\n",
    "py.iplot(fig, filename='Alfalfa areas trends in  San Joaquin Valley')"
   ]
  },
  {
   "cell_type": "code",
   "execution_count": null,
   "metadata": {
    "collapsed": true
   },
   "outputs": [],
   "source": []
  },
  {
   "cell_type": "code",
   "execution_count": null,
   "metadata": {
    "collapsed": true
   },
   "outputs": [],
   "source": []
  },
  {
   "cell_type": "code",
   "execution_count": null,
   "metadata": {
    "collapsed": true
   },
   "outputs": [],
   "source": []
  }
 ],
 "metadata": {
  "kernelspec": {
   "display_name": "Python [conda root]",
   "language": "python",
   "name": "conda-root-py"
  },
  "language_info": {
   "codemirror_mode": {
    "name": "ipython",
    "version": 2
   },
   "file_extension": ".py",
   "mimetype": "text/x-python",
   "name": "python",
   "nbconvert_exporter": "python",
   "pygments_lexer": "ipython2",
   "version": "2.7.12"
  }
 },
 "nbformat": 4,
 "nbformat_minor": 2
}
