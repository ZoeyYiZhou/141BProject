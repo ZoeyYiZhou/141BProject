{
 "cells": [
  {
   "cell_type": "code",
   "execution_count": null,
   "metadata": {
    "collapsed": false
   },
   "outputs": [],
   "source": [
    "%reset"
   ]
  },
  {
   "cell_type": "code",
   "execution_count": 81,
   "metadata": {
    "collapsed": true
   },
   "outputs": [],
   "source": [
    "import os\n",
    "import pandas as pd"
   ]
  },
  {
   "cell_type": "markdown",
   "metadata": {},
   "source": [
    "# Part I: Data Clean"
   ]
  },
  {
   "cell_type": "code",
   "execution_count": 2,
   "metadata": {
    "collapsed": false
   },
   "outputs": [],
   "source": [
    "os.chdir('/Users/yanlinli/Dropbox/141GroupPrj/OriginalData')"
   ]
  },
  {
   "cell_type": "code",
   "execution_count": 3,
   "metadata": {
    "collapsed": false
   },
   "outputs": [],
   "source": [
    "cdl_data = pd.read_excel('cdl_ca_gw_basins.xlsx')"
   ]
  },
  {
   "cell_type": "code",
   "execution_count": 4,
   "metadata": {
    "collapsed": false
   },
   "outputs": [
    {
     "data": {
      "text/plain": [
       "(58865, 5)"
      ]
     },
     "execution_count": 4,
     "metadata": {},
     "output_type": "execute_result"
    }
   ],
   "source": [
    "cdl_data.shape"
   ]
  },
  {
   "cell_type": "code",
   "execution_count": 5,
   "metadata": {
    "collapsed": false,
    "scrolled": true
   },
   "outputs": [
    {
     "data": {
      "text/html": [
       "<div>\n",
       "<table border=\"1\" class=\"dataframe\">\n",
       "  <thead>\n",
       "    <tr style=\"text-align: right;\">\n",
       "      <th></th>\n",
       "      <th>Basin_Name</th>\n",
       "      <th>Subbasin_N</th>\n",
       "      <th>year</th>\n",
       "      <th>cdl_class_name</th>\n",
       "      <th>acres</th>\n",
       "    </tr>\n",
       "  </thead>\n",
       "  <tbody>\n",
       "    <tr>\n",
       "      <th>0</th>\n",
       "      <td>SMITH RIVER PLAIN</td>\n",
       "      <td>NaN</td>\n",
       "      <td>2010</td>\n",
       "      <td>Grass/Pasture</td>\n",
       "      <td>15879.436603</td>\n",
       "    </tr>\n",
       "    <tr>\n",
       "      <th>1</th>\n",
       "      <td>SMITH RIVER PLAIN</td>\n",
       "      <td>NaN</td>\n",
       "      <td>2010</td>\n",
       "      <td>Woody Wetlands</td>\n",
       "      <td>4380.066439</td>\n",
       "    </tr>\n",
       "    <tr>\n",
       "      <th>2</th>\n",
       "      <td>SMITH RIVER PLAIN</td>\n",
       "      <td>NaN</td>\n",
       "      <td>2010</td>\n",
       "      <td>Developed/Open Space</td>\n",
       "      <td>4112.525443</td>\n",
       "    </tr>\n",
       "    <tr>\n",
       "      <th>3</th>\n",
       "      <td>SMITH RIVER PLAIN</td>\n",
       "      <td>NaN</td>\n",
       "      <td>2010</td>\n",
       "      <td>Open Water</td>\n",
       "      <td>3371.728220</td>\n",
       "    </tr>\n",
       "    <tr>\n",
       "      <th>4</th>\n",
       "      <td>SMITH RIVER PLAIN</td>\n",
       "      <td>NaN</td>\n",
       "      <td>2010</td>\n",
       "      <td>Evergreen Forest</td>\n",
       "      <td>3339.480967</td>\n",
       "    </tr>\n",
       "  </tbody>\n",
       "</table>\n",
       "</div>"
      ],
      "text/plain": [
       "          Basin_Name Subbasin_N  year        cdl_class_name         acres\n",
       "0  SMITH RIVER PLAIN        NaN  2010         Grass/Pasture  15879.436603\n",
       "1  SMITH RIVER PLAIN        NaN  2010        Woody Wetlands   4380.066439\n",
       "2  SMITH RIVER PLAIN        NaN  2010  Developed/Open Space   4112.525443\n",
       "3  SMITH RIVER PLAIN        NaN  2010            Open Water   3371.728220\n",
       "4  SMITH RIVER PLAIN        NaN  2010      Evergreen Forest   3339.480967"
      ]
     },
     "execution_count": 5,
     "metadata": {},
     "output_type": "execute_result"
    }
   ],
   "source": [
    "cdl_data.head()"
   ]
  },
  {
   "cell_type": "code",
   "execution_count": 6,
   "metadata": {
    "collapsed": false
   },
   "outputs": [
    {
     "data": {
      "text/plain": [
       "[(u'SAN JOAQUIN VALLEY', 6633),\n",
       " (u'SACRAMENTO VALLEY', 5485),\n",
       " (u'SALINAS VALLEY', 2454)]"
      ]
     },
     "execution_count": 6,
     "metadata": {},
     "output_type": "execute_result"
    }
   ],
   "source": [
    "import collections\n",
    "collections.Counter(cdl_data.Basin_Name).most_common(3)"
   ]
  },
  {
   "cell_type": "code",
   "execution_count": 7,
   "metadata": {
    "collapsed": false
   },
   "outputs": [
    {
     "data": {
      "text/html": [
       "<div>\n",
       "<table border=\"1\" class=\"dataframe\">\n",
       "  <thead>\n",
       "    <tr style=\"text-align: right;\">\n",
       "      <th></th>\n",
       "      <th>Basin_Name</th>\n",
       "      <th>Subbasin_N</th>\n",
       "      <th>year</th>\n",
       "      <th>cdl_class_name</th>\n",
       "      <th>acres</th>\n",
       "    </tr>\n",
       "  </thead>\n",
       "  <tbody>\n",
       "    <tr>\n",
       "      <th>32782</th>\n",
       "      <td>SAN JOAQUIN VALLEY</td>\n",
       "      <td>EASTERN SAN JOAQUIN</td>\n",
       "      <td>2010</td>\n",
       "      <td>Grass/Pasture</td>\n",
       "      <td>238527.587650</td>\n",
       "    </tr>\n",
       "    <tr>\n",
       "      <th>32783</th>\n",
       "      <td>SAN JOAQUIN VALLEY</td>\n",
       "      <td>EASTERN SAN JOAQUIN</td>\n",
       "      <td>2010</td>\n",
       "      <td>Walnuts</td>\n",
       "      <td>73249.299965</td>\n",
       "    </tr>\n",
       "    <tr>\n",
       "      <th>32784</th>\n",
       "      <td>SAN JOAQUIN VALLEY</td>\n",
       "      <td>EASTERN SAN JOAQUIN</td>\n",
       "      <td>2010</td>\n",
       "      <td>Grapes</td>\n",
       "      <td>62451.585532</td>\n",
       "    </tr>\n",
       "    <tr>\n",
       "      <th>32785</th>\n",
       "      <td>SAN JOAQUIN VALLEY</td>\n",
       "      <td>EASTERN SAN JOAQUIN</td>\n",
       "      <td>2010</td>\n",
       "      <td>Corn</td>\n",
       "      <td>55180.608525</td>\n",
       "    </tr>\n",
       "    <tr>\n",
       "      <th>32786</th>\n",
       "      <td>SAN JOAQUIN VALLEY</td>\n",
       "      <td>EASTERN SAN JOAQUIN</td>\n",
       "      <td>2010</td>\n",
       "      <td>Almonds</td>\n",
       "      <td>48995.140747</td>\n",
       "    </tr>\n",
       "  </tbody>\n",
       "</table>\n",
       "</div>"
      ],
      "text/plain": [
       "               Basin_Name           Subbasin_N  year cdl_class_name  \\\n",
       "32782  SAN JOAQUIN VALLEY  EASTERN SAN JOAQUIN  2010  Grass/Pasture   \n",
       "32783  SAN JOAQUIN VALLEY  EASTERN SAN JOAQUIN  2010        Walnuts   \n",
       "32784  SAN JOAQUIN VALLEY  EASTERN SAN JOAQUIN  2010         Grapes   \n",
       "32785  SAN JOAQUIN VALLEY  EASTERN SAN JOAQUIN  2010           Corn   \n",
       "32786  SAN JOAQUIN VALLEY  EASTERN SAN JOAQUIN  2010        Almonds   \n",
       "\n",
       "               acres  \n",
       "32782  238527.587650  \n",
       "32783   73249.299965  \n",
       "32784   62451.585532  \n",
       "32785   55180.608525  \n",
       "32786   48995.140747  "
      ]
     },
     "execution_count": 7,
     "metadata": {},
     "output_type": "execute_result"
    }
   ],
   "source": [
    "cdl_data.ix[cdl_data.Basin_Name== u'SAN JOAQUIN VALLEY',].head()"
   ]
  },
  {
   "cell_type": "code",
   "execution_count": 8,
   "metadata": {
    "collapsed": false
   },
   "outputs": [],
   "source": [
    "SanJQ = cdl_data.ix[cdl_data.Basin_Name== u'SAN JOAQUIN VALLEY',].reset_index(drop=True)"
   ]
  },
  {
   "cell_type": "code",
   "execution_count": 9,
   "metadata": {
    "collapsed": false
   },
   "outputs": [
    {
     "data": {
      "text/html": [
       "<div>\n",
       "<table border=\"1\" class=\"dataframe\">\n",
       "  <thead>\n",
       "    <tr style=\"text-align: right;\">\n",
       "      <th></th>\n",
       "      <th>Basin_Name</th>\n",
       "      <th>Subbasin_N</th>\n",
       "      <th>year</th>\n",
       "      <th>cdl_class_name</th>\n",
       "      <th>acres</th>\n",
       "    </tr>\n",
       "  </thead>\n",
       "  <tbody>\n",
       "    <tr>\n",
       "      <th>0</th>\n",
       "      <td>SAN JOAQUIN VALLEY</td>\n",
       "      <td>EASTERN SAN JOAQUIN</td>\n",
       "      <td>2010</td>\n",
       "      <td>Grass/Pasture</td>\n",
       "      <td>238527.587650</td>\n",
       "    </tr>\n",
       "    <tr>\n",
       "      <th>1</th>\n",
       "      <td>SAN JOAQUIN VALLEY</td>\n",
       "      <td>EASTERN SAN JOAQUIN</td>\n",
       "      <td>2010</td>\n",
       "      <td>Walnuts</td>\n",
       "      <td>73249.299965</td>\n",
       "    </tr>\n",
       "    <tr>\n",
       "      <th>2</th>\n",
       "      <td>SAN JOAQUIN VALLEY</td>\n",
       "      <td>EASTERN SAN JOAQUIN</td>\n",
       "      <td>2010</td>\n",
       "      <td>Grapes</td>\n",
       "      <td>62451.585532</td>\n",
       "    </tr>\n",
       "    <tr>\n",
       "      <th>3</th>\n",
       "      <td>SAN JOAQUIN VALLEY</td>\n",
       "      <td>EASTERN SAN JOAQUIN</td>\n",
       "      <td>2010</td>\n",
       "      <td>Corn</td>\n",
       "      <td>55180.608525</td>\n",
       "    </tr>\n",
       "    <tr>\n",
       "      <th>4</th>\n",
       "      <td>SAN JOAQUIN VALLEY</td>\n",
       "      <td>EASTERN SAN JOAQUIN</td>\n",
       "      <td>2010</td>\n",
       "      <td>Almonds</td>\n",
       "      <td>48995.140747</td>\n",
       "    </tr>\n",
       "  </tbody>\n",
       "</table>\n",
       "</div>"
      ],
      "text/plain": [
       "           Basin_Name           Subbasin_N  year cdl_class_name          acres\n",
       "0  SAN JOAQUIN VALLEY  EASTERN SAN JOAQUIN  2010  Grass/Pasture  238527.587650\n",
       "1  SAN JOAQUIN VALLEY  EASTERN SAN JOAQUIN  2010        Walnuts   73249.299965\n",
       "2  SAN JOAQUIN VALLEY  EASTERN SAN JOAQUIN  2010         Grapes   62451.585532\n",
       "3  SAN JOAQUIN VALLEY  EASTERN SAN JOAQUIN  2010           Corn   55180.608525\n",
       "4  SAN JOAQUIN VALLEY  EASTERN SAN JOAQUIN  2010        Almonds   48995.140747"
      ]
     },
     "execution_count": 9,
     "metadata": {},
     "output_type": "execute_result"
    }
   ],
   "source": [
    "SanJQ.head()"
   ]
  },
  {
   "cell_type": "code",
   "execution_count": 10,
   "metadata": {
    "collapsed": false
   },
   "outputs": [
    {
     "data": {
      "text/plain": [
       "Counter({u'CHOWCHILLA': 335,\n",
       "         u'COSUMNES': 365,\n",
       "         u'DELTA-MENDOTA': 442,\n",
       "         u'EASTERN SAN JOAQUIN': 440,\n",
       "         u'KAWEAH': 384,\n",
       "         u'KERN COUNTY': 409,\n",
       "         u'KETTLEMAN PLAIN': 210,\n",
       "         u'KINGS': 434,\n",
       "         u'MADERA': 379,\n",
       "         u'MERCED': 388,\n",
       "         u'MODESTO': 401,\n",
       "         u'PLEASANT VALLEY': 211,\n",
       "         u'TRACY': 408,\n",
       "         u'TULARE LAKE': 377,\n",
       "         u'TULE': 393,\n",
       "         u'TURLOCK': 390,\n",
       "         u'WESTSIDE': 391,\n",
       "         u'WHITE WOLF': 276})"
      ]
     },
     "execution_count": 10,
     "metadata": {},
     "output_type": "execute_result"
    }
   ],
   "source": [
    "collections.Counter(SanJQ.Subbasin_N)"
   ]
  },
  {
   "cell_type": "code",
   "execution_count": 11,
   "metadata": {
    "collapsed": true
   },
   "outputs": [],
   "source": [
    "subBasin_County_dict = {'CHOWCHILLA':\"Madera\",\"COSUMNES\":\"San Joaquin\",\n",
    "                    'DELTA-MENDOTA':'Stanislaus','EASTERN SAN JOAQUIN':'San Joaquin',\n",
    "                   'KAWEAH':'Tulare','KERN COUNTY':'Kern','KETTLEMAN PLAIN':'Kings',\n",
    "                    'KINGS':'Kings','MADERA':'Madera','MERCED':'Merced',\n",
    "                    'MODESTO':'Stanislaus','PLEASANT VALLEY':'Fresno',\n",
    "                    'TRACY':'San Joaquin','TULARE LAKE':'Kings','TULE':'Tulare',\n",
    "                    'TURLOCK':'Stanislaus','WESTSIDE':'Fresno','WHITE WOLF':'Kern'}"
   ]
  },
  {
   "cell_type": "code",
   "execution_count": 12,
   "metadata": {
    "collapsed": false
   },
   "outputs": [],
   "source": [
    "SanJQ[\"county\"] = SanJQ[\"Subbasin_N\"].map(subBasin_County_dict)"
   ]
  },
  {
   "cell_type": "code",
   "execution_count": 13,
   "metadata": {
    "collapsed": false
   },
   "outputs": [
    {
     "data": {
      "text/html": [
       "<div>\n",
       "<table border=\"1\" class=\"dataframe\">\n",
       "  <thead>\n",
       "    <tr style=\"text-align: right;\">\n",
       "      <th></th>\n",
       "      <th>Basin_Name</th>\n",
       "      <th>Subbasin_N</th>\n",
       "      <th>year</th>\n",
       "      <th>cdl_class_name</th>\n",
       "      <th>acres</th>\n",
       "      <th>county</th>\n",
       "    </tr>\n",
       "  </thead>\n",
       "  <tbody>\n",
       "    <tr>\n",
       "      <th>0</th>\n",
       "      <td>SAN JOAQUIN VALLEY</td>\n",
       "      <td>EASTERN SAN JOAQUIN</td>\n",
       "      <td>2010</td>\n",
       "      <td>Grass/Pasture</td>\n",
       "      <td>238527.587650</td>\n",
       "      <td>San Joaquin</td>\n",
       "    </tr>\n",
       "    <tr>\n",
       "      <th>1</th>\n",
       "      <td>SAN JOAQUIN VALLEY</td>\n",
       "      <td>EASTERN SAN JOAQUIN</td>\n",
       "      <td>2010</td>\n",
       "      <td>Walnuts</td>\n",
       "      <td>73249.299965</td>\n",
       "      <td>San Joaquin</td>\n",
       "    </tr>\n",
       "    <tr>\n",
       "      <th>2</th>\n",
       "      <td>SAN JOAQUIN VALLEY</td>\n",
       "      <td>EASTERN SAN JOAQUIN</td>\n",
       "      <td>2010</td>\n",
       "      <td>Grapes</td>\n",
       "      <td>62451.585532</td>\n",
       "      <td>San Joaquin</td>\n",
       "    </tr>\n",
       "    <tr>\n",
       "      <th>3</th>\n",
       "      <td>SAN JOAQUIN VALLEY</td>\n",
       "      <td>EASTERN SAN JOAQUIN</td>\n",
       "      <td>2010</td>\n",
       "      <td>Corn</td>\n",
       "      <td>55180.608525</td>\n",
       "      <td>San Joaquin</td>\n",
       "    </tr>\n",
       "    <tr>\n",
       "      <th>4</th>\n",
       "      <td>SAN JOAQUIN VALLEY</td>\n",
       "      <td>EASTERN SAN JOAQUIN</td>\n",
       "      <td>2010</td>\n",
       "      <td>Almonds</td>\n",
       "      <td>48995.140747</td>\n",
       "      <td>San Joaquin</td>\n",
       "    </tr>\n",
       "  </tbody>\n",
       "</table>\n",
       "</div>"
      ],
      "text/plain": [
       "           Basin_Name           Subbasin_N  year cdl_class_name  \\\n",
       "0  SAN JOAQUIN VALLEY  EASTERN SAN JOAQUIN  2010  Grass/Pasture   \n",
       "1  SAN JOAQUIN VALLEY  EASTERN SAN JOAQUIN  2010        Walnuts   \n",
       "2  SAN JOAQUIN VALLEY  EASTERN SAN JOAQUIN  2010         Grapes   \n",
       "3  SAN JOAQUIN VALLEY  EASTERN SAN JOAQUIN  2010           Corn   \n",
       "4  SAN JOAQUIN VALLEY  EASTERN SAN JOAQUIN  2010        Almonds   \n",
       "\n",
       "           acres       county  \n",
       "0  238527.587650  San Joaquin  \n",
       "1   73249.299965  San Joaquin  \n",
       "2   62451.585532  San Joaquin  \n",
       "3   55180.608525  San Joaquin  \n",
       "4   48995.140747  San Joaquin  "
      ]
     },
     "execution_count": 13,
     "metadata": {},
     "output_type": "execute_result"
    }
   ],
   "source": [
    "SanJQ.head()"
   ]
  },
  {
   "cell_type": "code",
   "execution_count": 14,
   "metadata": {
    "collapsed": false
   },
   "outputs": [],
   "source": [
    "dbl_crop = SanJQ.ix[SanJQ.cdl_class_name.str.startswith('Dbl'),]"
   ]
  },
  {
   "cell_type": "code",
   "execution_count": 15,
   "metadata": {
    "collapsed": false
   },
   "outputs": [
    {
     "data": {
      "text/plain": [
       "(422, 6)"
      ]
     },
     "execution_count": 15,
     "metadata": {},
     "output_type": "execute_result"
    }
   ],
   "source": [
    "dbl_crop.shape"
   ]
  },
  {
   "cell_type": "code",
   "execution_count": 16,
   "metadata": {
    "collapsed": false
   },
   "outputs": [
    {
     "data": {
      "text/plain": [
       "pandas.core.frame.DataFrame"
      ]
     },
     "execution_count": 16,
     "metadata": {},
     "output_type": "execute_result"
    }
   ],
   "source": [
    "type(dbl_crop)"
   ]
  },
  {
   "cell_type": "code",
   "execution_count": 17,
   "metadata": {
    "collapsed": false
   },
   "outputs": [
    {
     "data": {
      "text/html": [
       "<div>\n",
       "<table border=\"1\" class=\"dataframe\">\n",
       "  <thead>\n",
       "    <tr style=\"text-align: right;\">\n",
       "      <th></th>\n",
       "      <th>Basin_Name</th>\n",
       "      <th>Subbasin_N</th>\n",
       "      <th>year</th>\n",
       "      <th>cdl_class_name</th>\n",
       "      <th>acres</th>\n",
       "      <th>county</th>\n",
       "    </tr>\n",
       "  </thead>\n",
       "  <tbody>\n",
       "    <tr>\n",
       "      <th>20</th>\n",
       "      <td>SAN JOAQUIN VALLEY</td>\n",
       "      <td>EASTERN SAN JOAQUIN</td>\n",
       "      <td>2010</td>\n",
       "      <td>Dbl Crop Oats/Corn</td>\n",
       "      <td>3479.367324</td>\n",
       "      <td>San Joaquin</td>\n",
       "    </tr>\n",
       "    <tr>\n",
       "      <th>26</th>\n",
       "      <td>SAN JOAQUIN VALLEY</td>\n",
       "      <td>EASTERN SAN JOAQUIN</td>\n",
       "      <td>2010</td>\n",
       "      <td>Dbl Crop WinWht/Corn</td>\n",
       "      <td>1360.166862</td>\n",
       "      <td>San Joaquin</td>\n",
       "    </tr>\n",
       "    <tr>\n",
       "      <th>44</th>\n",
       "      <td>SAN JOAQUIN VALLEY</td>\n",
       "      <td>EASTERN SAN JOAQUIN</td>\n",
       "      <td>2010</td>\n",
       "      <td>Dbl Crop WinWht/Sorghum</td>\n",
       "      <td>54.486737</td>\n",
       "      <td>San Joaquin</td>\n",
       "    </tr>\n",
       "  </tbody>\n",
       "</table>\n",
       "</div>"
      ],
      "text/plain": [
       "            Basin_Name           Subbasin_N  year           cdl_class_name  \\\n",
       "20  SAN JOAQUIN VALLEY  EASTERN SAN JOAQUIN  2010       Dbl Crop Oats/Corn   \n",
       "26  SAN JOAQUIN VALLEY  EASTERN SAN JOAQUIN  2010     Dbl Crop WinWht/Corn   \n",
       "44  SAN JOAQUIN VALLEY  EASTERN SAN JOAQUIN  2010  Dbl Crop WinWht/Sorghum   \n",
       "\n",
       "          acres       county  \n",
       "20  3479.367324  San Joaquin  \n",
       "26  1360.166862  San Joaquin  \n",
       "44    54.486737  San Joaquin  "
      ]
     },
     "execution_count": 17,
     "metadata": {},
     "output_type": "execute_result"
    }
   ],
   "source": [
    "dbl_crop.iloc[0:3]"
   ]
  },
  {
   "cell_type": "code",
   "execution_count": 18,
   "metadata": {
    "collapsed": false
   },
   "outputs": [
    {
     "data": {
      "text/plain": [
       "Counter({u'Dbl Crop Barley/Corn': 63,\n",
       "         u'Dbl Crop Barley/Sorghum': 39,\n",
       "         u'Dbl Crop Durum Wht/Sorghum': 6,\n",
       "         u'Dbl Crop Lettuce/Cantaloupe': 2,\n",
       "         u'Dbl Crop Lettuce/Cotton': 8,\n",
       "         u'Dbl Crop Oats/Corn': 90,\n",
       "         u'Dbl Crop WinWht/Corn': 97,\n",
       "         u'Dbl Crop WinWht/Cotton': 37,\n",
       "         u'Dbl Crop WinWht/Sorghum': 76,\n",
       "         u'Dbl Crop WinWht/Soybeans': 4})"
      ]
     },
     "execution_count": 18,
     "metadata": {},
     "output_type": "execute_result"
    }
   ],
   "source": [
    "collections.Counter(dbl_crop.cdl_class_name)"
   ]
  },
  {
   "cell_type": "code",
   "execution_count": 19,
   "metadata": {
    "collapsed": false
   },
   "outputs": [
    {
     "name": "stderr",
     "output_type": "stream",
     "text": [
      "/Users/yanlinli/anaconda2/lib/python2.7/site-packages/pandas/core/generic.py:2773: SettingWithCopyWarning: \n",
      "A value is trying to be set on a copy of a slice from a DataFrame.\n",
      "Try using .loc[row_indexer,col_indexer] = value instead\n",
      "\n",
      "See the caveats in the documentation: http://pandas.pydata.org/pandas-docs/stable/indexing.html#indexing-view-versus-copy\n",
      "  self[name] = value\n"
     ]
    }
   ],
   "source": [
    "dbl_crop.acres = dbl_crop.acres/2"
   ]
  },
  {
   "cell_type": "code",
   "execution_count": 20,
   "metadata": {
    "collapsed": false
   },
   "outputs": [
    {
     "data": {
      "text/html": [
       "<div>\n",
       "<table border=\"1\" class=\"dataframe\">\n",
       "  <thead>\n",
       "    <tr style=\"text-align: right;\">\n",
       "      <th></th>\n",
       "      <th>Basin_Name</th>\n",
       "      <th>Subbasin_N</th>\n",
       "      <th>year</th>\n",
       "      <th>cdl_class_name</th>\n",
       "      <th>acres</th>\n",
       "      <th>county</th>\n",
       "    </tr>\n",
       "  </thead>\n",
       "  <tbody>\n",
       "    <tr>\n",
       "      <th>20</th>\n",
       "      <td>SAN JOAQUIN VALLEY</td>\n",
       "      <td>EASTERN SAN JOAQUIN</td>\n",
       "      <td>2010</td>\n",
       "      <td>Dbl Crop Oats/Corn</td>\n",
       "      <td>1739.683662</td>\n",
       "      <td>San Joaquin</td>\n",
       "    </tr>\n",
       "    <tr>\n",
       "      <th>26</th>\n",
       "      <td>SAN JOAQUIN VALLEY</td>\n",
       "      <td>EASTERN SAN JOAQUIN</td>\n",
       "      <td>2010</td>\n",
       "      <td>Dbl Crop WinWht/Corn</td>\n",
       "      <td>680.083431</td>\n",
       "      <td>San Joaquin</td>\n",
       "    </tr>\n",
       "    <tr>\n",
       "      <th>44</th>\n",
       "      <td>SAN JOAQUIN VALLEY</td>\n",
       "      <td>EASTERN SAN JOAQUIN</td>\n",
       "      <td>2010</td>\n",
       "      <td>Dbl Crop WinWht/Sorghum</td>\n",
       "      <td>27.243368</td>\n",
       "      <td>San Joaquin</td>\n",
       "    </tr>\n",
       "    <tr>\n",
       "      <th>89</th>\n",
       "      <td>SAN JOAQUIN VALLEY</td>\n",
       "      <td>EASTERN SAN JOAQUIN</td>\n",
       "      <td>2011</td>\n",
       "      <td>Dbl Crop Oats/Corn</td>\n",
       "      <td>6434.994791</td>\n",
       "      <td>San Joaquin</td>\n",
       "    </tr>\n",
       "    <tr>\n",
       "      <th>95</th>\n",
       "      <td>SAN JOAQUIN VALLEY</td>\n",
       "      <td>EASTERN SAN JOAQUIN</td>\n",
       "      <td>2011</td>\n",
       "      <td>Dbl Crop WinWht/Corn</td>\n",
       "      <td>1725.339194</td>\n",
       "      <td>San Joaquin</td>\n",
       "    </tr>\n",
       "  </tbody>\n",
       "</table>\n",
       "</div>"
      ],
      "text/plain": [
       "            Basin_Name           Subbasin_N  year           cdl_class_name  \\\n",
       "20  SAN JOAQUIN VALLEY  EASTERN SAN JOAQUIN  2010       Dbl Crop Oats/Corn   \n",
       "26  SAN JOAQUIN VALLEY  EASTERN SAN JOAQUIN  2010     Dbl Crop WinWht/Corn   \n",
       "44  SAN JOAQUIN VALLEY  EASTERN SAN JOAQUIN  2010  Dbl Crop WinWht/Sorghum   \n",
       "89  SAN JOAQUIN VALLEY  EASTERN SAN JOAQUIN  2011       Dbl Crop Oats/Corn   \n",
       "95  SAN JOAQUIN VALLEY  EASTERN SAN JOAQUIN  2011     Dbl Crop WinWht/Corn   \n",
       "\n",
       "          acres       county  \n",
       "20  1739.683662  San Joaquin  \n",
       "26   680.083431  San Joaquin  \n",
       "44    27.243368  San Joaquin  \n",
       "89  6434.994791  San Joaquin  \n",
       "95  1725.339194  San Joaquin  "
      ]
     },
     "execution_count": 20,
     "metadata": {},
     "output_type": "execute_result"
    }
   ],
   "source": [
    "dbl_crop.head()"
   ]
  },
  {
   "cell_type": "code",
   "execution_count": 21,
   "metadata": {
    "collapsed": false
   },
   "outputs": [],
   "source": [
    "dcl_cdl_class_name_0=[]\n",
    "dcl_cdl_class_name_1=[]\n",
    "for i in (dbl_crop.cdl_class_name):\n",
    "    dcl_cdl_class_name_0.append(str(i)[9:].split('/')[0])\n",
    "    dcl_cdl_class_name_1.append(str(i)[9:].split('/')[1])\n",
    "   "
   ]
  },
  {
   "cell_type": "code",
   "execution_count": 22,
   "metadata": {
    "collapsed": false
   },
   "outputs": [
    {
     "data": {
      "text/html": [
       "<div>\n",
       "<table border=\"1\" class=\"dataframe\">\n",
       "  <thead>\n",
       "    <tr style=\"text-align: right;\">\n",
       "      <th></th>\n",
       "      <th>Basin_Name</th>\n",
       "      <th>Subbasin_N</th>\n",
       "      <th>year</th>\n",
       "      <th>cdl_class_name</th>\n",
       "      <th>acres</th>\n",
       "      <th>county</th>\n",
       "    </tr>\n",
       "  </thead>\n",
       "  <tbody>\n",
       "    <tr>\n",
       "      <th>20</th>\n",
       "      <td>SAN JOAQUIN VALLEY</td>\n",
       "      <td>EASTERN SAN JOAQUIN</td>\n",
       "      <td>2010</td>\n",
       "      <td>Corn</td>\n",
       "      <td>1739.683662</td>\n",
       "      <td>San Joaquin</td>\n",
       "    </tr>\n",
       "    <tr>\n",
       "      <th>26</th>\n",
       "      <td>SAN JOAQUIN VALLEY</td>\n",
       "      <td>EASTERN SAN JOAQUIN</td>\n",
       "      <td>2010</td>\n",
       "      <td>Corn</td>\n",
       "      <td>680.083431</td>\n",
       "      <td>San Joaquin</td>\n",
       "    </tr>\n",
       "    <tr>\n",
       "      <th>44</th>\n",
       "      <td>SAN JOAQUIN VALLEY</td>\n",
       "      <td>EASTERN SAN JOAQUIN</td>\n",
       "      <td>2010</td>\n",
       "      <td>Sorghum</td>\n",
       "      <td>27.243368</td>\n",
       "      <td>San Joaquin</td>\n",
       "    </tr>\n",
       "    <tr>\n",
       "      <th>89</th>\n",
       "      <td>SAN JOAQUIN VALLEY</td>\n",
       "      <td>EASTERN SAN JOAQUIN</td>\n",
       "      <td>2011</td>\n",
       "      <td>Corn</td>\n",
       "      <td>6434.994791</td>\n",
       "      <td>San Joaquin</td>\n",
       "    </tr>\n",
       "    <tr>\n",
       "      <th>95</th>\n",
       "      <td>SAN JOAQUIN VALLEY</td>\n",
       "      <td>EASTERN SAN JOAQUIN</td>\n",
       "      <td>2011</td>\n",
       "      <td>Corn</td>\n",
       "      <td>1725.339194</td>\n",
       "      <td>San Joaquin</td>\n",
       "    </tr>\n",
       "  </tbody>\n",
       "</table>\n",
       "</div>"
      ],
      "text/plain": [
       "            Basin_Name           Subbasin_N  year cdl_class_name        acres  \\\n",
       "20  SAN JOAQUIN VALLEY  EASTERN SAN JOAQUIN  2010           Corn  1739.683662   \n",
       "26  SAN JOAQUIN VALLEY  EASTERN SAN JOAQUIN  2010           Corn   680.083431   \n",
       "44  SAN JOAQUIN VALLEY  EASTERN SAN JOAQUIN  2010        Sorghum    27.243368   \n",
       "89  SAN JOAQUIN VALLEY  EASTERN SAN JOAQUIN  2011           Corn  6434.994791   \n",
       "95  SAN JOAQUIN VALLEY  EASTERN SAN JOAQUIN  2011           Corn  1725.339194   \n",
       "\n",
       "         county  \n",
       "20  San Joaquin  \n",
       "26  San Joaquin  \n",
       "44  San Joaquin  \n",
       "89  San Joaquin  \n",
       "95  San Joaquin  "
      ]
     },
     "execution_count": 22,
     "metadata": {},
     "output_type": "execute_result"
    }
   ],
   "source": [
    "dbl_crop.cdl_class_name= pd.DataFrame(dcl_cdl_class_name_0).values\n",
    "dbl_crop_B  = dbl_crop.copy()\n",
    "dbl_crop_B.cdl_class_name= pd.DataFrame(dcl_cdl_class_name_1).values\n",
    "dbl_crop_B.head()"
   ]
  },
  {
   "cell_type": "code",
   "execution_count": 23,
   "metadata": {
    "collapsed": false
   },
   "outputs": [
    {
     "data": {
      "text/html": [
       "<div>\n",
       "<table border=\"1\" class=\"dataframe\">\n",
       "  <thead>\n",
       "    <tr style=\"text-align: right;\">\n",
       "      <th></th>\n",
       "      <th>Basin_Name</th>\n",
       "      <th>Subbasin_N</th>\n",
       "      <th>year</th>\n",
       "      <th>cdl_class_name</th>\n",
       "      <th>acres</th>\n",
       "      <th>county</th>\n",
       "    </tr>\n",
       "  </thead>\n",
       "  <tbody>\n",
       "    <tr>\n",
       "      <th>20</th>\n",
       "      <td>SAN JOAQUIN VALLEY</td>\n",
       "      <td>EASTERN SAN JOAQUIN</td>\n",
       "      <td>2010</td>\n",
       "      <td>Oats</td>\n",
       "      <td>1739.683662</td>\n",
       "      <td>San Joaquin</td>\n",
       "    </tr>\n",
       "    <tr>\n",
       "      <th>26</th>\n",
       "      <td>SAN JOAQUIN VALLEY</td>\n",
       "      <td>EASTERN SAN JOAQUIN</td>\n",
       "      <td>2010</td>\n",
       "      <td>WinWht</td>\n",
       "      <td>680.083431</td>\n",
       "      <td>San Joaquin</td>\n",
       "    </tr>\n",
       "    <tr>\n",
       "      <th>44</th>\n",
       "      <td>SAN JOAQUIN VALLEY</td>\n",
       "      <td>EASTERN SAN JOAQUIN</td>\n",
       "      <td>2010</td>\n",
       "      <td>WinWht</td>\n",
       "      <td>27.243368</td>\n",
       "      <td>San Joaquin</td>\n",
       "    </tr>\n",
       "    <tr>\n",
       "      <th>89</th>\n",
       "      <td>SAN JOAQUIN VALLEY</td>\n",
       "      <td>EASTERN SAN JOAQUIN</td>\n",
       "      <td>2011</td>\n",
       "      <td>Oats</td>\n",
       "      <td>6434.994791</td>\n",
       "      <td>San Joaquin</td>\n",
       "    </tr>\n",
       "    <tr>\n",
       "      <th>95</th>\n",
       "      <td>SAN JOAQUIN VALLEY</td>\n",
       "      <td>EASTERN SAN JOAQUIN</td>\n",
       "      <td>2011</td>\n",
       "      <td>WinWht</td>\n",
       "      <td>1725.339194</td>\n",
       "      <td>San Joaquin</td>\n",
       "    </tr>\n",
       "  </tbody>\n",
       "</table>\n",
       "</div>"
      ],
      "text/plain": [
       "            Basin_Name           Subbasin_N  year cdl_class_name        acres  \\\n",
       "20  SAN JOAQUIN VALLEY  EASTERN SAN JOAQUIN  2010           Oats  1739.683662   \n",
       "26  SAN JOAQUIN VALLEY  EASTERN SAN JOAQUIN  2010         WinWht   680.083431   \n",
       "44  SAN JOAQUIN VALLEY  EASTERN SAN JOAQUIN  2010         WinWht    27.243368   \n",
       "89  SAN JOAQUIN VALLEY  EASTERN SAN JOAQUIN  2011           Oats  6434.994791   \n",
       "95  SAN JOAQUIN VALLEY  EASTERN SAN JOAQUIN  2011         WinWht  1725.339194   \n",
       "\n",
       "         county  \n",
       "20  San Joaquin  \n",
       "26  San Joaquin  \n",
       "44  San Joaquin  \n",
       "89  San Joaquin  \n",
       "95  San Joaquin  "
      ]
     },
     "execution_count": 23,
     "metadata": {},
     "output_type": "execute_result"
    }
   ],
   "source": [
    "dbl_crop.head()"
   ]
  },
  {
   "cell_type": "code",
   "execution_count": 24,
   "metadata": {
    "collapsed": false
   },
   "outputs": [
    {
     "data": {
      "text/plain": [
       "Counter({'Barley': 102,\n",
       "         'Durum Wht': 6,\n",
       "         'Lettuce': 10,\n",
       "         'Oats': 90,\n",
       "         'WinWht': 214})"
      ]
     },
     "execution_count": 24,
     "metadata": {},
     "output_type": "execute_result"
    }
   ],
   "source": [
    "collections.Counter(dbl_crop.cdl_class_name)"
   ]
  },
  {
   "cell_type": "code",
   "execution_count": 25,
   "metadata": {
    "collapsed": false
   },
   "outputs": [
    {
     "data": {
      "text/plain": [
       "dtype('O')"
      ]
     },
     "execution_count": 25,
     "metadata": {},
     "output_type": "execute_result"
    }
   ],
   "source": [
    "#pd.DataFrame(dcl_cdl_class_name_0).values\n",
    "type(pd.DataFrame(dcl_cdl_class_name_0).values)\n",
    "pd.DataFrame(dcl_cdl_class_name_0).values.dtype\n",
    "SanJQ.cdl_class_name.values.dtype"
   ]
  },
  {
   "cell_type": "code",
   "execution_count": 26,
   "metadata": {
    "collapsed": false
   },
   "outputs": [
    {
     "name": "stdout",
     "output_type": "stream",
     "text": [
      "(844, 6)\n"
     ]
    },
    {
     "data": {
      "text/html": [
       "<div>\n",
       "<table border=\"1\" class=\"dataframe\">\n",
       "  <thead>\n",
       "    <tr style=\"text-align: right;\">\n",
       "      <th></th>\n",
       "      <th>Basin_Name</th>\n",
       "      <th>Subbasin_N</th>\n",
       "      <th>year</th>\n",
       "      <th>cdl_class_name</th>\n",
       "      <th>acres</th>\n",
       "      <th>county</th>\n",
       "    </tr>\n",
       "  </thead>\n",
       "  <tbody>\n",
       "    <tr>\n",
       "      <th>0</th>\n",
       "      <td>SAN JOAQUIN VALLEY</td>\n",
       "      <td>EASTERN SAN JOAQUIN</td>\n",
       "      <td>2010</td>\n",
       "      <td>Oats</td>\n",
       "      <td>1739.683662</td>\n",
       "      <td>San Joaquin</td>\n",
       "    </tr>\n",
       "    <tr>\n",
       "      <th>1</th>\n",
       "      <td>SAN JOAQUIN VALLEY</td>\n",
       "      <td>EASTERN SAN JOAQUIN</td>\n",
       "      <td>2010</td>\n",
       "      <td>WinWht</td>\n",
       "      <td>680.083431</td>\n",
       "      <td>San Joaquin</td>\n",
       "    </tr>\n",
       "    <tr>\n",
       "      <th>2</th>\n",
       "      <td>SAN JOAQUIN VALLEY</td>\n",
       "      <td>EASTERN SAN JOAQUIN</td>\n",
       "      <td>2010</td>\n",
       "      <td>WinWht</td>\n",
       "      <td>27.243368</td>\n",
       "      <td>San Joaquin</td>\n",
       "    </tr>\n",
       "    <tr>\n",
       "      <th>3</th>\n",
       "      <td>SAN JOAQUIN VALLEY</td>\n",
       "      <td>EASTERN SAN JOAQUIN</td>\n",
       "      <td>2011</td>\n",
       "      <td>Oats</td>\n",
       "      <td>6434.994791</td>\n",
       "      <td>San Joaquin</td>\n",
       "    </tr>\n",
       "    <tr>\n",
       "      <th>4</th>\n",
       "      <td>SAN JOAQUIN VALLEY</td>\n",
       "      <td>EASTERN SAN JOAQUIN</td>\n",
       "      <td>2011</td>\n",
       "      <td>WinWht</td>\n",
       "      <td>1725.339194</td>\n",
       "      <td>San Joaquin</td>\n",
       "    </tr>\n",
       "  </tbody>\n",
       "</table>\n",
       "</div>"
      ],
      "text/plain": [
       "           Basin_Name           Subbasin_N  year cdl_class_name        acres  \\\n",
       "0  SAN JOAQUIN VALLEY  EASTERN SAN JOAQUIN  2010           Oats  1739.683662   \n",
       "1  SAN JOAQUIN VALLEY  EASTERN SAN JOAQUIN  2010         WinWht   680.083431   \n",
       "2  SAN JOAQUIN VALLEY  EASTERN SAN JOAQUIN  2010         WinWht    27.243368   \n",
       "3  SAN JOAQUIN VALLEY  EASTERN SAN JOAQUIN  2011           Oats  6434.994791   \n",
       "4  SAN JOAQUIN VALLEY  EASTERN SAN JOAQUIN  2011         WinWht  1725.339194   \n",
       "\n",
       "        county  \n",
       "0  San Joaquin  \n",
       "1  San Joaquin  \n",
       "2  San Joaquin  \n",
       "3  San Joaquin  \n",
       "4  San Joaquin  "
      ]
     },
     "execution_count": 26,
     "metadata": {},
     "output_type": "execute_result"
    }
   ],
   "source": [
    "double_full_df = pd.concat([dbl_crop, dbl_crop_B],ignore_index=True)\n",
    "print double_full_df.shape\n",
    "double_full_df.head()"
   ]
  },
  {
   "cell_type": "code",
   "execution_count": 27,
   "metadata": {
    "collapsed": false
   },
   "outputs": [
    {
     "data": {
      "text/plain": [
       "(6211, 6)"
      ]
     },
     "execution_count": 27,
     "metadata": {},
     "output_type": "execute_result"
    }
   ],
   "source": [
    "SanJQ.ix[~SanJQ.cdl_class_name.str.startswith('Dbl'),].shape"
   ]
  },
  {
   "cell_type": "code",
   "execution_count": 28,
   "metadata": {
    "collapsed": false
   },
   "outputs": [
    {
     "data": {
      "text/plain": [
       "(6633, 6)"
      ]
     },
     "execution_count": 28,
     "metadata": {},
     "output_type": "execute_result"
    }
   ],
   "source": [
    "SanJQ.shape"
   ]
  },
  {
   "cell_type": "code",
   "execution_count": 29,
   "metadata": {
    "collapsed": false
   },
   "outputs": [
    {
     "data": {
      "text/plain": [
       "(422, 6)"
      ]
     },
     "execution_count": 29,
     "metadata": {},
     "output_type": "execute_result"
    }
   ],
   "source": [
    "SanJQ.ix[SanJQ.cdl_class_name.str.startswith('Dbl'),].shape"
   ]
  },
  {
   "cell_type": "code",
   "execution_count": 30,
   "metadata": {
    "collapsed": false
   },
   "outputs": [
    {
     "data": {
      "text/html": [
       "<div>\n",
       "<table border=\"1\" class=\"dataframe\">\n",
       "  <thead>\n",
       "    <tr style=\"text-align: right;\">\n",
       "      <th></th>\n",
       "      <th>Basin_Name</th>\n",
       "      <th>Subbasin_N</th>\n",
       "      <th>year</th>\n",
       "      <th>cdl_class_name</th>\n",
       "      <th>acres</th>\n",
       "      <th>county</th>\n",
       "    </tr>\n",
       "  </thead>\n",
       "  <tbody>\n",
       "    <tr>\n",
       "      <th>0</th>\n",
       "      <td>SAN JOAQUIN VALLEY</td>\n",
       "      <td>EASTERN SAN JOAQUIN</td>\n",
       "      <td>2010</td>\n",
       "      <td>Grass/Pasture</td>\n",
       "      <td>238527.587650</td>\n",
       "      <td>San Joaquin</td>\n",
       "    </tr>\n",
       "    <tr>\n",
       "      <th>1</th>\n",
       "      <td>SAN JOAQUIN VALLEY</td>\n",
       "      <td>EASTERN SAN JOAQUIN</td>\n",
       "      <td>2010</td>\n",
       "      <td>Walnuts</td>\n",
       "      <td>73249.299965</td>\n",
       "      <td>San Joaquin</td>\n",
       "    </tr>\n",
       "    <tr>\n",
       "      <th>2</th>\n",
       "      <td>SAN JOAQUIN VALLEY</td>\n",
       "      <td>EASTERN SAN JOAQUIN</td>\n",
       "      <td>2010</td>\n",
       "      <td>Grapes</td>\n",
       "      <td>62451.585532</td>\n",
       "      <td>San Joaquin</td>\n",
       "    </tr>\n",
       "    <tr>\n",
       "      <th>3</th>\n",
       "      <td>SAN JOAQUIN VALLEY</td>\n",
       "      <td>EASTERN SAN JOAQUIN</td>\n",
       "      <td>2010</td>\n",
       "      <td>Corn</td>\n",
       "      <td>55180.608525</td>\n",
       "      <td>San Joaquin</td>\n",
       "    </tr>\n",
       "    <tr>\n",
       "      <th>4</th>\n",
       "      <td>SAN JOAQUIN VALLEY</td>\n",
       "      <td>EASTERN SAN JOAQUIN</td>\n",
       "      <td>2010</td>\n",
       "      <td>Almonds</td>\n",
       "      <td>48995.140747</td>\n",
       "      <td>San Joaquin</td>\n",
       "    </tr>\n",
       "  </tbody>\n",
       "</table>\n",
       "</div>"
      ],
      "text/plain": [
       "           Basin_Name           Subbasin_N  year cdl_class_name  \\\n",
       "0  SAN JOAQUIN VALLEY  EASTERN SAN JOAQUIN  2010  Grass/Pasture   \n",
       "1  SAN JOAQUIN VALLEY  EASTERN SAN JOAQUIN  2010        Walnuts   \n",
       "2  SAN JOAQUIN VALLEY  EASTERN SAN JOAQUIN  2010         Grapes   \n",
       "3  SAN JOAQUIN VALLEY  EASTERN SAN JOAQUIN  2010           Corn   \n",
       "4  SAN JOAQUIN VALLEY  EASTERN SAN JOAQUIN  2010        Almonds   \n",
       "\n",
       "           acres       county  \n",
       "0  238527.587650  San Joaquin  \n",
       "1   73249.299965  San Joaquin  \n",
       "2   62451.585532  San Joaquin  \n",
       "3   55180.608525  San Joaquin  \n",
       "4   48995.140747  San Joaquin  "
      ]
     },
     "execution_count": 30,
     "metadata": {},
     "output_type": "execute_result"
    }
   ],
   "source": [
    "SanJQ.ix[~SanJQ.cdl_class_name.str.startswith('Dbl'),].head()"
   ]
  },
  {
   "cell_type": "code",
   "execution_count": 31,
   "metadata": {
    "collapsed": false
   },
   "outputs": [
    {
     "data": {
      "text/html": [
       "<div>\n",
       "<table border=\"1\" class=\"dataframe\">\n",
       "  <thead>\n",
       "    <tr style=\"text-align: right;\">\n",
       "      <th></th>\n",
       "      <th>Basin_Name</th>\n",
       "      <th>Subbasin_N</th>\n",
       "      <th>year</th>\n",
       "      <th>cdl_class_name</th>\n",
       "      <th>acres</th>\n",
       "      <th>county</th>\n",
       "    </tr>\n",
       "  </thead>\n",
       "  <tbody>\n",
       "    <tr>\n",
       "      <th>0</th>\n",
       "      <td>SAN JOAQUIN VALLEY</td>\n",
       "      <td>EASTERN SAN JOAQUIN</td>\n",
       "      <td>2010</td>\n",
       "      <td>Oats</td>\n",
       "      <td>1739.683662</td>\n",
       "      <td>San Joaquin</td>\n",
       "    </tr>\n",
       "    <tr>\n",
       "      <th>1</th>\n",
       "      <td>SAN JOAQUIN VALLEY</td>\n",
       "      <td>EASTERN SAN JOAQUIN</td>\n",
       "      <td>2010</td>\n",
       "      <td>WinWht</td>\n",
       "      <td>680.083431</td>\n",
       "      <td>San Joaquin</td>\n",
       "    </tr>\n",
       "    <tr>\n",
       "      <th>2</th>\n",
       "      <td>SAN JOAQUIN VALLEY</td>\n",
       "      <td>EASTERN SAN JOAQUIN</td>\n",
       "      <td>2010</td>\n",
       "      <td>WinWht</td>\n",
       "      <td>27.243368</td>\n",
       "      <td>San Joaquin</td>\n",
       "    </tr>\n",
       "    <tr>\n",
       "      <th>3</th>\n",
       "      <td>SAN JOAQUIN VALLEY</td>\n",
       "      <td>EASTERN SAN JOAQUIN</td>\n",
       "      <td>2011</td>\n",
       "      <td>Oats</td>\n",
       "      <td>6434.994791</td>\n",
       "      <td>San Joaquin</td>\n",
       "    </tr>\n",
       "    <tr>\n",
       "      <th>4</th>\n",
       "      <td>SAN JOAQUIN VALLEY</td>\n",
       "      <td>EASTERN SAN JOAQUIN</td>\n",
       "      <td>2011</td>\n",
       "      <td>WinWht</td>\n",
       "      <td>1725.339194</td>\n",
       "      <td>San Joaquin</td>\n",
       "    </tr>\n",
       "  </tbody>\n",
       "</table>\n",
       "</div>"
      ],
      "text/plain": [
       "           Basin_Name           Subbasin_N  year cdl_class_name        acres  \\\n",
       "0  SAN JOAQUIN VALLEY  EASTERN SAN JOAQUIN  2010           Oats  1739.683662   \n",
       "1  SAN JOAQUIN VALLEY  EASTERN SAN JOAQUIN  2010         WinWht   680.083431   \n",
       "2  SAN JOAQUIN VALLEY  EASTERN SAN JOAQUIN  2010         WinWht    27.243368   \n",
       "3  SAN JOAQUIN VALLEY  EASTERN SAN JOAQUIN  2011           Oats  6434.994791   \n",
       "4  SAN JOAQUIN VALLEY  EASTERN SAN JOAQUIN  2011         WinWht  1725.339194   \n",
       "\n",
       "        county  \n",
       "0  San Joaquin  \n",
       "1  San Joaquin  \n",
       "2  San Joaquin  \n",
       "3  San Joaquin  \n",
       "4  San Joaquin  "
      ]
     },
     "execution_count": 31,
     "metadata": {},
     "output_type": "execute_result"
    }
   ],
   "source": [
    "double_full_df.head()"
   ]
  },
  {
   "cell_type": "code",
   "execution_count": 32,
   "metadata": {
    "collapsed": false
   },
   "outputs": [
    {
     "data": {
      "text/plain": [
       "(7055, 6)"
      ]
     },
     "execution_count": 32,
     "metadata": {},
     "output_type": "execute_result"
    }
   ],
   "source": [
    "pd.concat([SanJQ.ix[~SanJQ.cdl_class_name.str.startswith('Dbl'),], double_full_df],ignore_index=True).shape"
   ]
  },
  {
   "cell_type": "code",
   "execution_count": 33,
   "metadata": {
    "collapsed": false
   },
   "outputs": [
    {
     "data": {
      "text/plain": [
       "7055"
      ]
     },
     "execution_count": 33,
     "metadata": {},
     "output_type": "execute_result"
    }
   ],
   "source": [
    "6211+422*2"
   ]
  },
  {
   "cell_type": "code",
   "execution_count": 34,
   "metadata": {
    "collapsed": true
   },
   "outputs": [],
   "source": [
    "SanJQ_single = pd.concat([SanJQ.ix[~SanJQ.cdl_class_name.str.startswith('Dbl'),], double_full_df],ignore_index=True)"
   ]
  },
  {
   "cell_type": "code",
   "execution_count": 35,
   "metadata": {
    "collapsed": false
   },
   "outputs": [
    {
     "data": {
      "text/plain": [
       "(7055, 6)"
      ]
     },
     "execution_count": 35,
     "metadata": {},
     "output_type": "execute_result"
    }
   ],
   "source": [
    "SanJQ_single.shape"
   ]
  },
  {
   "cell_type": "code",
   "execution_count": 36,
   "metadata": {
    "collapsed": false
   },
   "outputs": [
    {
     "data": {
      "text/html": [
       "<div>\n",
       "<table border=\"1\" class=\"dataframe\">\n",
       "  <thead>\n",
       "    <tr style=\"text-align: right;\">\n",
       "      <th></th>\n",
       "      <th>Basin_Name</th>\n",
       "      <th>Subbasin_N</th>\n",
       "      <th>year</th>\n",
       "      <th>cdl_class_name</th>\n",
       "      <th>acres</th>\n",
       "      <th>county</th>\n",
       "    </tr>\n",
       "  </thead>\n",
       "  <tbody>\n",
       "    <tr>\n",
       "      <th>0</th>\n",
       "      <td>SAN JOAQUIN VALLEY</td>\n",
       "      <td>EASTERN SAN JOAQUIN</td>\n",
       "      <td>2010</td>\n",
       "      <td>Grass/Pasture</td>\n",
       "      <td>238527.587650</td>\n",
       "      <td>San Joaquin</td>\n",
       "    </tr>\n",
       "    <tr>\n",
       "      <th>1</th>\n",
       "      <td>SAN JOAQUIN VALLEY</td>\n",
       "      <td>EASTERN SAN JOAQUIN</td>\n",
       "      <td>2010</td>\n",
       "      <td>Walnuts</td>\n",
       "      <td>73249.299965</td>\n",
       "      <td>San Joaquin</td>\n",
       "    </tr>\n",
       "    <tr>\n",
       "      <th>2</th>\n",
       "      <td>SAN JOAQUIN VALLEY</td>\n",
       "      <td>EASTERN SAN JOAQUIN</td>\n",
       "      <td>2010</td>\n",
       "      <td>Grapes</td>\n",
       "      <td>62451.585532</td>\n",
       "      <td>San Joaquin</td>\n",
       "    </tr>\n",
       "    <tr>\n",
       "      <th>3</th>\n",
       "      <td>SAN JOAQUIN VALLEY</td>\n",
       "      <td>EASTERN SAN JOAQUIN</td>\n",
       "      <td>2010</td>\n",
       "      <td>Corn</td>\n",
       "      <td>55180.608525</td>\n",
       "      <td>San Joaquin</td>\n",
       "    </tr>\n",
       "    <tr>\n",
       "      <th>4</th>\n",
       "      <td>SAN JOAQUIN VALLEY</td>\n",
       "      <td>EASTERN SAN JOAQUIN</td>\n",
       "      <td>2010</td>\n",
       "      <td>Almonds</td>\n",
       "      <td>48995.140747</td>\n",
       "      <td>San Joaquin</td>\n",
       "    </tr>\n",
       "  </tbody>\n",
       "</table>\n",
       "</div>"
      ],
      "text/plain": [
       "           Basin_Name           Subbasin_N  year cdl_class_name  \\\n",
       "0  SAN JOAQUIN VALLEY  EASTERN SAN JOAQUIN  2010  Grass/Pasture   \n",
       "1  SAN JOAQUIN VALLEY  EASTERN SAN JOAQUIN  2010        Walnuts   \n",
       "2  SAN JOAQUIN VALLEY  EASTERN SAN JOAQUIN  2010         Grapes   \n",
       "3  SAN JOAQUIN VALLEY  EASTERN SAN JOAQUIN  2010           Corn   \n",
       "4  SAN JOAQUIN VALLEY  EASTERN SAN JOAQUIN  2010        Almonds   \n",
       "\n",
       "           acres       county  \n",
       "0  238527.587650  San Joaquin  \n",
       "1   73249.299965  San Joaquin  \n",
       "2   62451.585532  San Joaquin  \n",
       "3   55180.608525  San Joaquin  \n",
       "4   48995.140747  San Joaquin  "
      ]
     },
     "execution_count": 36,
     "metadata": {},
     "output_type": "execute_result"
    }
   ],
   "source": [
    "SanJQ_single.head()"
   ]
  },
  {
   "cell_type": "code",
   "execution_count": 37,
   "metadata": {
    "collapsed": false
   },
   "outputs": [
    {
     "data": {
      "text/plain": [
       "pandas.core.series.Series"
      ]
     },
     "execution_count": 37,
     "metadata": {},
     "output_type": "execute_result"
    }
   ],
   "source": [
    "collections.Counter(SanJQ_single.cdl_class_name)\n",
    "type(SanJQ_single.cdl_class_name)"
   ]
  },
  {
   "cell_type": "code",
   "execution_count": 38,
   "metadata": {
    "collapsed": false
   },
   "outputs": [
    {
     "data": {
      "text/plain": [
       "7055"
      ]
     },
     "execution_count": 38,
     "metadata": {},
     "output_type": "execute_result"
    }
   ],
   "source": [
    "len(SanJQ_single.cdl_class_name)"
   ]
  },
  {
   "cell_type": "code",
   "execution_count": 39,
   "metadata": {
    "collapsed": false
   },
   "outputs": [
    {
     "data": {
      "text/html": [
       "<div>\n",
       "<table border=\"1\" class=\"dataframe\">\n",
       "  <thead>\n",
       "    <tr style=\"text-align: right;\">\n",
       "      <th></th>\n",
       "      <th>Basin_Name</th>\n",
       "      <th>Subbasin_N</th>\n",
       "      <th>year</th>\n",
       "      <th>cdl_class_name</th>\n",
       "      <th>acres</th>\n",
       "      <th>county</th>\n",
       "    </tr>\n",
       "  </thead>\n",
       "  <tbody>\n",
       "    <tr>\n",
       "      <th>6833</th>\n",
       "      <td>SAN JOAQUIN VALLEY</td>\n",
       "      <td>KINGS</td>\n",
       "      <td>2012</td>\n",
       "      <td>Cantaloupe</td>\n",
       "      <td>1.111974</td>\n",
       "      <td>Kings</td>\n",
       "    </tr>\n",
       "    <tr>\n",
       "      <th>6862</th>\n",
       "      <td>SAN JOAQUIN VALLEY</td>\n",
       "      <td>WESTSIDE</td>\n",
       "      <td>2012</td>\n",
       "      <td>Cantaloupe</td>\n",
       "      <td>131.880142</td>\n",
       "      <td>Fresno</td>\n",
       "    </tr>\n",
       "  </tbody>\n",
       "</table>\n",
       "</div>"
      ],
      "text/plain": [
       "              Basin_Name Subbasin_N  year cdl_class_name       acres  county\n",
       "6833  SAN JOAQUIN VALLEY      KINGS  2012     Cantaloupe    1.111974   Kings\n",
       "6862  SAN JOAQUIN VALLEY   WESTSIDE  2012     Cantaloupe  131.880142  Fresno"
      ]
     },
     "execution_count": 39,
     "metadata": {},
     "output_type": "execute_result"
    }
   ],
   "source": [
    "SanJQ_single.ix[SanJQ_single.cdl_class_name =='Cantaloupe']"
   ]
  },
  {
   "cell_type": "code",
   "execution_count": 40,
   "metadata": {
    "collapsed": false
   },
   "outputs": [
    {
     "data": {
      "text/html": [
       "<div>\n",
       "<table border=\"1\" class=\"dataframe\">\n",
       "  <thead>\n",
       "    <tr style=\"text-align: right;\">\n",
       "      <th></th>\n",
       "      <th>Basin_Name</th>\n",
       "      <th>Subbasin_N</th>\n",
       "      <th>year</th>\n",
       "      <th>cdl_class_name</th>\n",
       "      <th>acres</th>\n",
       "      <th>county</th>\n",
       "    </tr>\n",
       "  </thead>\n",
       "  <tbody>\n",
       "    <tr>\n",
       "      <th>6833</th>\n",
       "      <td>SAN JOAQUIN VALLEY</td>\n",
       "      <td>KINGS</td>\n",
       "      <td>2012</td>\n",
       "      <td>Cantaloupes</td>\n",
       "      <td>1.111974</td>\n",
       "      <td>Kings</td>\n",
       "    </tr>\n",
       "    <tr>\n",
       "      <th>6862</th>\n",
       "      <td>SAN JOAQUIN VALLEY</td>\n",
       "      <td>WESTSIDE</td>\n",
       "      <td>2012</td>\n",
       "      <td>Cantaloupes</td>\n",
       "      <td>131.880142</td>\n",
       "      <td>Fresno</td>\n",
       "    </tr>\n",
       "  </tbody>\n",
       "</table>\n",
       "</div>"
      ],
      "text/plain": [
       "              Basin_Name Subbasin_N  year cdl_class_name       acres  county\n",
       "6833  SAN JOAQUIN VALLEY      KINGS  2012    Cantaloupes    1.111974   Kings\n",
       "6862  SAN JOAQUIN VALLEY   WESTSIDE  2012    Cantaloupes  131.880142  Fresno"
      ]
     },
     "execution_count": 40,
     "metadata": {},
     "output_type": "execute_result"
    }
   ],
   "source": [
    "SanJQ_single.set_value([6833,6862],'cdl_class_name',u'Cantaloupes')\n",
    "SanJQ_single.iloc[[6833,6862],]"
   ]
  },
  {
   "cell_type": "code",
   "execution_count": 41,
   "metadata": {
    "collapsed": false
   },
   "outputs": [],
   "source": [
    "#SanJQ_single.ix[SanJQ_single.cdl_class_name =='WinWht'] #Winter Wheat\n",
    "#SanJQ_single.ix[SanJQ_single.cdl_class_name =='Durum Wht'] #Durum Wheat"
   ]
  },
  {
   "cell_type": "code",
   "execution_count": 42,
   "metadata": {
    "collapsed": false
   },
   "outputs": [],
   "source": [
    "ind = SanJQ_single.ix[SanJQ_single.cdl_class_name =='WinWht'].index.values"
   ]
  },
  {
   "cell_type": "code",
   "execution_count": 43,
   "metadata": {
    "collapsed": false
   },
   "outputs": [
    {
     "data": {
      "text/plain": [
       "Basin_Name         SAN JOAQUIN VALLEY\n",
       "Subbasin_N        EASTERN SAN JOAQUIN\n",
       "year                             2010\n",
       "cdl_class_name           Winter Wheat\n",
       "acres                         680.083\n",
       "county                    San Joaquin\n",
       "Name: 6212, dtype: object"
      ]
     },
     "execution_count": 43,
     "metadata": {},
     "output_type": "execute_result"
    }
   ],
   "source": [
    "SanJQ_single.set_value(ind,'cdl_class_name',u'Winter Wheat')\n",
    "SanJQ_single.ix[6212]"
   ]
  },
  {
   "cell_type": "code",
   "execution_count": 44,
   "metadata": {
    "collapsed": false
   },
   "outputs": [
    {
     "data": {
      "text/plain": [
       "array([6476, 6483, 6509, 6546, 6571, 6578])"
      ]
     },
     "execution_count": 44,
     "metadata": {},
     "output_type": "execute_result"
    }
   ],
   "source": [
    "indDW = SanJQ_single.ix[SanJQ_single.cdl_class_name =='Durum Wht'].index.values #Durum Wheat\n",
    "indDW"
   ]
  },
  {
   "cell_type": "code",
   "execution_count": 45,
   "metadata": {
    "collapsed": false
   },
   "outputs": [
    {
     "data": {
      "text/html": [
       "<div>\n",
       "<table border=\"1\" class=\"dataframe\">\n",
       "  <thead>\n",
       "    <tr style=\"text-align: right;\">\n",
       "      <th></th>\n",
       "      <th>Basin_Name</th>\n",
       "      <th>Subbasin_N</th>\n",
       "      <th>year</th>\n",
       "      <th>cdl_class_name</th>\n",
       "      <th>acres</th>\n",
       "      <th>county</th>\n",
       "    </tr>\n",
       "  </thead>\n",
       "  <tbody>\n",
       "    <tr>\n",
       "      <th>6476</th>\n",
       "      <td>SAN JOAQUIN VALLEY</td>\n",
       "      <td>KAWEAH</td>\n",
       "      <td>2013</td>\n",
       "      <td>Durum Wheat</td>\n",
       "      <td>0.555987</td>\n",
       "      <td>Tulare</td>\n",
       "    </tr>\n",
       "    <tr>\n",
       "      <th>6483</th>\n",
       "      <td>SAN JOAQUIN VALLEY</td>\n",
       "      <td>KAWEAH</td>\n",
       "      <td>2014</td>\n",
       "      <td>Durum Wheat</td>\n",
       "      <td>14.344467</td>\n",
       "      <td>Tulare</td>\n",
       "    </tr>\n",
       "    <tr>\n",
       "      <th>6509</th>\n",
       "      <td>SAN JOAQUIN VALLEY</td>\n",
       "      <td>TULARE LAKE</td>\n",
       "      <td>2013</td>\n",
       "      <td>Durum Wheat</td>\n",
       "      <td>11.453334</td>\n",
       "      <td>Kings</td>\n",
       "    </tr>\n",
       "    <tr>\n",
       "      <th>6546</th>\n",
       "      <td>SAN JOAQUIN VALLEY</td>\n",
       "      <td>TULE</td>\n",
       "      <td>2014</td>\n",
       "      <td>Durum Wheat</td>\n",
       "      <td>0.444790</td>\n",
       "      <td>Tulare</td>\n",
       "    </tr>\n",
       "    <tr>\n",
       "      <th>6571</th>\n",
       "      <td>SAN JOAQUIN VALLEY</td>\n",
       "      <td>KERN COUNTY</td>\n",
       "      <td>2013</td>\n",
       "      <td>Durum Wheat</td>\n",
       "      <td>0.444790</td>\n",
       "      <td>Kern</td>\n",
       "    </tr>\n",
       "    <tr>\n",
       "      <th>6578</th>\n",
       "      <td>SAN JOAQUIN VALLEY</td>\n",
       "      <td>KERN COUNTY</td>\n",
       "      <td>2014</td>\n",
       "      <td>Durum Wheat</td>\n",
       "      <td>0.111197</td>\n",
       "      <td>Kern</td>\n",
       "    </tr>\n",
       "  </tbody>\n",
       "</table>\n",
       "</div>"
      ],
      "text/plain": [
       "              Basin_Name   Subbasin_N  year cdl_class_name      acres  county\n",
       "6476  SAN JOAQUIN VALLEY       KAWEAH  2013    Durum Wheat   0.555987  Tulare\n",
       "6483  SAN JOAQUIN VALLEY       KAWEAH  2014    Durum Wheat  14.344467  Tulare\n",
       "6509  SAN JOAQUIN VALLEY  TULARE LAKE  2013    Durum Wheat  11.453334   Kings\n",
       "6546  SAN JOAQUIN VALLEY         TULE  2014    Durum Wheat   0.444790  Tulare\n",
       "6571  SAN JOAQUIN VALLEY  KERN COUNTY  2013    Durum Wheat   0.444790    Kern\n",
       "6578  SAN JOAQUIN VALLEY  KERN COUNTY  2014    Durum Wheat   0.111197    Kern"
      ]
     },
     "execution_count": 45,
     "metadata": {},
     "output_type": "execute_result"
    }
   ],
   "source": [
    "SanJQ_single.set_value(indDW,'cdl_class_name',u'Durum Wheat')\n",
    "SanJQ_single.ix[indDW]"
   ]
  },
  {
   "cell_type": "code",
   "execution_count": 46,
   "metadata": {
    "collapsed": false
   },
   "outputs": [],
   "source": [
    "#collections.Counter(SanJQ_single.cdl_class_name)"
   ]
  },
  {
   "cell_type": "code",
   "execution_count": 47,
   "metadata": {
    "collapsed": false
   },
   "outputs": [
    {
     "data": {
      "text/plain": [
       "True"
      ]
     },
     "execution_count": 47,
     "metadata": {},
     "output_type": "execute_result"
    }
   ],
   "source": [
    "u'd'=='d'"
   ]
  },
  {
   "cell_type": "code",
   "execution_count": 48,
   "metadata": {
    "collapsed": false
   },
   "outputs": [],
   "source": [
    "cropN_mainCrop_dict = {u'Alfalfa':'Alfalfa',     \n",
    "                  u'Almonds':'Al Pist',\n",
    "                  u'Apples': 'Oth Dec',     \n",
    "                  u'Apricots':'Oth Dec', \n",
    "                  u'Asparagus':'Oth Trk',   \n",
    "                  u'Barley':'Grain', \n",
    "                  u'Broccoli':'Oth Trk', \n",
    "                  u'Cabbage':'Oth Trk',     \n",
    "                  u'Camelina': 'Oth Fld',\n",
    "                  u'Caneberries':'Oth Trk', \n",
    "                  u'Blueberries':'Oth Trk',\n",
    "                  u'Canola':'Oth Fld',\n",
    "                  u'Cantaloupes': 'Cucurb',\n",
    "                  u'Carrots':'Oth Trk',     \n",
    "                  u'Cauliflower':'Oth Trk', \n",
    "                  u'Cherries': 'Oth Dec',\n",
    "                  u'Christmas Trees': 'Oth Trk',\n",
    "                  u'Citrus':'Subtrop', \n",
    "                  u'Clover/Wildflowers':'Pasture',\n",
    "                  u'Corn':'Corn', \n",
    "                  u'Cotton':'Cotton', \n",
    "                  u'Cranberries':'Oth Trk',\n",
    "                  u'Cucumbers':'Cucurb', \n",
    "                  u'Dry Beans': 'DryBean',\n",
    "                  u'Durum Wheat': 'Grain',\n",
    "                  u'Garlic':'On Gar', \n",
    "                  u'Grapes':'Vine',\n",
    "                  u'Grass/Pasture': \"Pasture\", \n",
    "                  u'Greens': \"Oth Trk\",\n",
    "                  u'Herbs': 'Oth Trk',\n",
    "                  u'Honeydew Melons': 'Cucurb', u'Lettuce': 'Oth Trk', \n",
    "                  u'Millet': 'Oth Fld',\n",
    "                  u'Misc Vegs & Fruits': \"Oth Dec\",\n",
    "                  u'Mustard': 'Oth Fld',                  \n",
    "                  u'Nectarines': 'Oth Dec',\n",
    "                  u'Oats': \"Grain\",\n",
    "                  u'Olives': 'Subtrop', \n",
    "                  u'Onions': 'On Gar', \n",
    "                  u'Oranges': 'Subtrop',\n",
    "                  u'Other Crops': 'Oth Fld',         \n",
    "         u'Other Hay/Non Alfalfa': 'Grain',\n",
    "         u'Other Tree Crops':'Oth Trk',\n",
    "         u'Peaches': 'Oth Dec',\n",
    "         u'Pears': 'Oth Dec',\n",
    "         u'Peas': 'Oth Trk',\n",
    "         u'Pecans': 'Oth Dec',\n",
    "         u'Peppers': 'Oth Trk',\n",
    "         u'Pistachios': 'Al Pist',\n",
    "         u'Plums': 'Oth Dec',\n",
    "         u'Pomegranates': 'Oth Dec',           \n",
    "         u'Pop or Orn Corn': 'Corn',\n",
    "         u'Potatoes': 'Potato',\n",
    "         u'Prunes': 'Oth Dec',\n",
    "         u'Pumpkins': 'Cucurb',\n",
    "         u'Radishes': \"SgrBeet\",        \n",
    "         u'Rice': 'Rice',\n",
    "         u'Rye': 'Grain',\n",
    "         u'Safflower': 'Safflwr',\n",
    "         u'Sod/Grass Seed': 'Pasture',\n",
    "         u'Sorghum': 'Oth Fld',\n",
    "         u'Soybeans': 'DryBean',\n",
    "         u'Spring Wheat': 'Grain',\n",
    "         u'Squash': 'Cucurb',\n",
    "         u'Strawberries': 'Oth Trk',\n",
    "         u'Sugarbeets': 'SgrBeet',\n",
    "         u'Sunflower': 'Oth Fld',\n",
    "         u'Sweet Corn': 'Corn',\n",
    "         u'Sweet Potatoes': 'Potato',\n",
    "         u'Tomatoes': 'Pr Tom',\n",
    "         u'Triticale': 'Grain',\n",
    "         u'Turnips': 'SgrBeet',                           \n",
    "         u'Vetch': 'Oth Trk',\n",
    "         u'Walnuts': 'Oth Dec',\n",
    "         u'Watermelons': 'Cucurb',\n",
    "         u'Winter Wheat': 'Grain'}"
   ]
  },
  {
   "cell_type": "code",
   "execution_count": 49,
   "metadata": {
    "collapsed": false
   },
   "outputs": [
    {
     "name": "stdout",
     "output_type": "stream",
     "text": [
      "['Alfalfa', 'Cucurb', 'Potato', 'Vine', 'Corn', 'On Gar', 'Oth Dec', 'DryBean', 'Cotton', 'Oth Trk', 'Oth Fld', 'Grain', 'Al Pist', 'Safflwr', 'Pasture', 'Subtrop', 'Rice', 'Pr Tom', 'SgrBeet']\n"
     ]
    },
    {
     "data": {
      "text/plain": [
       "{'Al Pist': [u'Almonds', u'Pistachios'],\n",
       " 'Alfalfa': [u'Alfalfa'],\n",
       " 'Corn': [u'Corn', u'Sweet Corn', u'Pop or Orn Corn'],\n",
       " 'Cotton': [u'Cotton'],\n",
       " 'Cucurb': [u'Cantaloupes',\n",
       "  u'Pumpkins',\n",
       "  u'Honeydew Melons',\n",
       "  u'Squash',\n",
       "  u'Watermelons',\n",
       "  u'Cucumbers'],\n",
       " 'DryBean': [u'Dry Beans', u'Soybeans'],\n",
       " 'Grain': [u'Barley',\n",
       "  u'Spring Wheat',\n",
       "  u'Durum Wheat',\n",
       "  u'Triticale',\n",
       "  u'Other Hay/Non Alfalfa',\n",
       "  u'Rye',\n",
       "  u'Winter Wheat',\n",
       "  u'Oats'],\n",
       " 'On Gar': [u'Garlic', u'Onions'],\n",
       " 'Oth Dec': [u'Pears',\n",
       "  u'Apricots',\n",
       "  u'Misc Vegs & Fruits',\n",
       "  u'Pomegranates',\n",
       "  u'Cherries',\n",
       "  u'Nectarines',\n",
       "  u'Plums',\n",
       "  u'Walnuts',\n",
       "  u'Prunes',\n",
       "  u'Apples',\n",
       "  u'Pecans',\n",
       "  u'Peaches'],\n",
       " 'Oth Fld': [u'Sunflower',\n",
       "  u'Other Crops',\n",
       "  u'Sorghum',\n",
       "  u'Camelina',\n",
       "  u'Canola',\n",
       "  u'Mustard',\n",
       "  u'Millet'],\n",
       " 'Oth Trk': [u'Blueberries',\n",
       "  u'Vetch',\n",
       "  u'Peppers',\n",
       "  u'Other Tree Crops',\n",
       "  u'Peas',\n",
       "  u'Broccoli',\n",
       "  u'Asparagus',\n",
       "  u'Carrots',\n",
       "  u'Cranberries',\n",
       "  u'Cauliflower',\n",
       "  u'Lettuce',\n",
       "  u'Herbs',\n",
       "  u'Strawberries',\n",
       "  u'Cabbage',\n",
       "  u'Greens',\n",
       "  u'Christmas Trees',\n",
       "  u'Caneberries'],\n",
       " 'Pasture': [u'Clover/Wildflowers', u'Grass/Pasture', u'Sod/Grass Seed'],\n",
       " 'Potato': [u'Sweet Potatoes', u'Potatoes'],\n",
       " 'Pr Tom': [u'Tomatoes'],\n",
       " 'Rice': [u'Rice'],\n",
       " 'Safflwr': [u'Safflower'],\n",
       " 'SgrBeet': [u'Radishes', u'Sugarbeets', u'Turnips'],\n",
       " 'Subtrop': [u'Oranges', u'Olives', u'Citrus'],\n",
       " 'Vine': [u'Grapes']}"
      ]
     },
     "execution_count": 49,
     "metadata": {},
     "output_type": "execute_result"
    }
   ],
   "source": [
    "my_map = cropN_mainCrop_dict.copy()\n",
    "inv_map = {}\n",
    "for k, v in my_map.iteritems():\n",
    "    inv_map[v] = inv_map.get(v, [])\n",
    "    inv_map[v].append(k)\n",
    "print inv_map.keys()    \n",
    "inv_map"
   ]
  },
  {
   "cell_type": "code",
   "execution_count": 50,
   "metadata": {
    "collapsed": true
   },
   "outputs": [],
   "source": [
    "SanJQ_single[\"Crop_Name\"] = SanJQ_single[\"cdl_class_name\"].map(cropN_mainCrop_dict)"
   ]
  },
  {
   "cell_type": "code",
   "execution_count": 51,
   "metadata": {
    "collapsed": false
   },
   "outputs": [
    {
     "name": "stdout",
     "output_type": "stream",
     "text": [
      "(7055, 7)\n",
      "(1357, 7)\n"
     ]
    },
    {
     "data": {
      "text/plain": [
       "Counter({u'Aquaculture': 5,\n",
       "         u'Barren': 108,\n",
       "         u'Deciduous Forest': 86,\n",
       "         u'Developed/High Intensity': 108,\n",
       "         u'Developed/Low Intensity': 108,\n",
       "         u'Developed/Med Intensity': 108,\n",
       "         u'Developed/Open Space': 108,\n",
       "         u'Evergreen Forest': 89,\n",
       "         u'Fallow/Idle Cropland': 108,\n",
       "         u'Forest': 8,\n",
       "         u'Herbaceous Wetlands': 106,\n",
       "         u'Mixed Forest': 91,\n",
       "         u'Open Water': 108,\n",
       "         u'Shrubland': 108,\n",
       "         u'Wetlands': 6,\n",
       "         u'Woody Wetlands': 102})"
      ]
     },
     "execution_count": 51,
     "metadata": {},
     "output_type": "execute_result"
    }
   ],
   "source": [
    "##\n",
    "cdl_null_df = SanJQ_single[pd.isnull(SanJQ_single).any(axis=1)]\n",
    "print SanJQ_single.shape\n",
    "print cdl_null_df.shape\n",
    "collections.Counter(cdl_null_df.cdl_class_name)"
   ]
  },
  {
   "cell_type": "code",
   "execution_count": 52,
   "metadata": {
    "collapsed": false
   },
   "outputs": [
    {
     "name": "stdout",
     "output_type": "stream",
     "text": [
      "5698\n"
     ]
    },
    {
     "data": {
      "text/plain": [
       "(5698, 7)"
      ]
     },
     "execution_count": 52,
     "metadata": {},
     "output_type": "execute_result"
    }
   ],
   "source": [
    "print 7055 - 1357\n",
    "SanJQ_single = SanJQ_single.dropna()\n",
    "SanJQ_single.shape"
   ]
  },
  {
   "cell_type": "code",
   "execution_count": 53,
   "metadata": {
    "collapsed": false
   },
   "outputs": [
    {
     "data": {
      "text/html": [
       "<div>\n",
       "<table border=\"1\" class=\"dataframe\">\n",
       "  <thead>\n",
       "    <tr style=\"text-align: right;\">\n",
       "      <th></th>\n",
       "      <th>Basin_Name</th>\n",
       "      <th>Subbasin_N</th>\n",
       "      <th>year</th>\n",
       "      <th>cdl_class_name</th>\n",
       "      <th>acres</th>\n",
       "      <th>county</th>\n",
       "      <th>Crop_Name</th>\n",
       "    </tr>\n",
       "  </thead>\n",
       "  <tbody>\n",
       "    <tr>\n",
       "      <th>0</th>\n",
       "      <td>SAN JOAQUIN VALLEY</td>\n",
       "      <td>EASTERN SAN JOAQUIN</td>\n",
       "      <td>2010</td>\n",
       "      <td>Grass/Pasture</td>\n",
       "      <td>238527.587650</td>\n",
       "      <td>San Joaquin</td>\n",
       "      <td>Pasture</td>\n",
       "    </tr>\n",
       "    <tr>\n",
       "      <th>1</th>\n",
       "      <td>SAN JOAQUIN VALLEY</td>\n",
       "      <td>EASTERN SAN JOAQUIN</td>\n",
       "      <td>2010</td>\n",
       "      <td>Walnuts</td>\n",
       "      <td>73249.299965</td>\n",
       "      <td>San Joaquin</td>\n",
       "      <td>Oth Dec</td>\n",
       "    </tr>\n",
       "    <tr>\n",
       "      <th>2</th>\n",
       "      <td>SAN JOAQUIN VALLEY</td>\n",
       "      <td>EASTERN SAN JOAQUIN</td>\n",
       "      <td>2010</td>\n",
       "      <td>Grapes</td>\n",
       "      <td>62451.585532</td>\n",
       "      <td>San Joaquin</td>\n",
       "      <td>Vine</td>\n",
       "    </tr>\n",
       "    <tr>\n",
       "      <th>3</th>\n",
       "      <td>SAN JOAQUIN VALLEY</td>\n",
       "      <td>EASTERN SAN JOAQUIN</td>\n",
       "      <td>2010</td>\n",
       "      <td>Corn</td>\n",
       "      <td>55180.608525</td>\n",
       "      <td>San Joaquin</td>\n",
       "      <td>Corn</td>\n",
       "    </tr>\n",
       "    <tr>\n",
       "      <th>4</th>\n",
       "      <td>SAN JOAQUIN VALLEY</td>\n",
       "      <td>EASTERN SAN JOAQUIN</td>\n",
       "      <td>2010</td>\n",
       "      <td>Almonds</td>\n",
       "      <td>48995.140747</td>\n",
       "      <td>San Joaquin</td>\n",
       "      <td>Al Pist</td>\n",
       "    </tr>\n",
       "  </tbody>\n",
       "</table>\n",
       "</div>"
      ],
      "text/plain": [
       "           Basin_Name           Subbasin_N  year cdl_class_name  \\\n",
       "0  SAN JOAQUIN VALLEY  EASTERN SAN JOAQUIN  2010  Grass/Pasture   \n",
       "1  SAN JOAQUIN VALLEY  EASTERN SAN JOAQUIN  2010        Walnuts   \n",
       "2  SAN JOAQUIN VALLEY  EASTERN SAN JOAQUIN  2010         Grapes   \n",
       "3  SAN JOAQUIN VALLEY  EASTERN SAN JOAQUIN  2010           Corn   \n",
       "4  SAN JOAQUIN VALLEY  EASTERN SAN JOAQUIN  2010        Almonds   \n",
       "\n",
       "           acres       county Crop_Name  \n",
       "0  238527.587650  San Joaquin   Pasture  \n",
       "1   73249.299965  San Joaquin   Oth Dec  \n",
       "2   62451.585532  San Joaquin      Vine  \n",
       "3   55180.608525  San Joaquin      Corn  \n",
       "4   48995.140747  San Joaquin   Al Pist  "
      ]
     },
     "execution_count": 53,
     "metadata": {},
     "output_type": "execute_result"
    }
   ],
   "source": [
    "SanJQ_single.head()"
   ]
  },
  {
   "cell_type": "code",
   "execution_count": 54,
   "metadata": {
    "collapsed": false
   },
   "outputs": [
    {
     "data": {
      "text/plain": [
       "u'/Users/yanlinli/Dropbox/141groupprj/OriginalData'"
      ]
     },
     "execution_count": 54,
     "metadata": {},
     "output_type": "execute_result"
    }
   ],
   "source": [
    "pwd"
   ]
  },
  {
   "cell_type": "code",
   "execution_count": 55,
   "metadata": {
    "collapsed": false
   },
   "outputs": [
    {
     "data": {
      "text/plain": [
       "['.DS_Store',\n",
       " 'Ag_2010.xlsx',\n",
       " 'cdl_ca_gw_basins.xlsx',\n",
       " 'Lati_Longi.xlsx',\n",
       " 'OriginalData copy',\n",
       " 'OtherTxt',\n",
       " 'precipitation.xlsx',\n",
       " 'Sq_long_La_16Sub.xlsx',\n",
       " 'SubB_Yr_Cnty_Crp_Wtr_Acr_Zip_Prcip.xlsx',\n",
       " 'WaterUsage_Per_Crop_2010.xlsx']"
      ]
     },
     "execution_count": 55,
     "metadata": {},
     "output_type": "execute_result"
    }
   ],
   "source": [
    "path='/Users/yanlinli/Dropbox/141groupprj/OriginalData'\n",
    "os.listdir(path)\n"
   ]
  },
  {
   "cell_type": "code",
   "execution_count": 56,
   "metadata": {
    "collapsed": true
   },
   "outputs": [],
   "source": [
    "Ag_2010 = pd.read_excel('Ag_2010.xlsx')"
   ]
  },
  {
   "cell_type": "code",
   "execution_count": 57,
   "metadata": {
    "collapsed": false
   },
   "outputs": [
    {
     "data": {
      "text/html": [
       "<div>\n",
       "<table border=\"1\" class=\"dataframe\">\n",
       "  <thead>\n",
       "    <tr style=\"text-align: right;\">\n",
       "      <th></th>\n",
       "      <th>Co_Name</th>\n",
       "      <th>Grain AW WA</th>\n",
       "      <th>Rice AW WA</th>\n",
       "      <th>Cotton AW WA</th>\n",
       "      <th>SgrBeet AW WA</th>\n",
       "      <th>Corn AW WA</th>\n",
       "      <th>DryBean AW WA</th>\n",
       "      <th>Safflwr AW WA</th>\n",
       "      <th>Oth Fld AW WA</th>\n",
       "      <th>Alfalfa AW WA</th>\n",
       "      <th>...</th>\n",
       "      <th>Pr Tom AW WA</th>\n",
       "      <th>Fr Tom AW WA</th>\n",
       "      <th>Cucurb AW WA</th>\n",
       "      <th>On Gar AW WA</th>\n",
       "      <th>Potato AW WA</th>\n",
       "      <th>Oth Trk AW WA</th>\n",
       "      <th>Al Pist AW WA</th>\n",
       "      <th>Oth Dec AW WA</th>\n",
       "      <th>Subtrop AW WA</th>\n",
       "      <th>Vine AW WA</th>\n",
       "    </tr>\n",
       "    <tr>\n",
       "      <th>Co_Name</th>\n",
       "      <th></th>\n",
       "      <th></th>\n",
       "      <th></th>\n",
       "      <th></th>\n",
       "      <th></th>\n",
       "      <th></th>\n",
       "      <th></th>\n",
       "      <th></th>\n",
       "      <th></th>\n",
       "      <th></th>\n",
       "      <th></th>\n",
       "      <th></th>\n",
       "      <th></th>\n",
       "      <th></th>\n",
       "      <th></th>\n",
       "      <th></th>\n",
       "      <th></th>\n",
       "      <th></th>\n",
       "      <th></th>\n",
       "      <th></th>\n",
       "      <th></th>\n",
       "    </tr>\n",
       "  </thead>\n",
       "  <tbody>\n",
       "    <tr>\n",
       "      <th>Alameda</th>\n",
       "      <td>Alameda</td>\n",
       "      <td>1.227136</td>\n",
       "      <td>4.885808</td>\n",
       "      <td>3.5756</td>\n",
       "      <td>3.209961</td>\n",
       "      <td>2.263332</td>\n",
       "      <td>1.940346</td>\n",
       "      <td>1.601214</td>\n",
       "      <td>2.226513</td>\n",
       "      <td>5.566410</td>\n",
       "      <td>...</td>\n",
       "      <td>2.427646</td>\n",
       "      <td>1.978039</td>\n",
       "      <td>1.332642</td>\n",
       "      <td>2.638490</td>\n",
       "      <td>2.720195</td>\n",
       "      <td>3.322419</td>\n",
       "      <td>4.012059</td>\n",
       "      <td>4.089118</td>\n",
       "      <td>3.200228</td>\n",
       "      <td>1.322920</td>\n",
       "    </tr>\n",
       "    <tr>\n",
       "      <th>Alpine</th>\n",
       "      <td>Alpine</td>\n",
       "      <td>1.036609</td>\n",
       "      <td>4.885808</td>\n",
       "      <td>3.5756</td>\n",
       "      <td>3.209961</td>\n",
       "      <td>2.263332</td>\n",
       "      <td>1.940346</td>\n",
       "      <td>1.601214</td>\n",
       "      <td>2.226513</td>\n",
       "      <td>3.979483</td>\n",
       "      <td>...</td>\n",
       "      <td>2.427646</td>\n",
       "      <td>1.978039</td>\n",
       "      <td>1.332642</td>\n",
       "      <td>2.638490</td>\n",
       "      <td>2.720195</td>\n",
       "      <td>1.745486</td>\n",
       "      <td>3.435330</td>\n",
       "      <td>3.093030</td>\n",
       "      <td>2.750411</td>\n",
       "      <td>1.473550</td>\n",
       "    </tr>\n",
       "    <tr>\n",
       "      <th>Amador</th>\n",
       "      <td>Amador</td>\n",
       "      <td>0.152481</td>\n",
       "      <td>4.885808</td>\n",
       "      <td>3.5756</td>\n",
       "      <td>3.209961</td>\n",
       "      <td>2.263332</td>\n",
       "      <td>1.940346</td>\n",
       "      <td>1.601214</td>\n",
       "      <td>2.703687</td>\n",
       "      <td>3.511449</td>\n",
       "      <td>...</td>\n",
       "      <td>2.427646</td>\n",
       "      <td>1.978039</td>\n",
       "      <td>1.332642</td>\n",
       "      <td>2.638490</td>\n",
       "      <td>2.720195</td>\n",
       "      <td>2.418772</td>\n",
       "      <td>3.435330</td>\n",
       "      <td>2.729704</td>\n",
       "      <td>2.750411</td>\n",
       "      <td>0.581198</td>\n",
       "    </tr>\n",
       "    <tr>\n",
       "      <th>Butte</th>\n",
       "      <td>Butte</td>\n",
       "      <td>0.151040</td>\n",
       "      <td>4.200113</td>\n",
       "      <td>3.5756</td>\n",
       "      <td>3.209961</td>\n",
       "      <td>2.263332</td>\n",
       "      <td>1.508677</td>\n",
       "      <td>0.876382</td>\n",
       "      <td>1.660225</td>\n",
       "      <td>3.151581</td>\n",
       "      <td>...</td>\n",
       "      <td>2.427646</td>\n",
       "      <td>1.978039</td>\n",
       "      <td>0.983734</td>\n",
       "      <td>2.164283</td>\n",
       "      <td>2.720195</td>\n",
       "      <td>1.758203</td>\n",
       "      <td>2.264204</td>\n",
       "      <td>2.192851</td>\n",
       "      <td>1.919587</td>\n",
       "      <td>1.585771</td>\n",
       "    </tr>\n",
       "    <tr>\n",
       "      <th>Calaveras</th>\n",
       "      <td>Calaveras</td>\n",
       "      <td>0.258701</td>\n",
       "      <td>4.885808</td>\n",
       "      <td>3.5756</td>\n",
       "      <td>3.209961</td>\n",
       "      <td>2.263332</td>\n",
       "      <td>1.940346</td>\n",
       "      <td>1.601214</td>\n",
       "      <td>1.517600</td>\n",
       "      <td>3.519420</td>\n",
       "      <td>...</td>\n",
       "      <td>2.427646</td>\n",
       "      <td>1.978039</td>\n",
       "      <td>1.332642</td>\n",
       "      <td>2.638490</td>\n",
       "      <td>2.720195</td>\n",
       "      <td>1.063208</td>\n",
       "      <td>3.435330</td>\n",
       "      <td>2.741638</td>\n",
       "      <td>2.401690</td>\n",
       "      <td>0.664280</td>\n",
       "    </tr>\n",
       "  </tbody>\n",
       "</table>\n",
       "<p>5 rows × 21 columns</p>\n",
       "</div>"
      ],
      "text/plain": [
       "             Co_Name  Grain AW WA  Rice AW WA  Cotton AW WA  SgrBeet AW WA  \\\n",
       "Co_Name                                                                      \n",
       "Alameda      Alameda     1.227136    4.885808        3.5756       3.209961   \n",
       "Alpine        Alpine     1.036609    4.885808        3.5756       3.209961   \n",
       "Amador        Amador     0.152481    4.885808        3.5756       3.209961   \n",
       "Butte          Butte     0.151040    4.200113        3.5756       3.209961   \n",
       "Calaveras  Calaveras     0.258701    4.885808        3.5756       3.209961   \n",
       "\n",
       "           Corn AW WA  DryBean AW WA  Safflwr AW WA  Oth Fld AW WA  \\\n",
       "Co_Name                                                              \n",
       "Alameda      2.263332       1.940346       1.601214       2.226513   \n",
       "Alpine       2.263332       1.940346       1.601214       2.226513   \n",
       "Amador       2.263332       1.940346       1.601214       2.703687   \n",
       "Butte        2.263332       1.508677       0.876382       1.660225   \n",
       "Calaveras    2.263332       1.940346       1.601214       1.517600   \n",
       "\n",
       "           Alfalfa AW WA     ...      Pr Tom AW WA  Fr Tom AW WA  \\\n",
       "Co_Name                      ...                                   \n",
       "Alameda         5.566410     ...          2.427646      1.978039   \n",
       "Alpine          3.979483     ...          2.427646      1.978039   \n",
       "Amador          3.511449     ...          2.427646      1.978039   \n",
       "Butte           3.151581     ...          2.427646      1.978039   \n",
       "Calaveras       3.519420     ...          2.427646      1.978039   \n",
       "\n",
       "           Cucurb AW WA  On Gar AW WA  Potato AW WA  Oth Trk AW WA  \\\n",
       "Co_Name                                                              \n",
       "Alameda        1.332642      2.638490      2.720195       3.322419   \n",
       "Alpine         1.332642      2.638490      2.720195       1.745486   \n",
       "Amador         1.332642      2.638490      2.720195       2.418772   \n",
       "Butte          0.983734      2.164283      2.720195       1.758203   \n",
       "Calaveras      1.332642      2.638490      2.720195       1.063208   \n",
       "\n",
       "           Al Pist AW WA  Oth Dec AW WA  Subtrop AW WA  Vine AW WA  \n",
       "Co_Name                                                             \n",
       "Alameda         4.012059       4.089118       3.200228    1.322920  \n",
       "Alpine          3.435330       3.093030       2.750411    1.473550  \n",
       "Amador          3.435330       2.729704       2.750411    0.581198  \n",
       "Butte           2.264204       2.192851       1.919587    1.585771  \n",
       "Calaveras       3.435330       2.741638       2.401690    0.664280  \n",
       "\n",
       "[5 rows x 21 columns]"
      ]
     },
     "execution_count": 57,
     "metadata": {},
     "output_type": "execute_result"
    }
   ],
   "source": [
    "Ag_2010 = Ag_2010.drop('Year', 1)\n",
    "Ag_2010.index = Ag_2010['Co_Name']\n",
    "Ag_2010.head()"
   ]
  },
  {
   "cell_type": "code",
   "execution_count": 58,
   "metadata": {
    "collapsed": false
   },
   "outputs": [
    {
     "data": {
      "text/html": [
       "<div>\n",
       "<table border=\"1\" class=\"dataframe\">\n",
       "  <thead>\n",
       "    <tr style=\"text-align: right;\">\n",
       "      <th></th>\n",
       "      <th>Grain AW WA</th>\n",
       "      <th>Rice AW WA</th>\n",
       "      <th>Cotton AW WA</th>\n",
       "      <th>SgrBeet AW WA</th>\n",
       "      <th>Corn AW WA</th>\n",
       "      <th>DryBean AW WA</th>\n",
       "      <th>Safflwr AW WA</th>\n",
       "      <th>Oth Fld AW WA</th>\n",
       "      <th>Alfalfa AW WA</th>\n",
       "      <th>Pasture AW WA</th>\n",
       "      <th>Pr Tom AW WA</th>\n",
       "      <th>Fr Tom AW WA</th>\n",
       "      <th>Cucurb AW WA</th>\n",
       "      <th>On Gar AW WA</th>\n",
       "      <th>Potato AW WA</th>\n",
       "      <th>Oth Trk AW WA</th>\n",
       "      <th>Al Pist AW WA</th>\n",
       "      <th>Oth Dec AW WA</th>\n",
       "      <th>Subtrop AW WA</th>\n",
       "      <th>Vine AW WA</th>\n",
       "    </tr>\n",
       "    <tr>\n",
       "      <th>Co_Name</th>\n",
       "      <th></th>\n",
       "      <th></th>\n",
       "      <th></th>\n",
       "      <th></th>\n",
       "      <th></th>\n",
       "      <th></th>\n",
       "      <th></th>\n",
       "      <th></th>\n",
       "      <th></th>\n",
       "      <th></th>\n",
       "      <th></th>\n",
       "      <th></th>\n",
       "      <th></th>\n",
       "      <th></th>\n",
       "      <th></th>\n",
       "      <th></th>\n",
       "      <th></th>\n",
       "      <th></th>\n",
       "      <th></th>\n",
       "      <th></th>\n",
       "    </tr>\n",
       "  </thead>\n",
       "  <tbody>\n",
       "    <tr>\n",
       "      <th>Alameda</th>\n",
       "      <td>1.227136</td>\n",
       "      <td>4.885808</td>\n",
       "      <td>3.5756</td>\n",
       "      <td>3.209961</td>\n",
       "      <td>2.263332</td>\n",
       "      <td>1.940346</td>\n",
       "      <td>1.601214</td>\n",
       "      <td>2.226513</td>\n",
       "      <td>5.566410</td>\n",
       "      <td>4.150807</td>\n",
       "      <td>2.427646</td>\n",
       "      <td>1.978039</td>\n",
       "      <td>1.332642</td>\n",
       "      <td>2.638490</td>\n",
       "      <td>2.720195</td>\n",
       "      <td>3.322419</td>\n",
       "      <td>4.012059</td>\n",
       "      <td>4.089118</td>\n",
       "      <td>3.200228</td>\n",
       "      <td>1.322920</td>\n",
       "    </tr>\n",
       "    <tr>\n",
       "      <th>Alpine</th>\n",
       "      <td>1.036609</td>\n",
       "      <td>4.885808</td>\n",
       "      <td>3.5756</td>\n",
       "      <td>3.209961</td>\n",
       "      <td>2.263332</td>\n",
       "      <td>1.940346</td>\n",
       "      <td>1.601214</td>\n",
       "      <td>2.226513</td>\n",
       "      <td>3.979483</td>\n",
       "      <td>4.191053</td>\n",
       "      <td>2.427646</td>\n",
       "      <td>1.978039</td>\n",
       "      <td>1.332642</td>\n",
       "      <td>2.638490</td>\n",
       "      <td>2.720195</td>\n",
       "      <td>1.745486</td>\n",
       "      <td>3.435330</td>\n",
       "      <td>3.093030</td>\n",
       "      <td>2.750411</td>\n",
       "      <td>1.473550</td>\n",
       "    </tr>\n",
       "    <tr>\n",
       "      <th>Amador</th>\n",
       "      <td>0.152481</td>\n",
       "      <td>4.885808</td>\n",
       "      <td>3.5756</td>\n",
       "      <td>3.209961</td>\n",
       "      <td>2.263332</td>\n",
       "      <td>1.940346</td>\n",
       "      <td>1.601214</td>\n",
       "      <td>2.703687</td>\n",
       "      <td>3.511449</td>\n",
       "      <td>3.753556</td>\n",
       "      <td>2.427646</td>\n",
       "      <td>1.978039</td>\n",
       "      <td>1.332642</td>\n",
       "      <td>2.638490</td>\n",
       "      <td>2.720195</td>\n",
       "      <td>2.418772</td>\n",
       "      <td>3.435330</td>\n",
       "      <td>2.729704</td>\n",
       "      <td>2.750411</td>\n",
       "      <td>0.581198</td>\n",
       "    </tr>\n",
       "    <tr>\n",
       "      <th>Butte</th>\n",
       "      <td>0.151040</td>\n",
       "      <td>4.200113</td>\n",
       "      <td>3.5756</td>\n",
       "      <td>3.209961</td>\n",
       "      <td>2.263332</td>\n",
       "      <td>1.508677</td>\n",
       "      <td>0.876382</td>\n",
       "      <td>1.660225</td>\n",
       "      <td>3.151581</td>\n",
       "      <td>3.446727</td>\n",
       "      <td>2.427646</td>\n",
       "      <td>1.978039</td>\n",
       "      <td>0.983734</td>\n",
       "      <td>2.164283</td>\n",
       "      <td>2.720195</td>\n",
       "      <td>1.758203</td>\n",
       "      <td>2.264204</td>\n",
       "      <td>2.192851</td>\n",
       "      <td>1.919587</td>\n",
       "      <td>1.585771</td>\n",
       "    </tr>\n",
       "    <tr>\n",
       "      <th>Calaveras</th>\n",
       "      <td>0.258701</td>\n",
       "      <td>4.885808</td>\n",
       "      <td>3.5756</td>\n",
       "      <td>3.209961</td>\n",
       "      <td>2.263332</td>\n",
       "      <td>1.940346</td>\n",
       "      <td>1.601214</td>\n",
       "      <td>1.517600</td>\n",
       "      <td>3.519420</td>\n",
       "      <td>3.477850</td>\n",
       "      <td>2.427646</td>\n",
       "      <td>1.978039</td>\n",
       "      <td>1.332642</td>\n",
       "      <td>2.638490</td>\n",
       "      <td>2.720195</td>\n",
       "      <td>1.063208</td>\n",
       "      <td>3.435330</td>\n",
       "      <td>2.741638</td>\n",
       "      <td>2.401690</td>\n",
       "      <td>0.664280</td>\n",
       "    </tr>\n",
       "  </tbody>\n",
       "</table>\n",
       "</div>"
      ],
      "text/plain": [
       "           Grain AW WA  Rice AW WA  Cotton AW WA  SgrBeet AW WA  Corn AW WA  \\\n",
       "Co_Name                                                                       \n",
       "Alameda       1.227136    4.885808        3.5756       3.209961    2.263332   \n",
       "Alpine        1.036609    4.885808        3.5756       3.209961    2.263332   \n",
       "Amador        0.152481    4.885808        3.5756       3.209961    2.263332   \n",
       "Butte         0.151040    4.200113        3.5756       3.209961    2.263332   \n",
       "Calaveras     0.258701    4.885808        3.5756       3.209961    2.263332   \n",
       "\n",
       "           DryBean AW WA  Safflwr AW WA  Oth Fld AW WA  Alfalfa AW WA  \\\n",
       "Co_Name                                                                 \n",
       "Alameda         1.940346       1.601214       2.226513       5.566410   \n",
       "Alpine          1.940346       1.601214       2.226513       3.979483   \n",
       "Amador          1.940346       1.601214       2.703687       3.511449   \n",
       "Butte           1.508677       0.876382       1.660225       3.151581   \n",
       "Calaveras       1.940346       1.601214       1.517600       3.519420   \n",
       "\n",
       "           Pasture AW WA  Pr Tom AW WA  Fr Tom AW WA  Cucurb AW WA  \\\n",
       "Co_Name                                                              \n",
       "Alameda         4.150807      2.427646      1.978039      1.332642   \n",
       "Alpine          4.191053      2.427646      1.978039      1.332642   \n",
       "Amador          3.753556      2.427646      1.978039      1.332642   \n",
       "Butte           3.446727      2.427646      1.978039      0.983734   \n",
       "Calaveras       3.477850      2.427646      1.978039      1.332642   \n",
       "\n",
       "           On Gar AW WA  Potato AW WA  Oth Trk AW WA  Al Pist AW WA  \\\n",
       "Co_Name                                                               \n",
       "Alameda        2.638490      2.720195       3.322419       4.012059   \n",
       "Alpine         2.638490      2.720195       1.745486       3.435330   \n",
       "Amador         2.638490      2.720195       2.418772       3.435330   \n",
       "Butte          2.164283      2.720195       1.758203       2.264204   \n",
       "Calaveras      2.638490      2.720195       1.063208       3.435330   \n",
       "\n",
       "           Oth Dec AW WA  Subtrop AW WA  Vine AW WA  \n",
       "Co_Name                                              \n",
       "Alameda         4.089118       3.200228    1.322920  \n",
       "Alpine          3.093030       2.750411    1.473550  \n",
       "Amador          2.729704       2.750411    0.581198  \n",
       "Butte           2.192851       1.919587    1.585771  \n",
       "Calaveras       2.741638       2.401690    0.664280  "
      ]
     },
     "execution_count": 58,
     "metadata": {},
     "output_type": "execute_result"
    }
   ],
   "source": [
    "Ag_2010 = Ag_2010.drop('Co_Name', 1)\n",
    "Ag_2010.head()"
   ]
  },
  {
   "cell_type": "code",
   "execution_count": 59,
   "metadata": {
    "collapsed": false
   },
   "outputs": [],
   "source": [
    "Ag_2010.rename(columns=lambda x: x.replace('AW', '').replace('WA','').strip(), inplace=True)"
   ]
  },
  {
   "cell_type": "code",
   "execution_count": 60,
   "metadata": {
    "collapsed": false
   },
   "outputs": [
    {
     "data": {
      "text/html": [
       "<div>\n",
       "<table border=\"1\" class=\"dataframe\">\n",
       "  <thead>\n",
       "    <tr style=\"text-align: right;\">\n",
       "      <th></th>\n",
       "      <th>Grain</th>\n",
       "      <th>Rice</th>\n",
       "      <th>Cotton</th>\n",
       "      <th>SgrBeet</th>\n",
       "      <th>Corn</th>\n",
       "      <th>DryBean</th>\n",
       "      <th>Safflwr</th>\n",
       "      <th>Oth Fld</th>\n",
       "      <th>Alfalfa</th>\n",
       "      <th>Pasture</th>\n",
       "      <th>Pr Tom</th>\n",
       "      <th>Fr Tom</th>\n",
       "      <th>Cucurb</th>\n",
       "      <th>On Gar</th>\n",
       "      <th>Potato</th>\n",
       "      <th>Oth Trk</th>\n",
       "      <th>Al Pist</th>\n",
       "      <th>Oth Dec</th>\n",
       "      <th>Subtrop</th>\n",
       "      <th>Vine</th>\n",
       "    </tr>\n",
       "    <tr>\n",
       "      <th>Co_Name</th>\n",
       "      <th></th>\n",
       "      <th></th>\n",
       "      <th></th>\n",
       "      <th></th>\n",
       "      <th></th>\n",
       "      <th></th>\n",
       "      <th></th>\n",
       "      <th></th>\n",
       "      <th></th>\n",
       "      <th></th>\n",
       "      <th></th>\n",
       "      <th></th>\n",
       "      <th></th>\n",
       "      <th></th>\n",
       "      <th></th>\n",
       "      <th></th>\n",
       "      <th></th>\n",
       "      <th></th>\n",
       "      <th></th>\n",
       "      <th></th>\n",
       "    </tr>\n",
       "  </thead>\n",
       "  <tbody>\n",
       "    <tr>\n",
       "      <th>Alameda</th>\n",
       "      <td>1.227136</td>\n",
       "      <td>4.885808</td>\n",
       "      <td>3.5756</td>\n",
       "      <td>3.209961</td>\n",
       "      <td>2.263332</td>\n",
       "      <td>1.940346</td>\n",
       "      <td>1.601214</td>\n",
       "      <td>2.226513</td>\n",
       "      <td>5.566410</td>\n",
       "      <td>4.150807</td>\n",
       "      <td>2.427646</td>\n",
       "      <td>1.978039</td>\n",
       "      <td>1.332642</td>\n",
       "      <td>2.638490</td>\n",
       "      <td>2.720195</td>\n",
       "      <td>3.322419</td>\n",
       "      <td>4.012059</td>\n",
       "      <td>4.089118</td>\n",
       "      <td>3.200228</td>\n",
       "      <td>1.322920</td>\n",
       "    </tr>\n",
       "    <tr>\n",
       "      <th>Alpine</th>\n",
       "      <td>1.036609</td>\n",
       "      <td>4.885808</td>\n",
       "      <td>3.5756</td>\n",
       "      <td>3.209961</td>\n",
       "      <td>2.263332</td>\n",
       "      <td>1.940346</td>\n",
       "      <td>1.601214</td>\n",
       "      <td>2.226513</td>\n",
       "      <td>3.979483</td>\n",
       "      <td>4.191053</td>\n",
       "      <td>2.427646</td>\n",
       "      <td>1.978039</td>\n",
       "      <td>1.332642</td>\n",
       "      <td>2.638490</td>\n",
       "      <td>2.720195</td>\n",
       "      <td>1.745486</td>\n",
       "      <td>3.435330</td>\n",
       "      <td>3.093030</td>\n",
       "      <td>2.750411</td>\n",
       "      <td>1.473550</td>\n",
       "    </tr>\n",
       "    <tr>\n",
       "      <th>Amador</th>\n",
       "      <td>0.152481</td>\n",
       "      <td>4.885808</td>\n",
       "      <td>3.5756</td>\n",
       "      <td>3.209961</td>\n",
       "      <td>2.263332</td>\n",
       "      <td>1.940346</td>\n",
       "      <td>1.601214</td>\n",
       "      <td>2.703687</td>\n",
       "      <td>3.511449</td>\n",
       "      <td>3.753556</td>\n",
       "      <td>2.427646</td>\n",
       "      <td>1.978039</td>\n",
       "      <td>1.332642</td>\n",
       "      <td>2.638490</td>\n",
       "      <td>2.720195</td>\n",
       "      <td>2.418772</td>\n",
       "      <td>3.435330</td>\n",
       "      <td>2.729704</td>\n",
       "      <td>2.750411</td>\n",
       "      <td>0.581198</td>\n",
       "    </tr>\n",
       "    <tr>\n",
       "      <th>Butte</th>\n",
       "      <td>0.151040</td>\n",
       "      <td>4.200113</td>\n",
       "      <td>3.5756</td>\n",
       "      <td>3.209961</td>\n",
       "      <td>2.263332</td>\n",
       "      <td>1.508677</td>\n",
       "      <td>0.876382</td>\n",
       "      <td>1.660225</td>\n",
       "      <td>3.151581</td>\n",
       "      <td>3.446727</td>\n",
       "      <td>2.427646</td>\n",
       "      <td>1.978039</td>\n",
       "      <td>0.983734</td>\n",
       "      <td>2.164283</td>\n",
       "      <td>2.720195</td>\n",
       "      <td>1.758203</td>\n",
       "      <td>2.264204</td>\n",
       "      <td>2.192851</td>\n",
       "      <td>1.919587</td>\n",
       "      <td>1.585771</td>\n",
       "    </tr>\n",
       "    <tr>\n",
       "      <th>Calaveras</th>\n",
       "      <td>0.258701</td>\n",
       "      <td>4.885808</td>\n",
       "      <td>3.5756</td>\n",
       "      <td>3.209961</td>\n",
       "      <td>2.263332</td>\n",
       "      <td>1.940346</td>\n",
       "      <td>1.601214</td>\n",
       "      <td>1.517600</td>\n",
       "      <td>3.519420</td>\n",
       "      <td>3.477850</td>\n",
       "      <td>2.427646</td>\n",
       "      <td>1.978039</td>\n",
       "      <td>1.332642</td>\n",
       "      <td>2.638490</td>\n",
       "      <td>2.720195</td>\n",
       "      <td>1.063208</td>\n",
       "      <td>3.435330</td>\n",
       "      <td>2.741638</td>\n",
       "      <td>2.401690</td>\n",
       "      <td>0.664280</td>\n",
       "    </tr>\n",
       "  </tbody>\n",
       "</table>\n",
       "</div>"
      ],
      "text/plain": [
       "              Grain      Rice  Cotton   SgrBeet      Corn   DryBean   Safflwr  \\\n",
       "Co_Name                                                                         \n",
       "Alameda    1.227136  4.885808  3.5756  3.209961  2.263332  1.940346  1.601214   \n",
       "Alpine     1.036609  4.885808  3.5756  3.209961  2.263332  1.940346  1.601214   \n",
       "Amador     0.152481  4.885808  3.5756  3.209961  2.263332  1.940346  1.601214   \n",
       "Butte      0.151040  4.200113  3.5756  3.209961  2.263332  1.508677  0.876382   \n",
       "Calaveras  0.258701  4.885808  3.5756  3.209961  2.263332  1.940346  1.601214   \n",
       "\n",
       "            Oth Fld   Alfalfa   Pasture    Pr Tom    Fr Tom    Cucurb  \\\n",
       "Co_Name                                                                 \n",
       "Alameda    2.226513  5.566410  4.150807  2.427646  1.978039  1.332642   \n",
       "Alpine     2.226513  3.979483  4.191053  2.427646  1.978039  1.332642   \n",
       "Amador     2.703687  3.511449  3.753556  2.427646  1.978039  1.332642   \n",
       "Butte      1.660225  3.151581  3.446727  2.427646  1.978039  0.983734   \n",
       "Calaveras  1.517600  3.519420  3.477850  2.427646  1.978039  1.332642   \n",
       "\n",
       "             On Gar    Potato   Oth Trk   Al Pist   Oth Dec   Subtrop  \\\n",
       "Co_Name                                                                 \n",
       "Alameda    2.638490  2.720195  3.322419  4.012059  4.089118  3.200228   \n",
       "Alpine     2.638490  2.720195  1.745486  3.435330  3.093030  2.750411   \n",
       "Amador     2.638490  2.720195  2.418772  3.435330  2.729704  2.750411   \n",
       "Butte      2.164283  2.720195  1.758203  2.264204  2.192851  1.919587   \n",
       "Calaveras  2.638490  2.720195  1.063208  3.435330  2.741638  2.401690   \n",
       "\n",
       "               Vine  \n",
       "Co_Name              \n",
       "Alameda    1.322920  \n",
       "Alpine     1.473550  \n",
       "Amador     0.581198  \n",
       "Butte      1.585771  \n",
       "Calaveras  0.664280  "
      ]
     },
     "execution_count": 60,
     "metadata": {},
     "output_type": "execute_result"
    }
   ],
   "source": [
    "Ag_2010.head()"
   ]
  },
  {
   "cell_type": "code",
   "execution_count": 61,
   "metadata": {
    "collapsed": false
   },
   "outputs": [
    {
     "data": {
      "text/html": [
       "<div>\n",
       "<table border=\"1\" class=\"dataframe\">\n",
       "  <thead>\n",
       "    <tr style=\"text-align: right;\">\n",
       "      <th></th>\n",
       "      <th></th>\n",
       "      <th>0</th>\n",
       "    </tr>\n",
       "    <tr>\n",
       "      <th></th>\n",
       "      <th>Co_Name</th>\n",
       "      <th></th>\n",
       "    </tr>\n",
       "  </thead>\n",
       "  <tbody>\n",
       "    <tr>\n",
       "      <th rowspan=\"5\" valign=\"top\">Grain</th>\n",
       "      <th>Alameda</th>\n",
       "      <td>1.227136</td>\n",
       "    </tr>\n",
       "    <tr>\n",
       "      <th>Alpine</th>\n",
       "      <td>1.036609</td>\n",
       "    </tr>\n",
       "    <tr>\n",
       "      <th>Amador</th>\n",
       "      <td>0.152481</td>\n",
       "    </tr>\n",
       "    <tr>\n",
       "      <th>Butte</th>\n",
       "      <td>0.151040</td>\n",
       "    </tr>\n",
       "    <tr>\n",
       "      <th>Calaveras</th>\n",
       "      <td>0.258701</td>\n",
       "    </tr>\n",
       "  </tbody>\n",
       "</table>\n",
       "</div>"
      ],
      "text/plain": [
       "                        0\n",
       "      Co_Name            \n",
       "Grain Alameda    1.227136\n",
       "      Alpine     1.036609\n",
       "      Amador     0.152481\n",
       "      Butte      0.151040\n",
       "      Calaveras  0.258701"
      ]
     },
     "execution_count": 61,
     "metadata": {},
     "output_type": "execute_result"
    }
   ],
   "source": [
    "#but i don't know how to creat 2d df from here \n",
    "unstack_df = pd.DataFrame(Ag_2010.unstack())\n",
    "unstack_df.head()\n",
    "#unstack_df.index.levels"
   ]
  },
  {
   "cell_type": "code",
   "execution_count": 62,
   "metadata": {
    "collapsed": false
   },
   "outputs": [
    {
     "name": "stdout",
     "output_type": "stream",
     "text": [
      "county list len 1140\n"
     ]
    },
    {
     "data": {
      "text/plain": [
       "1140"
      ]
     },
     "execution_count": 62,
     "metadata": {},
     "output_type": "execute_result"
    }
   ],
   "source": [
    "from itertools import chain\n",
    "county_list = []\n",
    "for i in Ag_2010.index:\n",
    "    county_list.append([i]*20) \n",
    "county_list = list(chain(*county_list))\n",
    "print 'county list len', len(county_list)  \n",
    "crop_list = list(chain(*([Ag_2010.columns.values]*57)))\n",
    "len(crop_list )"
   ]
  },
  {
   "cell_type": "code",
   "execution_count": 63,
   "metadata": {
    "collapsed": false
   },
   "outputs": [
    {
     "data": {
      "text/html": [
       "<div>\n",
       "<table border=\"1\" class=\"dataframe\">\n",
       "  <thead>\n",
       "    <tr style=\"text-align: right;\">\n",
       "      <th></th>\n",
       "      <th>WaterUsagePerAcre</th>\n",
       "      <th>County</th>\n",
       "      <th>Crop</th>\n",
       "    </tr>\n",
       "  </thead>\n",
       "  <tbody>\n",
       "    <tr>\n",
       "      <th>0</th>\n",
       "      <td>1.227136</td>\n",
       "      <td>Alameda</td>\n",
       "      <td>Grain</td>\n",
       "    </tr>\n",
       "    <tr>\n",
       "      <th>1</th>\n",
       "      <td>4.885808</td>\n",
       "      <td>Alameda</td>\n",
       "      <td>Rice</td>\n",
       "    </tr>\n",
       "    <tr>\n",
       "      <th>2</th>\n",
       "      <td>3.575600</td>\n",
       "      <td>Alameda</td>\n",
       "      <td>Cotton</td>\n",
       "    </tr>\n",
       "    <tr>\n",
       "      <th>3</th>\n",
       "      <td>3.209961</td>\n",
       "      <td>Alameda</td>\n",
       "      <td>SgrBeet</td>\n",
       "    </tr>\n",
       "    <tr>\n",
       "      <th>4</th>\n",
       "      <td>2.263332</td>\n",
       "      <td>Alameda</td>\n",
       "      <td>Corn</td>\n",
       "    </tr>\n",
       "  </tbody>\n",
       "</table>\n",
       "</div>"
      ],
      "text/plain": [
       "   WaterUsagePerAcre   County     Crop\n",
       "0           1.227136  Alameda    Grain\n",
       "1           4.885808  Alameda     Rice\n",
       "2           3.575600  Alameda   Cotton\n",
       "3           3.209961  Alameda  SgrBeet\n",
       "4           2.263332  Alameda     Corn"
      ]
     },
     "execution_count": 63,
     "metadata": {},
     "output_type": "execute_result"
    }
   ],
   "source": [
    "Ag_2010_df = pd.DataFrame(list(chain(*Ag_2010.values)))\n",
    "Ag_2010_df = Ag_2010_df.rename(columns={0:'WaterUsagePerAcre'})\n",
    "Ag_2010_df['County'] =  pd.DataFrame(county_list)\n",
    "Ag_2010_df['Crop'] =  pd.DataFrame(crop_list)\n",
    "Ag_2010_df.head()"
   ]
  },
  {
   "cell_type": "code",
   "execution_count": 64,
   "metadata": {
    "collapsed": false
   },
   "outputs": [
    {
     "name": "stdout",
     "output_type": "stream",
     "text": [
      "set(['Alfalfa', 'Cucurb', 'Potato', 'Oth Dec', 'Corn', 'On Gar', 'Vine', 'DryBean', 'Cotton', 'Oth Trk', 'Oth Fld', 'Grain', 'Al Pist', 'Safflwr', 'Pasture', 'Subtrop', 'Rice', 'Pr Tom', 'SgrBeet'])\n",
      "19\n",
      "set([u'Alfalfa', u'Cucurb', u'SgrBeet', u'Potato', u'Oth Dec', u'Corn', u'On Gar', u'Vine', u'Oth Fld', u'DryBean', u'Oth Trk', u'Fr Tom', u'Grain', u'Al Pist', u'Safflwr', u'Pasture', u'Subtrop', u'Rice', u'Pr Tom', u'Cotton'])\n",
      "20\n",
      "set(['Alfalfa', 'Cucurb', 'SgrBeet', 'Potato', 'Vine', 'Corn', 'On Gar', 'Oth Dec', 'DryBean', 'Oth Trk', 'Oth Fld', 'Grain', 'Al Pist', 'Safflwr', 'Pasture', 'Subtrop', 'Rice', 'Pr Tom', 'Cotton'])\n",
      "19\n"
     ]
    }
   ],
   "source": [
    "print set(collections.Counter(SanJQ_single.Crop_Name))\n",
    "print len(set(collections.Counter(SanJQ_single.Crop_Name)))\n",
    "print set(collections.Counter(Ag_2010_df.Crop))\n",
    "print len(set(collections.Counter(Ag_2010_df.Crop)))\n",
    "print set(collections.Counter(Ag_2010_df.Crop))& set(collections.Counter(SanJQ_single.Crop_Name))\n",
    "print len(set(collections.Counter(Ag_2010_df.Crop))&set(collections.Counter(SanJQ_single.Crop_Name)))"
   ]
  },
  {
   "cell_type": "code",
   "execution_count": 65,
   "metadata": {
    "collapsed": false
   },
   "outputs": [
    {
     "name": "stdout",
     "output_type": "stream",
     "text": [
      "set(['San Joaquin', 'Fresno', 'Merced', 'Kern', 'Madera', 'Kings', 'Tulare', 'Stanislaus'])\n"
     ]
    },
    {
     "data": {
      "text/plain": [
       "{'Fresno',\n",
       " 'Kern',\n",
       " 'Kings',\n",
       " 'Madera',\n",
       " 'Merced',\n",
       " 'San Joaquin',\n",
       " 'Stanislaus',\n",
       " 'Tulare'}"
      ]
     },
     "execution_count": 65,
     "metadata": {},
     "output_type": "execute_result"
    }
   ],
   "source": [
    "print set(collections.Counter(SanJQ_single.county))\n",
    "set(collections.Counter(Ag_2010_df.County))& set(collections.Counter(SanJQ_single.county))"
   ]
  },
  {
   "cell_type": "code",
   "execution_count": 66,
   "metadata": {
    "collapsed": false
   },
   "outputs": [
    {
     "name": "stdout",
     "output_type": "stream",
     "text": [
      "(5698, 7)\n",
      "(5698, 7)\n"
     ]
    },
    {
     "data": {
      "text/html": [
       "<div>\n",
       "<table border=\"1\" class=\"dataframe\">\n",
       "  <thead>\n",
       "    <tr style=\"text-align: right;\">\n",
       "      <th></th>\n",
       "      <th>Basin_Name</th>\n",
       "      <th>Subbasin_N</th>\n",
       "      <th>year</th>\n",
       "      <th>cdl_class_name</th>\n",
       "      <th>acres</th>\n",
       "      <th>County</th>\n",
       "      <th>Crop</th>\n",
       "    </tr>\n",
       "  </thead>\n",
       "  <tbody>\n",
       "    <tr>\n",
       "      <th>0</th>\n",
       "      <td>SAN JOAQUIN VALLEY</td>\n",
       "      <td>EASTERN SAN JOAQUIN</td>\n",
       "      <td>2010</td>\n",
       "      <td>Grass/Pasture</td>\n",
       "      <td>238527.587650</td>\n",
       "      <td>San Joaquin</td>\n",
       "      <td>Pasture</td>\n",
       "    </tr>\n",
       "    <tr>\n",
       "      <th>1</th>\n",
       "      <td>SAN JOAQUIN VALLEY</td>\n",
       "      <td>EASTERN SAN JOAQUIN</td>\n",
       "      <td>2010</td>\n",
       "      <td>Walnuts</td>\n",
       "      <td>73249.299965</td>\n",
       "      <td>San Joaquin</td>\n",
       "      <td>Oth Dec</td>\n",
       "    </tr>\n",
       "    <tr>\n",
       "      <th>2</th>\n",
       "      <td>SAN JOAQUIN VALLEY</td>\n",
       "      <td>EASTERN SAN JOAQUIN</td>\n",
       "      <td>2010</td>\n",
       "      <td>Grapes</td>\n",
       "      <td>62451.585532</td>\n",
       "      <td>San Joaquin</td>\n",
       "      <td>Vine</td>\n",
       "    </tr>\n",
       "    <tr>\n",
       "      <th>3</th>\n",
       "      <td>SAN JOAQUIN VALLEY</td>\n",
       "      <td>EASTERN SAN JOAQUIN</td>\n",
       "      <td>2010</td>\n",
       "      <td>Corn</td>\n",
       "      <td>55180.608525</td>\n",
       "      <td>San Joaquin</td>\n",
       "      <td>Corn</td>\n",
       "    </tr>\n",
       "    <tr>\n",
       "      <th>4</th>\n",
       "      <td>SAN JOAQUIN VALLEY</td>\n",
       "      <td>EASTERN SAN JOAQUIN</td>\n",
       "      <td>2010</td>\n",
       "      <td>Almonds</td>\n",
       "      <td>48995.140747</td>\n",
       "      <td>San Joaquin</td>\n",
       "      <td>Al Pist</td>\n",
       "    </tr>\n",
       "  </tbody>\n",
       "</table>\n",
       "</div>"
      ],
      "text/plain": [
       "           Basin_Name           Subbasin_N  year cdl_class_name  \\\n",
       "0  SAN JOAQUIN VALLEY  EASTERN SAN JOAQUIN  2010  Grass/Pasture   \n",
       "1  SAN JOAQUIN VALLEY  EASTERN SAN JOAQUIN  2010        Walnuts   \n",
       "2  SAN JOAQUIN VALLEY  EASTERN SAN JOAQUIN  2010         Grapes   \n",
       "3  SAN JOAQUIN VALLEY  EASTERN SAN JOAQUIN  2010           Corn   \n",
       "4  SAN JOAQUIN VALLEY  EASTERN SAN JOAQUIN  2010        Almonds   \n",
       "\n",
       "           acres       County     Crop  \n",
       "0  238527.587650  San Joaquin  Pasture  \n",
       "1   73249.299965  San Joaquin  Oth Dec  \n",
       "2   62451.585532  San Joaquin     Vine  \n",
       "3   55180.608525  San Joaquin     Corn  \n",
       "4   48995.140747  San Joaquin  Al Pist  "
      ]
     },
     "execution_count": 66,
     "metadata": {},
     "output_type": "execute_result"
    }
   ],
   "source": [
    "SanJQ_single = SanJQ_single.rename(columns={'county':'County','Crop_Name':'Crop'})\n",
    "print SanJQ_single.shape\n",
    "print SanJQ_single.shape\n",
    "SanJQ_single.head()"
   ]
  },
  {
   "cell_type": "code",
   "execution_count": 67,
   "metadata": {
    "collapsed": false
   },
   "outputs": [],
   "source": [
    "ALL = pd.merge(SanJQ_single, Ag_2010_df, on=['County', 'Crop'])\n",
    "ALL.shape\n",
    "ALL = ALL.drop('Basin_Name',1)"
   ]
  },
  {
   "cell_type": "code",
   "execution_count": 68,
   "metadata": {
    "collapsed": false
   },
   "outputs": [
    {
     "name": "stdout",
     "output_type": "stream",
     "text": [
      "0\n"
     ]
    },
    {
     "data": {
      "text/html": [
       "<div>\n",
       "<table border=\"1\" class=\"dataframe\">\n",
       "  <thead>\n",
       "    <tr style=\"text-align: right;\">\n",
       "      <th></th>\n",
       "      <th>Subbasin_N</th>\n",
       "      <th>year</th>\n",
       "      <th>cdl_class_name</th>\n",
       "      <th>acres</th>\n",
       "      <th>County</th>\n",
       "      <th>Crop</th>\n",
       "      <th>WaterUsagePerAcre</th>\n",
       "    </tr>\n",
       "  </thead>\n",
       "  <tbody>\n",
       "    <tr>\n",
       "      <th>0</th>\n",
       "      <td>EASTERN SAN JOAQUIN</td>\n",
       "      <td>2010</td>\n",
       "      <td>Grass/Pasture</td>\n",
       "      <td>238527.587650</td>\n",
       "      <td>San Joaquin</td>\n",
       "      <td>Pasture</td>\n",
       "      <td>5.139264</td>\n",
       "    </tr>\n",
       "    <tr>\n",
       "      <th>1</th>\n",
       "      <td>EASTERN SAN JOAQUIN</td>\n",
       "      <td>2010</td>\n",
       "      <td>Clover/Wildflowers</td>\n",
       "      <td>4893.576132</td>\n",
       "      <td>San Joaquin</td>\n",
       "      <td>Pasture</td>\n",
       "      <td>5.139264</td>\n",
       "    </tr>\n",
       "    <tr>\n",
       "      <th>2</th>\n",
       "      <td>EASTERN SAN JOAQUIN</td>\n",
       "      <td>2010</td>\n",
       "      <td>Sod/Grass Seed</td>\n",
       "      <td>2493.490983</td>\n",
       "      <td>San Joaquin</td>\n",
       "      <td>Pasture</td>\n",
       "      <td>5.139264</td>\n",
       "    </tr>\n",
       "    <tr>\n",
       "      <th>3</th>\n",
       "      <td>EASTERN SAN JOAQUIN</td>\n",
       "      <td>2011</td>\n",
       "      <td>Grass/Pasture</td>\n",
       "      <td>238056.332977</td>\n",
       "      <td>San Joaquin</td>\n",
       "      <td>Pasture</td>\n",
       "      <td>5.139264</td>\n",
       "    </tr>\n",
       "    <tr>\n",
       "      <th>4</th>\n",
       "      <td>EASTERN SAN JOAQUIN</td>\n",
       "      <td>2011</td>\n",
       "      <td>Clover/Wildflowers</td>\n",
       "      <td>5796.054407</td>\n",
       "      <td>San Joaquin</td>\n",
       "      <td>Pasture</td>\n",
       "      <td>5.139264</td>\n",
       "    </tr>\n",
       "  </tbody>\n",
       "</table>\n",
       "</div>"
      ],
      "text/plain": [
       "            Subbasin_N  year      cdl_class_name          acres       County  \\\n",
       "0  EASTERN SAN JOAQUIN  2010       Grass/Pasture  238527.587650  San Joaquin   \n",
       "1  EASTERN SAN JOAQUIN  2010  Clover/Wildflowers    4893.576132  San Joaquin   \n",
       "2  EASTERN SAN JOAQUIN  2010      Sod/Grass Seed    2493.490983  San Joaquin   \n",
       "3  EASTERN SAN JOAQUIN  2011       Grass/Pasture  238056.332977  San Joaquin   \n",
       "4  EASTERN SAN JOAQUIN  2011  Clover/Wildflowers    5796.054407  San Joaquin   \n",
       "\n",
       "      Crop  WaterUsagePerAcre  \n",
       "0  Pasture           5.139264  \n",
       "1  Pasture           5.139264  \n",
       "2  Pasture           5.139264  \n",
       "3  Pasture           5.139264  \n",
       "4  Pasture           5.139264  "
      ]
     },
     "execution_count": 68,
     "metadata": {},
     "output_type": "execute_result"
    }
   ],
   "source": [
    "print sum(ALL.isnull().any(axis=1))\n",
    "ALL.head()"
   ]
  },
  {
   "cell_type": "code",
   "execution_count": 69,
   "metadata": {
    "collapsed": false
   },
   "outputs": [
    {
     "name": "stdout",
     "output_type": "stream",
     "text": [
      "Counter({'Stanislaus': 1070, 'San Joaquin': 1027, 'Kings': 892, 'Tulare': 684, 'Madera': 622, 'Kern': 572, 'Fresno': 492, 'Merced': 339})\n"
     ]
    },
    {
     "data": {
      "text/plain": [
       "[u'Subbasin_N',\n",
       " u'year',\n",
       " u'cdl_class_name',\n",
       " u'acres',\n",
       " 'County',\n",
       " 'Crop',\n",
       " 'WaterUsagePerAcre']"
      ]
     },
     "execution_count": 69,
     "metadata": {},
     "output_type": "execute_result"
    }
   ],
   "source": [
    "collections.Counter(ALL.Subbasin_N)\n",
    "print collections.Counter(ALL.County)\n",
    "list(ALL)"
   ]
  },
  {
   "cell_type": "code",
   "execution_count": 70,
   "metadata": {
    "collapsed": false
   },
   "outputs": [
    {
     "data": {
      "text/html": [
       "<div>\n",
       "<table border=\"1\" class=\"dataframe\">\n",
       "  <thead>\n",
       "    <tr style=\"text-align: right;\">\n",
       "      <th></th>\n",
       "      <th>Subbasin_N</th>\n",
       "      <th>year</th>\n",
       "      <th>cdl_class_name</th>\n",
       "      <th>acres</th>\n",
       "      <th>County</th>\n",
       "      <th>Crop</th>\n",
       "      <th>WaterUsagePerAcre</th>\n",
       "    </tr>\n",
       "  </thead>\n",
       "  <tbody>\n",
       "    <tr>\n",
       "      <th>2448</th>\n",
       "      <td>CHOWCHILLA</td>\n",
       "      <td>2010</td>\n",
       "      <td>Almonds</td>\n",
       "      <td>32844.160041</td>\n",
       "      <td>Madera</td>\n",
       "      <td>Al Pist</td>\n",
       "      <td>3.344023</td>\n",
       "    </tr>\n",
       "    <tr>\n",
       "      <th>2449</th>\n",
       "      <td>CHOWCHILLA</td>\n",
       "      <td>2010</td>\n",
       "      <td>Pistachios</td>\n",
       "      <td>4114.304601</td>\n",
       "      <td>Madera</td>\n",
       "      <td>Al Pist</td>\n",
       "      <td>3.344023</td>\n",
       "    </tr>\n",
       "  </tbody>\n",
       "</table>\n",
       "</div>"
      ],
      "text/plain": [
       "      Subbasin_N  year cdl_class_name         acres  County     Crop  \\\n",
       "2448  CHOWCHILLA  2010        Almonds  32844.160041  Madera  Al Pist   \n",
       "2449  CHOWCHILLA  2010     Pistachios   4114.304601  Madera  Al Pist   \n",
       "\n",
       "      WaterUsagePerAcre  \n",
       "2448           3.344023  \n",
       "2449           3.344023  "
      ]
     },
     "execution_count": 70,
     "metadata": {},
     "output_type": "execute_result"
    }
   ],
   "source": [
    "ALL[(ALL.Subbasin_N =='CHOWCHILLA') & (ALL.year ==2010) & (ALL.County=='Madera') & (ALL.Crop =='Al Pist')]"
   ]
  },
  {
   "cell_type": "code",
   "execution_count": 71,
   "metadata": {
    "collapsed": false
   },
   "outputs": [
    {
     "data": {
      "text/plain": [
       "36958.464642000006"
      ]
     },
     "execution_count": 71,
     "metadata": {},
     "output_type": "execute_result"
    }
   ],
   "source": [
    "32844.160041+4114.304601 #match the fisrt number in the below df "
   ]
  },
  {
   "cell_type": "code",
   "execution_count": 72,
   "metadata": {
    "collapsed": false
   },
   "outputs": [],
   "source": [
    "f = {'acres':['sum'] }\n",
    "ALL_merge = ALL.groupby([u'Subbasin_N', u'year',\n",
    "             u'County', u'Crop', u'WaterUsagePerAcre']).agg(f)"
   ]
  },
  {
   "cell_type": "code",
   "execution_count": 73,
   "metadata": {
    "collapsed": false
   },
   "outputs": [
    {
     "data": {
      "text/html": [
       "<div>\n",
       "<table border=\"1\" class=\"dataframe\">\n",
       "  <thead>\n",
       "    <tr>\n",
       "      <th></th>\n",
       "      <th></th>\n",
       "      <th></th>\n",
       "      <th></th>\n",
       "      <th></th>\n",
       "      <th>acres</th>\n",
       "    </tr>\n",
       "    <tr>\n",
       "      <th></th>\n",
       "      <th></th>\n",
       "      <th></th>\n",
       "      <th></th>\n",
       "      <th></th>\n",
       "      <th>sum</th>\n",
       "    </tr>\n",
       "    <tr>\n",
       "      <th>Subbasin_N</th>\n",
       "      <th>year</th>\n",
       "      <th>County</th>\n",
       "      <th>Crop</th>\n",
       "      <th>WaterUsagePerAcre</th>\n",
       "      <th></th>\n",
       "    </tr>\n",
       "  </thead>\n",
       "  <tbody>\n",
       "    <tr>\n",
       "      <th rowspan=\"5\" valign=\"top\">CHOWCHILLA</th>\n",
       "      <th rowspan=\"5\" valign=\"top\">2010</th>\n",
       "      <th rowspan=\"5\" valign=\"top\">Madera</th>\n",
       "      <th>Al Pist</th>\n",
       "      <th>3.344023</th>\n",
       "      <td>36958.464642</td>\n",
       "    </tr>\n",
       "    <tr>\n",
       "      <th>Alfalfa</th>\n",
       "      <th>4.318180</th>\n",
       "      <td>34392.028150</td>\n",
       "    </tr>\n",
       "    <tr>\n",
       "      <th>Corn</th>\n",
       "      <th>2.545571</th>\n",
       "      <td>6004.104783</td>\n",
       "    </tr>\n",
       "    <tr>\n",
       "      <th>Cotton</th>\n",
       "      <th>3.152639</th>\n",
       "      <td>3535.633219</td>\n",
       "    </tr>\n",
       "    <tr>\n",
       "      <th>Cucurb</th>\n",
       "      <th>1.605352</th>\n",
       "      <td>163.237815</td>\n",
       "    </tr>\n",
       "  </tbody>\n",
       "</table>\n",
       "</div>"
      ],
      "text/plain": [
       "                                                         acres\n",
       "                                                           sum\n",
       "Subbasin_N year County Crop    WaterUsagePerAcre              \n",
       "CHOWCHILLA 2010 Madera Al Pist 3.344023           36958.464642\n",
       "                       Alfalfa 4.318180           34392.028150\n",
       "                       Corn    2.545571            6004.104783\n",
       "                       Cotton  3.152639            3535.633219\n",
       "                       Cucurb  1.605352             163.237815"
      ]
     },
     "execution_count": 73,
     "metadata": {},
     "output_type": "execute_result"
    }
   ],
   "source": [
    "ALL_merge.head()"
   ]
  },
  {
   "cell_type": "code",
   "execution_count": 74,
   "metadata": {
    "collapsed": false
   },
   "outputs": [
    {
     "name": "stdout",
     "output_type": "stream",
     "text": [
      "(1879, 1)\n"
     ]
    },
    {
     "data": {
      "text/plain": [
       "(5698, 7)"
      ]
     },
     "execution_count": 74,
     "metadata": {},
     "output_type": "execute_result"
    }
   ],
   "source": [
    "print ALL_merge.shape\n",
    "ALL.shape"
   ]
  },
  {
   "cell_type": "code",
   "execution_count": 75,
   "metadata": {
    "collapsed": false
   },
   "outputs": [],
   "source": [
    "Names = pd.DataFrame([ALL_merge.ix[i,].name for i in range(0,1879)])\n",
    "Values = pd.DataFrame([ALL_merge.ix[i,].values for i in range(0,1879)])\n",
    "ALL2 = pd.concat([Names, Values], axis=1,ignore_index=True)"
   ]
  },
  {
   "cell_type": "code",
   "execution_count": 76,
   "metadata": {
    "collapsed": false
   },
   "outputs": [
    {
     "data": {
      "text/plain": [
       "(1879, 6)"
      ]
     },
     "execution_count": 76,
     "metadata": {},
     "output_type": "execute_result"
    }
   ],
   "source": [
    "ALL2.shape"
   ]
  },
  {
   "cell_type": "code",
   "execution_count": 77,
   "metadata": {
    "collapsed": false
   },
   "outputs": [
    {
     "data": {
      "text/plain": [
       "(1879, 1)"
      ]
     },
     "execution_count": 77,
     "metadata": {},
     "output_type": "execute_result"
    }
   ],
   "source": [
    "Values.shape"
   ]
  },
  {
   "cell_type": "code",
   "execution_count": 78,
   "metadata": {
    "collapsed": false
   },
   "outputs": [
    {
     "name": "stdout",
     "output_type": "stream",
     "text": [
      "(1879, 6)\n"
     ]
    },
    {
     "data": {
      "text/html": [
       "<div>\n",
       "<table border=\"1\" class=\"dataframe\">\n",
       "  <thead>\n",
       "    <tr style=\"text-align: right;\">\n",
       "      <th></th>\n",
       "      <th>Subbasin_N</th>\n",
       "      <th>Year</th>\n",
       "      <th>County</th>\n",
       "      <th>Crop</th>\n",
       "      <th>WaterUsagePerAcre</th>\n",
       "      <th>Acre</th>\n",
       "    </tr>\n",
       "  </thead>\n",
       "  <tbody>\n",
       "    <tr>\n",
       "      <th>0</th>\n",
       "      <td>CHOWCHILLA</td>\n",
       "      <td>2010</td>\n",
       "      <td>Madera</td>\n",
       "      <td>Al Pist</td>\n",
       "      <td>3.344023</td>\n",
       "      <td>36958.464642</td>\n",
       "    </tr>\n",
       "    <tr>\n",
       "      <th>1</th>\n",
       "      <td>CHOWCHILLA</td>\n",
       "      <td>2010</td>\n",
       "      <td>Madera</td>\n",
       "      <td>Alfalfa</td>\n",
       "      <td>4.318180</td>\n",
       "      <td>34392.028150</td>\n",
       "    </tr>\n",
       "    <tr>\n",
       "      <th>2</th>\n",
       "      <td>CHOWCHILLA</td>\n",
       "      <td>2010</td>\n",
       "      <td>Madera</td>\n",
       "      <td>Corn</td>\n",
       "      <td>2.545571</td>\n",
       "      <td>6004.104783</td>\n",
       "    </tr>\n",
       "    <tr>\n",
       "      <th>3</th>\n",
       "      <td>CHOWCHILLA</td>\n",
       "      <td>2010</td>\n",
       "      <td>Madera</td>\n",
       "      <td>Cotton</td>\n",
       "      <td>3.152639</td>\n",
       "      <td>3535.633219</td>\n",
       "    </tr>\n",
       "    <tr>\n",
       "      <th>4</th>\n",
       "      <td>CHOWCHILLA</td>\n",
       "      <td>2010</td>\n",
       "      <td>Madera</td>\n",
       "      <td>Cucurb</td>\n",
       "      <td>1.605352</td>\n",
       "      <td>163.237815</td>\n",
       "    </tr>\n",
       "  </tbody>\n",
       "</table>\n",
       "</div>"
      ],
      "text/plain": [
       "   Subbasin_N  Year  County     Crop  WaterUsagePerAcre          Acre\n",
       "0  CHOWCHILLA  2010  Madera  Al Pist           3.344023  36958.464642\n",
       "1  CHOWCHILLA  2010  Madera  Alfalfa           4.318180  34392.028150\n",
       "2  CHOWCHILLA  2010  Madera     Corn           2.545571   6004.104783\n",
       "3  CHOWCHILLA  2010  Madera   Cotton           3.152639   3535.633219\n",
       "4  CHOWCHILLA  2010  Madera   Cucurb           1.605352    163.237815"
      ]
     },
     "execution_count": 78,
     "metadata": {},
     "output_type": "execute_result"
    }
   ],
   "source": [
    "ALL2 = ALL2.rename(columns = {0:u'Subbasin_N', 1:u'Year', 2:'County',\n",
    "                       3:u'Crop',4:u'WaterUsagePerAcre', 5:u'Acre'})\n",
    "print ALL2.shape\n",
    "ALL2.head()"
   ]
  },
  {
   "cell_type": "code",
   "execution_count": 3,
   "metadata": {
    "collapsed": false
   },
   "outputs": [
    {
     "data": {
      "text/plain": [
       "['.DS_Store',\n",
       " 'Ag_2010.xlsx',\n",
       " 'cdl_ca_gw_basins.xlsx',\n",
       " 'Lati_Longi.xlsx',\n",
       " 'OriginalData copy',\n",
       " 'OtherTxt',\n",
       " 'precipitation.xlsx',\n",
       " 'Sq_long_La_16Sub.xlsx',\n",
       " 'SubB_Yr_Cnty_Crp_Wtr_Acr_Zip_Prcip.xlsx',\n",
       " 'SubB_Yr_Cnty_Crp_Wtr_Acr_Zip_Prcip_Ecn.xlsx',\n",
       " 'WaterUsage_Per_Crop_2010.xlsx']"
      ]
     },
     "execution_count": 3,
     "metadata": {},
     "output_type": "execute_result"
    }
   ],
   "source": [
    "path='/Users/yanlinli/Dropbox/141groupprj/OriginalData'\n",
    "os.listdir(path)\n"
   ]
  },
  {
   "cell_type": "code",
   "execution_count": 80,
   "metadata": {
    "collapsed": true
   },
   "outputs": [],
   "source": [
    "precipitation = pd.read_excel('precipitation.xlsx')"
   ]
  },
  {
   "cell_type": "code",
   "execution_count": 81,
   "metadata": {
    "collapsed": false
   },
   "outputs": [
    {
     "data": {
      "text/plain": [
       "Counter({'Fresno': 191,\n",
       "         'Kern': 196,\n",
       "         'Kings': 300,\n",
       "         'Madera': 213,\n",
       "         'Merced': 110,\n",
       "         'San Joaquin': 324,\n",
       "         'Stanislaus': 330,\n",
       "         'Tulare': 215})"
      ]
     },
     "execution_count": 81,
     "metadata": {},
     "output_type": "execute_result"
    }
   ],
   "source": [
    "collections.Counter(ALL2.County)"
   ]
  },
  {
   "cell_type": "code",
   "execution_count": 82,
   "metadata": {
    "collapsed": false
   },
   "outputs": [
    {
     "data": {
      "text/plain": [
       "Counter({u'Fresno': 6,\n",
       "         u'Kern': 6,\n",
       "         u'Kings': 6,\n",
       "         u'Madera': 6,\n",
       "         u'Merced': 6,\n",
       "         u'San Joaquin': 6,\n",
       "         u'Stanislaus': 6,\n",
       "         u'Tulare': 6})"
      ]
     },
     "execution_count": 82,
     "metadata": {},
     "output_type": "execute_result"
    }
   ],
   "source": [
    "collections.Counter(precipitation.County_N)"
   ]
  },
  {
   "cell_type": "code",
   "execution_count": 83,
   "metadata": {
    "collapsed": true
   },
   "outputs": [],
   "source": [
    "precipitation = precipitation.rename(columns = {'County_N':u'County','year':u'Year'})"
   ]
  },
  {
   "cell_type": "code",
   "execution_count": 84,
   "metadata": {
    "collapsed": false
   },
   "outputs": [
    {
     "data": {
      "text/html": [
       "<div>\n",
       "<table border=\"1\" class=\"dataframe\">\n",
       "  <thead>\n",
       "    <tr style=\"text-align: right;\">\n",
       "      <th></th>\n",
       "      <th>County</th>\n",
       "      <th>zipcode</th>\n",
       "      <th>Year</th>\n",
       "      <th>Precip</th>\n",
       "    </tr>\n",
       "  </thead>\n",
       "  <tbody>\n",
       "    <tr>\n",
       "      <th>0</th>\n",
       "      <td>Fresno</td>\n",
       "      <td>93210</td>\n",
       "      <td>2010</td>\n",
       "      <td>7.273551</td>\n",
       "    </tr>\n",
       "    <tr>\n",
       "      <th>1</th>\n",
       "      <td>Fresno</td>\n",
       "      <td>93210</td>\n",
       "      <td>2011</td>\n",
       "      <td>6.897796</td>\n",
       "    </tr>\n",
       "    <tr>\n",
       "      <th>2</th>\n",
       "      <td>Fresno</td>\n",
       "      <td>93210</td>\n",
       "      <td>2012</td>\n",
       "      <td>1.789807</td>\n",
       "    </tr>\n",
       "    <tr>\n",
       "      <th>3</th>\n",
       "      <td>Fresno</td>\n",
       "      <td>93210</td>\n",
       "      <td>2013</td>\n",
       "      <td>2.816295</td>\n",
       "    </tr>\n",
       "    <tr>\n",
       "      <th>4</th>\n",
       "      <td>Fresno</td>\n",
       "      <td>93210</td>\n",
       "      <td>2014</td>\n",
       "      <td>5.495055</td>\n",
       "    </tr>\n",
       "  </tbody>\n",
       "</table>\n",
       "</div>"
      ],
      "text/plain": [
       "   County  zipcode  Year    Precip\n",
       "0  Fresno    93210  2010  7.273551\n",
       "1  Fresno    93210  2011  6.897796\n",
       "2  Fresno    93210  2012  1.789807\n",
       "3  Fresno    93210  2013  2.816295\n",
       "4  Fresno    93210  2014  5.495055"
      ]
     },
     "execution_count": 84,
     "metadata": {},
     "output_type": "execute_result"
    }
   ],
   "source": [
    "precipitation.head()"
   ]
  },
  {
   "cell_type": "code",
   "execution_count": 85,
   "metadata": {
    "collapsed": false
   },
   "outputs": [],
   "source": [
    "ALL3 = pd.merge(ALL2, precipitation, on=['County', 'Year'])"
   ]
  },
  {
   "cell_type": "code",
   "execution_count": 86,
   "metadata": {
    "collapsed": false
   },
   "outputs": [
    {
     "data": {
      "text/plain": [
       "(1879, 8)"
      ]
     },
     "execution_count": 86,
     "metadata": {},
     "output_type": "execute_result"
    }
   ],
   "source": [
    "ALL3.shape"
   ]
  },
  {
   "cell_type": "code",
   "execution_count": 87,
   "metadata": {
    "collapsed": false
   },
   "outputs": [
    {
     "data": {
      "text/html": [
       "<div>\n",
       "<table border=\"1\" class=\"dataframe\">\n",
       "  <thead>\n",
       "    <tr style=\"text-align: right;\">\n",
       "      <th></th>\n",
       "      <th>Subbasin_N</th>\n",
       "      <th>Year</th>\n",
       "      <th>County</th>\n",
       "      <th>Crop</th>\n",
       "      <th>WaterUsagePerAcre</th>\n",
       "      <th>Acre</th>\n",
       "      <th>zipcode</th>\n",
       "      <th>Precip</th>\n",
       "    </tr>\n",
       "  </thead>\n",
       "  <tbody>\n",
       "    <tr>\n",
       "      <th>0</th>\n",
       "      <td>CHOWCHILLA</td>\n",
       "      <td>2010</td>\n",
       "      <td>Madera</td>\n",
       "      <td>Al Pist</td>\n",
       "      <td>3.344023</td>\n",
       "      <td>36958.464642</td>\n",
       "      <td>93638</td>\n",
       "      <td>14.15</td>\n",
       "    </tr>\n",
       "    <tr>\n",
       "      <th>1</th>\n",
       "      <td>CHOWCHILLA</td>\n",
       "      <td>2010</td>\n",
       "      <td>Madera</td>\n",
       "      <td>Alfalfa</td>\n",
       "      <td>4.318180</td>\n",
       "      <td>34392.028150</td>\n",
       "      <td>93638</td>\n",
       "      <td>14.15</td>\n",
       "    </tr>\n",
       "    <tr>\n",
       "      <th>2</th>\n",
       "      <td>CHOWCHILLA</td>\n",
       "      <td>2010</td>\n",
       "      <td>Madera</td>\n",
       "      <td>Corn</td>\n",
       "      <td>2.545571</td>\n",
       "      <td>6004.104783</td>\n",
       "      <td>93638</td>\n",
       "      <td>14.15</td>\n",
       "    </tr>\n",
       "    <tr>\n",
       "      <th>3</th>\n",
       "      <td>CHOWCHILLA</td>\n",
       "      <td>2010</td>\n",
       "      <td>Madera</td>\n",
       "      <td>Cotton</td>\n",
       "      <td>3.152639</td>\n",
       "      <td>3535.633219</td>\n",
       "      <td>93638</td>\n",
       "      <td>14.15</td>\n",
       "    </tr>\n",
       "    <tr>\n",
       "      <th>4</th>\n",
       "      <td>CHOWCHILLA</td>\n",
       "      <td>2010</td>\n",
       "      <td>Madera</td>\n",
       "      <td>Cucurb</td>\n",
       "      <td>1.605352</td>\n",
       "      <td>163.237815</td>\n",
       "      <td>93638</td>\n",
       "      <td>14.15</td>\n",
       "    </tr>\n",
       "  </tbody>\n",
       "</table>\n",
       "</div>"
      ],
      "text/plain": [
       "   Subbasin_N  Year  County     Crop  WaterUsagePerAcre          Acre  \\\n",
       "0  CHOWCHILLA  2010  Madera  Al Pist           3.344023  36958.464642   \n",
       "1  CHOWCHILLA  2010  Madera  Alfalfa           4.318180  34392.028150   \n",
       "2  CHOWCHILLA  2010  Madera     Corn           2.545571   6004.104783   \n",
       "3  CHOWCHILLA  2010  Madera   Cotton           3.152639   3535.633219   \n",
       "4  CHOWCHILLA  2010  Madera   Cucurb           1.605352    163.237815   \n",
       "\n",
       "   zipcode  Precip  \n",
       "0    93638   14.15  \n",
       "1    93638   14.15  \n",
       "2    93638   14.15  \n",
       "3    93638   14.15  \n",
       "4    93638   14.15  "
      ]
     },
     "execution_count": 87,
     "metadata": {},
     "output_type": "execute_result"
    }
   ],
   "source": [
    "ALL3.head()"
   ]
  },
  {
   "cell_type": "code",
   "execution_count": 89,
   "metadata": {
    "collapsed": true
   },
   "outputs": [],
   "source": [
    "#ALL3.to_excel('SubB_Yr_Cnty_Crp_Wtr_Acr_Zip_Prcip.xlsx', sheet_name='sheet1', index=False)"
   ]
  },
  {
   "cell_type": "code",
   "execution_count": 90,
   "metadata": {
    "collapsed": false,
    "scrolled": true
   },
   "outputs": [
    {
     "data": {
      "text/plain": [
       "u'/Users/yanlinli/Dropbox/141groupprj/OriginalData'"
      ]
     },
     "execution_count": 90,
     "metadata": {},
     "output_type": "execute_result"
    }
   ],
   "source": [
    "pwd"
   ]
  },
  {
   "cell_type": "code",
   "execution_count": 91,
   "metadata": {
    "collapsed": false
   },
   "outputs": [],
   "source": [
    "#cropN_mainCrop_dict"
   ]
  },
  {
   "cell_type": "code",
   "execution_count": 90,
   "metadata": {
    "collapsed": false
   },
   "outputs": [
    {
     "data": {
      "text/html": [
       "<div>\n",
       "<table border=\"1\" class=\"dataframe\">\n",
       "  <thead>\n",
       "    <tr style=\"text-align: right;\">\n",
       "      <th></th>\n",
       "      <th>SubCrop</th>\n",
       "      <th>Crop</th>\n",
       "    </tr>\n",
       "  </thead>\n",
       "  <tbody>\n",
       "    <tr>\n",
       "      <th>0</th>\n",
       "      <td>Cantaloupes</td>\n",
       "      <td>Cucurb</td>\n",
       "    </tr>\n",
       "    <tr>\n",
       "      <th>1</th>\n",
       "      <td>Olives</td>\n",
       "      <td>Subtrop</td>\n",
       "    </tr>\n",
       "    <tr>\n",
       "      <th>2</th>\n",
       "      <td>Blueberries</td>\n",
       "      <td>Oth Trk</td>\n",
       "    </tr>\n",
       "    <tr>\n",
       "      <th>3</th>\n",
       "      <td>Durum Wheat</td>\n",
       "      <td>Grain</td>\n",
       "    </tr>\n",
       "    <tr>\n",
       "      <th>4</th>\n",
       "      <td>Rye</td>\n",
       "      <td>Grain</td>\n",
       "    </tr>\n",
       "  </tbody>\n",
       "</table>\n",
       "</div>"
      ],
      "text/plain": [
       "       SubCrop     Crop\n",
       "0  Cantaloupes   Cucurb\n",
       "1       Olives  Subtrop\n",
       "2  Blueberries  Oth Trk\n",
       "3  Durum Wheat    Grain\n",
       "4          Rye    Grain"
      ]
     },
     "execution_count": 90,
     "metadata": {},
     "output_type": "execute_result"
    }
   ],
   "source": [
    "CropGroup = pd.DataFrame(cropN_mainCrop_dict.items())\n",
    "CropGroup = CropGroup.rename(columns = {0:u'SubCrop',1:u'Crop'})\n",
    "CropGroup.head()"
   ]
  },
  {
   "cell_type": "code",
   "execution_count": 91,
   "metadata": {
    "collapsed": false
   },
   "outputs": [
    {
     "data": {
      "text/plain": [
       "Counter({u'CHOWCHILLA': 106,\n",
       "         u'COSUMNES': 104,\n",
       "         u'DELTA-MENDOTA': 112,\n",
       "         u'EASTERN SAN JOAQUIN': 110,\n",
       "         u'KAWEAH': 109,\n",
       "         u'KERN COUNTY': 108,\n",
       "         u'KETTLEMAN PLAIN': 84,\n",
       "         u'KINGS': 111,\n",
       "         u'MADERA': 107,\n",
       "         u'MERCED': 110,\n",
       "         u'MODESTO': 110,\n",
       "         u'PLEASANT VALLEY': 82,\n",
       "         u'TRACY': 110,\n",
       "         u'TULARE LAKE': 105,\n",
       "         u'TULE': 106,\n",
       "         u'TURLOCK': 108,\n",
       "         u'WESTSIDE': 109,\n",
       "         u'WHITE WOLF': 88})"
      ]
     },
     "execution_count": 91,
     "metadata": {},
     "output_type": "execute_result"
    }
   ],
   "source": [
    "collections.Counter(ALL3.Subbasin_N)\n",
    "##u'KETTLEMAN PLAIN': 84,\n",
    "##u'WHITE WOLF': 88})                 \n",
    "#Sq.to_excel('Sq_long_La_16Sub.xlsx', sheet_name='sheet1', index=False)"
   ]
  },
  {
   "cell_type": "code",
   "execution_count": 92,
   "metadata": {
    "collapsed": false
   },
   "outputs": [
    {
     "data": {
      "text/plain": [
       "Counter({'Fresno': 191,\n",
       "         'Kern': 196,\n",
       "         'Kings': 300,\n",
       "         'Madera': 213,\n",
       "         'Merced': 110,\n",
       "         'San Joaquin': 324,\n",
       "         'Stanislaus': 330,\n",
       "         'Tulare': 215})"
      ]
     },
     "execution_count": 92,
     "metadata": {},
     "output_type": "execute_result"
    }
   ],
   "source": [
    "collections.Counter(ALL3.County)"
   ]
  },
  {
   "cell_type": "code",
   "execution_count": 94,
   "metadata": {
    "collapsed": true
   },
   "outputs": [],
   "source": [
    "SqLL = pd.read_excel('Sq_long_La_16Sub.xlsx')"
   ]
  },
  {
   "cell_type": "code",
   "execution_count": 98,
   "metadata": {
    "collapsed": false
   },
   "outputs": [],
   "source": [
    "#SqLL.head()\n",
    "#collections.Counter(SqLL.Subbasin_N)"
   ]
  },
  {
   "cell_type": "code",
   "execution_count": 102,
   "metadata": {
    "collapsed": false
   },
   "outputs": [
    {
     "data": {
      "text/plain": [
       "['Alfalfa',\n",
       " 'Cucurb',\n",
       " 'SgrBeet',\n",
       " 'Potato',\n",
       " 'Vine',\n",
       " 'Corn',\n",
       " 'On Gar',\n",
       " 'Oth Dec',\n",
       " 'DryBean',\n",
       " 'Oth Trk',\n",
       " 'Oth Fld',\n",
       " 'Grain',\n",
       " 'Al Pist',\n",
       " 'Safflwr',\n",
       " 'Pasture',\n",
       " 'Subtrop',\n",
       " 'Rice',\n",
       " 'Pr Tom',\n",
       " 'Cotton']"
      ]
     },
     "execution_count": 102,
     "metadata": {},
     "output_type": "execute_result"
    }
   ],
   "source": [
    "collections.Counter(ALL3.Crop).keys()"
   ]
  },
  {
   "cell_type": "code",
   "execution_count": 107,
   "metadata": {
    "collapsed": false
   },
   "outputs": [
    {
     "data": {
      "text/plain": [
       "{'Al Pist': 7575.6,\n",
       " 'Alfalfa': 1442.0,\n",
       " 'Corn': 1278.095,\n",
       " 'Cotton': 227920.0,\n",
       " 'Cucurb': 5715.333333333333,\n",
       " 'DryBean': 131776.0,\n",
       " 'Grain': 1018.426,\n",
       " 'On Gar': 7614.75,\n",
       " 'Oth Dec': 5564.693333333333,\n",
       " 'Oth Fld': 17880.059999999998,\n",
       " 'Oth Trk': 11736.666666666666,\n",
       " 'Pasture': 0,\n",
       " 'Potato': 7267.500000000001,\n",
       " 'Pro Tom': 10860.0,\n",
       " 'Rice': 1772.3199999999997,\n",
       " 'Safflwr': 53000.0,\n",
       " 'SgrBeet': 2261.14,\n",
       " 'Subtrop': 3714.6949999999997,\n",
       " 'Vine': 4563.0}"
      ]
     },
     "execution_count": 107,
     "metadata": {},
     "output_type": "execute_result"
    }
   ],
   "source": [
    "# data from price value in 2013 \n",
    "# econ value is dollar per acers\n",
    "def avg(l):\n",
    "    return sum(l, 0.0) / len(l)\n",
    "\n",
    "Econ_dict = { \"Al Pist\":2360*3.21, \n",
    "         \"Alfalfa\":7.0*206.00,\n",
    "         \"Corn\": 26.50*48.23,\n",
    "         \"Cotton\":1628*140.00, \n",
    "         \"Cucurb\":avg([260*20.20, 180*35.40, 200*25.90,580*13.00,300*16.00,330*15.60]),\n",
    "#Honeydew Melons  260 2,730,000 20.20 Cwt. Cwt. $/Cwt.\n",
    "#\"Squash\"   180 1,224,000 35.40   Cwt. Cwt. $/Cwt.\n",
    "#\"Cucumbers\"  200 760,000 25.90   Cwt. Cwt. $/Cwt.\n",
    "#\"Watermelons\"  580 5,800,000 13.00  Cwt. Cwt. $/Cwt.\n",
    "#\"Cantaloupes\"   300 12,750,000 16.00  Cwt. Cwt. $/Cwt.\n",
    "#\"Pumpkins    330 1,947,000 15.60   Cwt. Cwt. $/Cwt.\n",
    "\n",
    "         \"DryBean\": 2320*56.80, \n",
    "         \"Grain\":5.35*190.36,\n",
    "         \"On Gar\":avg([ 400*13.20,165*60.30 ]), \n",
    "#\"Onions\"  spring 400 2,720,000 13.20   summer  490 3,822,000 6.40   Onions, Summer Storage 399 11,700,000 9.11\n",
    "# \"Garlic\"   165 3,795,000 60.30\n",
    "         \"Oth Dec\":avg([ 8.88*466  ,5.73*682  ,2.48*3390  ,19.00*391,8.33*780,14.10*429 ,5.30*664 , 1.76 *3710,1750*2.06    ]),\n",
    "#\"Apples\" 8.88 135,000 466  Tons Tons $/Ton\n",
    "#\"Apricots\"  5.73 54,400 682   Tons Tons $/Ton\n",
    "#\"Cherries\", 2.48 82,000 3,390  Tons Tons $/Ton\n",
    "#\"Pears\",  19.00 220,000 391  Tons Tons $/Ton\n",
    "#\"Nectarines\"  8.33 150,000 780 Tons Tons $/Ton\n",
    "#\"Peaches\", 14.10 648,000 429 Tons Tons $/Ton\n",
    "#\"Plums\",  5.30 95,400 664   Tons Tons $/Ton\n",
    "#\"Walnuts\" 1.76 492,000 3,710  #tones Tons $/Ton\n",
    "#\"Pecans\"  1,750  5,000 2.06  Pounds 1000pounds $/Pound\n",
    "         \"Oth Fld\":avg([1296.00* 27.1, 17.00*37.56]),\n",
    "# sunflowers 1,296.00 751,500 27.1   Tons Tons $/Ton\n",
    " # Sorghum2009   17.00 646,000 37.56   Tons Tons $/Ton\n",
    "         \"Oth Trk\":avg([320*29.60, 350*24.90, 32*152.00, 180*42.70, 107*248.00,425*41.70,385* 38.70 ,165*42.10,405*21.70 ]),\n",
    "#\"Carrots\" 320 20,000,000 29.60  Cwt. Cwt. $/Cwt.\n",
    "#\"Lettuce\"  350 33,600,000 24.90 Cwt. Cwt. $/Cwt.\n",
    "#\"Asparagus\"  32  368,000  152.00  Cwt. Cwt. $/Cwt.\n",
    "#\"Cauliflower\"  180 5,868,000 42.70  Cwt. Cwt. $/Cwt.\n",
    "# berries  107 514,000 248.00 Cwt. Cwt. $/Cwt.\n",
    "# \"Peppers Bell\", 425 8,465,000 41.70  Cwt. Cwt. $/Cwt.\n",
    "# pepers Chile    385 2,640,000 38.70   Cwt. Cwt. $/Cwt.\n",
    "# \"Broccoli\",  165 20,460,000 42.10 8   Cwt. Cwt. $/Cwt.\n",
    "# \"Cabbage\",  405 5,670,000 21.70   Cwt. Cwt. $/Cwt.\n",
    "         \"Pasture\":0, \n",
    "         \"Potato\":425*17.1, # Cwt. Cwt. $/Cwt.\n",
    "         \"Pro Tom\":300*36.20, # Cwt. Cwt. $/Cwt \n",
    "         \"Rice\":84.80*20.9, # Cwt. Cwt. $/Cwt\n",
    "         \"Safflwr\": 2000.00*26.5, #  Pounds Cwt. $/Cwt.\n",
    "         \"SgrBeet\": 43.40*52.1,  # Tons Tons $/Ton\n",
    "          \"Subtrop\":avg([622*6.52,4.15*813  ]), \n",
    "# orange 622 109000000 6.52\n",
    "# Olives  4.15 166000 813  Tons Tons $/Ton\n",
    "          \"Vine\":900*5.07}# Cartons 3/ Cartons $/Carton\n",
    "\n",
    "\n",
    "Econ_dict"
   ]
  },
  {
   "cell_type": "code",
   "execution_count": 109,
   "metadata": {
    "collapsed": true
   },
   "outputs": [],
   "source": [
    "ALL3[\"EcnValue\"] = ALL3[\"Crop\"].map(Econ_dict)\n",
    "ALL3.to_excel('SubB_Yr_Cnty_Crp_Wtr_Acr_Zip_Prcip_Ecn.xlsx', sheet_name='sheet1', index=False)"
   ]
  },
  {
   "cell_type": "code",
   "execution_count": 110,
   "metadata": {
    "collapsed": false
   },
   "outputs": [
    {
     "data": {
      "text/html": [
       "<div>\n",
       "<table border=\"1\" class=\"dataframe\">\n",
       "  <thead>\n",
       "    <tr style=\"text-align: right;\">\n",
       "      <th></th>\n",
       "      <th>Subbasin_N</th>\n",
       "      <th>Year</th>\n",
       "      <th>County</th>\n",
       "      <th>Crop</th>\n",
       "      <th>WaterUsagePerAcre</th>\n",
       "      <th>Acre</th>\n",
       "      <th>zipcode</th>\n",
       "      <th>Precip</th>\n",
       "      <th>EcnValue</th>\n",
       "    </tr>\n",
       "  </thead>\n",
       "  <tbody>\n",
       "    <tr>\n",
       "      <th>0</th>\n",
       "      <td>CHOWCHILLA</td>\n",
       "      <td>2010</td>\n",
       "      <td>Madera</td>\n",
       "      <td>Al Pist</td>\n",
       "      <td>3.344023</td>\n",
       "      <td>36958.464642</td>\n",
       "      <td>93638</td>\n",
       "      <td>14.15</td>\n",
       "      <td>7575.600000</td>\n",
       "    </tr>\n",
       "    <tr>\n",
       "      <th>1</th>\n",
       "      <td>CHOWCHILLA</td>\n",
       "      <td>2010</td>\n",
       "      <td>Madera</td>\n",
       "      <td>Alfalfa</td>\n",
       "      <td>4.318180</td>\n",
       "      <td>34392.028150</td>\n",
       "      <td>93638</td>\n",
       "      <td>14.15</td>\n",
       "      <td>1442.000000</td>\n",
       "    </tr>\n",
       "    <tr>\n",
       "      <th>2</th>\n",
       "      <td>CHOWCHILLA</td>\n",
       "      <td>2010</td>\n",
       "      <td>Madera</td>\n",
       "      <td>Corn</td>\n",
       "      <td>2.545571</td>\n",
       "      <td>6004.104783</td>\n",
       "      <td>93638</td>\n",
       "      <td>14.15</td>\n",
       "      <td>1278.095000</td>\n",
       "    </tr>\n",
       "    <tr>\n",
       "      <th>3</th>\n",
       "      <td>CHOWCHILLA</td>\n",
       "      <td>2010</td>\n",
       "      <td>Madera</td>\n",
       "      <td>Cotton</td>\n",
       "      <td>3.152639</td>\n",
       "      <td>3535.633219</td>\n",
       "      <td>93638</td>\n",
       "      <td>14.15</td>\n",
       "      <td>227920.000000</td>\n",
       "    </tr>\n",
       "    <tr>\n",
       "      <th>4</th>\n",
       "      <td>CHOWCHILLA</td>\n",
       "      <td>2010</td>\n",
       "      <td>Madera</td>\n",
       "      <td>Cucurb</td>\n",
       "      <td>1.605352</td>\n",
       "      <td>163.237815</td>\n",
       "      <td>93638</td>\n",
       "      <td>14.15</td>\n",
       "      <td>5715.333333</td>\n",
       "    </tr>\n",
       "  </tbody>\n",
       "</table>\n",
       "</div>"
      ],
      "text/plain": [
       "   Subbasin_N  Year  County     Crop  WaterUsagePerAcre          Acre  \\\n",
       "0  CHOWCHILLA  2010  Madera  Al Pist           3.344023  36958.464642   \n",
       "1  CHOWCHILLA  2010  Madera  Alfalfa           4.318180  34392.028150   \n",
       "2  CHOWCHILLA  2010  Madera     Corn           2.545571   6004.104783   \n",
       "3  CHOWCHILLA  2010  Madera   Cotton           3.152639   3535.633219   \n",
       "4  CHOWCHILLA  2010  Madera   Cucurb           1.605352    163.237815   \n",
       "\n",
       "   zipcode  Precip       EcnValue  \n",
       "0    93638   14.15    7575.600000  \n",
       "1    93638   14.15    1442.000000  \n",
       "2    93638   14.15    1278.095000  \n",
       "3    93638   14.15  227920.000000  \n",
       "4    93638   14.15    5715.333333  "
      ]
     },
     "execution_count": 110,
     "metadata": {},
     "output_type": "execute_result"
    }
   ],
   "source": [
    "ALL3.head()"
   ]
  },
  {
   "cell_type": "code",
   "execution_count": null,
   "metadata": {
    "collapsed": true
   },
   "outputs": [],
   "source": []
  },
  {
   "cell_type": "code",
   "execution_count": null,
   "metadata": {
    "collapsed": true
   },
   "outputs": [],
   "source": []
  },
  {
   "cell_type": "code",
   "execution_count": 82,
   "metadata": {
    "collapsed": false
   },
   "outputs": [
    {
     "name": "stdout",
     "output_type": "stream",
     "text": [
      "(18675, 4)\n"
     ]
    },
    {
     "data": {
      "text/html": [
       "<div>\n",
       "<table border=\"1\" class=\"dataframe\">\n",
       "  <thead>\n",
       "    <tr style=\"text-align: right;\">\n",
       "      <th></th>\n",
       "      <th>Basin_Name</th>\n",
       "      <th>Subbasin_N</th>\n",
       "      <th>longitude</th>\n",
       "      <th>latitude</th>\n",
       "    </tr>\n",
       "  </thead>\n",
       "  <tbody>\n",
       "    <tr>\n",
       "      <th>0</th>\n",
       "      <td>SAN JOAQUIN VALLEY</td>\n",
       "      <td>KERN COUNTY</td>\n",
       "      <td>-119.088229</td>\n",
       "      <td>35.791916</td>\n",
       "    </tr>\n",
       "    <tr>\n",
       "      <th>1</th>\n",
       "      <td>SAN JOAQUIN VALLEY</td>\n",
       "      <td>KERN COUNTY</td>\n",
       "      <td>-119.088728</td>\n",
       "      <td>35.790731</td>\n",
       "    </tr>\n",
       "    <tr>\n",
       "      <th>2</th>\n",
       "      <td>SAN JOAQUIN VALLEY</td>\n",
       "      <td>KERN COUNTY</td>\n",
       "      <td>-119.012405</td>\n",
       "      <td>35.790597</td>\n",
       "    </tr>\n",
       "    <tr>\n",
       "      <th>3</th>\n",
       "      <td>SAN JOAQUIN VALLEY</td>\n",
       "      <td>KERN COUNTY</td>\n",
       "      <td>-119.009633</td>\n",
       "      <td>35.790596</td>\n",
       "    </tr>\n",
       "    <tr>\n",
       "      <th>4</th>\n",
       "      <td>SAN JOAQUIN VALLEY</td>\n",
       "      <td>KERN COUNTY</td>\n",
       "      <td>-119.009541</td>\n",
       "      <td>35.790596</td>\n",
       "    </tr>\n",
       "  </tbody>\n",
       "</table>\n",
       "</div>"
      ],
      "text/plain": [
       "           Basin_Name   Subbasin_N   longitude   latitude\n",
       "0  SAN JOAQUIN VALLEY  KERN COUNTY -119.088229  35.791916\n",
       "1  SAN JOAQUIN VALLEY  KERN COUNTY -119.088728  35.790731\n",
       "2  SAN JOAQUIN VALLEY  KERN COUNTY -119.012405  35.790597\n",
       "3  SAN JOAQUIN VALLEY  KERN COUNTY -119.009633  35.790596\n",
       "4  SAN JOAQUIN VALLEY  KERN COUNTY -119.009541  35.790596"
      ]
     },
     "execution_count": 82,
     "metadata": {},
     "output_type": "execute_result"
    }
   ],
   "source": [
    "SqLL = pd.read_excel('Sq_long_La_16Sub.xlsx')\n",
    "print SqLL.shape\n",
    "SqLL.head()\n"
   ]
  },
  {
   "cell_type": "code",
   "execution_count": 85,
   "metadata": {
    "collapsed": false
   },
   "outputs": [
    {
     "name": "stdout",
     "output_type": "stream",
     "text": [
      "float64\n",
      "float64\n"
     ]
    }
   ],
   "source": [
    "type(SqLL)\n",
    "print SqLL.latitude.dtype\n",
    "print SqLL.longitude.dtype\n",
    "Sub_Lon_Lat = SqLL.groupby(['Subbasin_N']).mean()\n",
    "Sub_Lon_Lat = Sub_Lon_Lat.reset_index(True)"
   ]
  },
  {
   "cell_type": "code",
   "execution_count": 86,
   "metadata": {
    "collapsed": false
   },
   "outputs": [
    {
     "data": {
      "text/html": [
       "<div>\n",
       "<table border=\"1\" class=\"dataframe\">\n",
       "  <thead>\n",
       "    <tr style=\"text-align: right;\">\n",
       "      <th></th>\n",
       "      <th>Subbasin_N</th>\n",
       "      <th>longitude</th>\n",
       "      <th>latitude</th>\n",
       "    </tr>\n",
       "  </thead>\n",
       "  <tbody>\n",
       "    <tr>\n",
       "      <th>0</th>\n",
       "      <td>CHOWCHILLA</td>\n",
       "      <td>-120.341671</td>\n",
       "      <td>37.090853</td>\n",
       "    </tr>\n",
       "    <tr>\n",
       "      <th>1</th>\n",
       "      <td>COSUMNES</td>\n",
       "      <td>-121.078087</td>\n",
       "      <td>38.330043</td>\n",
       "    </tr>\n",
       "    <tr>\n",
       "      <th>2</th>\n",
       "      <td>DELTA-MENDOTA</td>\n",
       "      <td>-120.929047</td>\n",
       "      <td>37.041357</td>\n",
       "    </tr>\n",
       "    <tr>\n",
       "      <th>3</th>\n",
       "      <td>EASTERN SAN JOAQUIN</td>\n",
       "      <td>-121.036118</td>\n",
       "      <td>38.016319</td>\n",
       "    </tr>\n",
       "    <tr>\n",
       "      <th>4</th>\n",
       "      <td>KAWEAH</td>\n",
       "      <td>-119.080095</td>\n",
       "      <td>36.307722</td>\n",
       "    </tr>\n",
       "    <tr>\n",
       "      <th>5</th>\n",
       "      <td>KERN COUNTY</td>\n",
       "      <td>-119.319665</td>\n",
       "      <td>35.317558</td>\n",
       "    </tr>\n",
       "    <tr>\n",
       "      <th>6</th>\n",
       "      <td>KETTLEMAN PLAIN</td>\n",
       "      <td>-120.011155</td>\n",
       "      <td>35.872416</td>\n",
       "    </tr>\n",
       "    <tr>\n",
       "      <th>7</th>\n",
       "      <td>KINGS</td>\n",
       "      <td>-119.504783</td>\n",
       "      <td>36.685465</td>\n",
       "    </tr>\n",
       "    <tr>\n",
       "      <th>8</th>\n",
       "      <td>MADERA</td>\n",
       "      <td>-119.917505</td>\n",
       "      <td>37.030662</td>\n",
       "    </tr>\n",
       "    <tr>\n",
       "      <th>9</th>\n",
       "      <td>MERCED</td>\n",
       "      <td>-120.427700</td>\n",
       "      <td>37.328021</td>\n",
       "    </tr>\n",
       "    <tr>\n",
       "      <th>10</th>\n",
       "      <td>MODESTO</td>\n",
       "      <td>-120.770918</td>\n",
       "      <td>37.715208</td>\n",
       "    </tr>\n",
       "    <tr>\n",
       "      <th>11</th>\n",
       "      <td>PLEASANT VALLEY</td>\n",
       "      <td>-120.110955</td>\n",
       "      <td>35.964013</td>\n",
       "    </tr>\n",
       "    <tr>\n",
       "      <th>12</th>\n",
       "      <td>TRACY</td>\n",
       "      <td>-121.603805</td>\n",
       "      <td>37.873860</td>\n",
       "    </tr>\n",
       "    <tr>\n",
       "      <th>13</th>\n",
       "      <td>TULARE LAKE</td>\n",
       "      <td>-119.722563</td>\n",
       "      <td>36.229246</td>\n",
       "    </tr>\n",
       "    <tr>\n",
       "      <th>14</th>\n",
       "      <td>TULE</td>\n",
       "      <td>-119.005959</td>\n",
       "      <td>35.987088</td>\n",
       "    </tr>\n",
       "    <tr>\n",
       "      <th>15</th>\n",
       "      <td>TURLOCK</td>\n",
       "      <td>-120.742345</td>\n",
       "      <td>37.520860</td>\n",
       "    </tr>\n",
       "    <tr>\n",
       "      <th>16</th>\n",
       "      <td>WESTSIDE</td>\n",
       "      <td>-120.404486</td>\n",
       "      <td>36.440500</td>\n",
       "    </tr>\n",
       "    <tr>\n",
       "      <th>17</th>\n",
       "      <td>WHITE WOLF</td>\n",
       "      <td>-118.876929</td>\n",
       "      <td>35.032244</td>\n",
       "    </tr>\n",
       "  </tbody>\n",
       "</table>\n",
       "</div>"
      ],
      "text/plain": [
       "             Subbasin_N   longitude   latitude\n",
       "0            CHOWCHILLA -120.341671  37.090853\n",
       "1              COSUMNES -121.078087  38.330043\n",
       "2         DELTA-MENDOTA -120.929047  37.041357\n",
       "3   EASTERN SAN JOAQUIN -121.036118  38.016319\n",
       "4                KAWEAH -119.080095  36.307722\n",
       "5           KERN COUNTY -119.319665  35.317558\n",
       "6       KETTLEMAN PLAIN -120.011155  35.872416\n",
       "7                 KINGS -119.504783  36.685465\n",
       "8                MADERA -119.917505  37.030662\n",
       "9                MERCED -120.427700  37.328021\n",
       "10              MODESTO -120.770918  37.715208\n",
       "11      PLEASANT VALLEY -120.110955  35.964013\n",
       "12                TRACY -121.603805  37.873860\n",
       "13          TULARE LAKE -119.722563  36.229246\n",
       "14                 TULE -119.005959  35.987088\n",
       "15              TURLOCK -120.742345  37.520860\n",
       "16             WESTSIDE -120.404486  36.440500\n",
       "17           WHITE WOLF -118.876929  35.032244"
      ]
     },
     "execution_count": 86,
     "metadata": {},
     "output_type": "execute_result"
    }
   ],
   "source": [
    "Sub_Lon_Lat"
   ]
  },
  {
   "cell_type": "code",
   "execution_count": 87,
   "metadata": {
    "collapsed": true
   },
   "outputs": [],
   "source": [
    "Sub_Lon_Lat.to_excel('18Sub_Lon_Lat.xlsx', sheet_name='sheet1', index=False)"
   ]
  }
 ],
 "metadata": {
  "anaconda-cloud": {},
  "kernelspec": {
   "display_name": "Python 2",
   "language": "python",
   "name": "python2"
  },
  "language_info": {
   "codemirror_mode": {
    "name": "ipython",
    "version": 2
   },
   "file_extension": ".py",
   "mimetype": "text/x-python",
   "name": "python",
   "nbconvert_exporter": "python",
   "pygments_lexer": "ipython2",
   "version": "2.7.13"
  }
 },
 "nbformat": 4,
 "nbformat_minor": 1
}
