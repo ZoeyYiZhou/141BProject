{
 "cells": [
  {
   "cell_type": "code",
   "execution_count": 4,
   "metadata": {
    "collapsed": true
   },
   "outputs": [],
   "source": [
    "from urllib2 import Request, urlopen\n",
    "from urlparse import urlparse, urlunparse\n",
    "import requests, requests_cache\n",
    "import pandas as pd\n",
    "import json\n",
    "import os\n",
    "import numpy as np\n",
    "\n",
    "from matplotlib import pyplot as plt\n",
    "plt.style.use('ggplot')\n",
    "%matplotlib inline\n",
    "\n",
    "\n",
    "from urllib2 import Request, urlopen\n",
    "\n",
    "import requests\n",
    "# In terminal: conda install requests\n",
    "import requests_cache\n",
    "# In terminal: pip install requests_cache"
   ]
  },
  {
   "cell_type": "code",
   "execution_count": 5,
   "metadata": {
    "collapsed": false
   },
   "outputs": [
    {
     "data": {
      "text/plain": [
       "u'/Users/kaijin'"
      ]
     },
     "execution_count": 5,
     "metadata": {},
     "output_type": "execute_result"
    }
   ],
   "source": [
    "pwd"
   ]
  },
  {
   "cell_type": "code",
   "execution_count": 6,
   "metadata": {
    "collapsed": false
   },
   "outputs": [],
   "source": [
    "os.chdir('/Users/kaijin/Downloads')"
   ]
  },
  {
   "cell_type": "code",
   "execution_count": 7,
   "metadata": {
    "collapsed": false
   },
   "outputs": [
    {
     "data": {
      "text/html": [
       "<div>\n",
       "<table border=\"1\" class=\"dataframe\">\n",
       "  <thead>\n",
       "    <tr>\n",
       "      <th></th>\n",
       "      <th></th>\n",
       "      <th></th>\n",
       "      <th></th>\n",
       "      <th>WaterUsage</th>\n",
       "      <th>count</th>\n",
       "      <th>UsageTotal</th>\n",
       "      <th>Acres</th>\n",
       "    </tr>\n",
       "    <tr>\n",
       "      <th></th>\n",
       "      <th></th>\n",
       "      <th></th>\n",
       "      <th></th>\n",
       "      <th>mean</th>\n",
       "      <th>sum</th>\n",
       "      <th>sum</th>\n",
       "      <th>sum</th>\n",
       "    </tr>\n",
       "    <tr>\n",
       "      <th>Subbasin_N</th>\n",
       "      <th>County_N</th>\n",
       "      <th>Year</th>\n",
       "      <th>CropName</th>\n",
       "      <th></th>\n",
       "      <th></th>\n",
       "      <th></th>\n",
       "      <th></th>\n",
       "    </tr>\n",
       "  </thead>\n",
       "  <tbody>\n",
       "    <tr>\n",
       "      <th rowspan=\"5\" valign=\"top\">CHOWCHILLA</th>\n",
       "      <th rowspan=\"5\" valign=\"top\">Madera</th>\n",
       "      <th rowspan=\"5\" valign=\"top\">2010</th>\n",
       "      <th>Al Pist</th>\n",
       "      <td>3.344023</td>\n",
       "      <td>2</td>\n",
       "      <td>123589.945360</td>\n",
       "      <td>36958.464641</td>\n",
       "    </tr>\n",
       "    <tr>\n",
       "      <th>Alfalfa</th>\n",
       "      <td>4.318180</td>\n",
       "      <td>1</td>\n",
       "      <td>148510.980100</td>\n",
       "      <td>34392.028150</td>\n",
       "    </tr>\n",
       "    <tr>\n",
       "      <th>Corn</th>\n",
       "      <td>2.545571</td>\n",
       "      <td>3</td>\n",
       "      <td>24652.905436</td>\n",
       "      <td>9684.628242</td>\n",
       "    </tr>\n",
       "    <tr>\n",
       "      <th>Cotton</th>\n",
       "      <td>3.152639</td>\n",
       "      <td>1</td>\n",
       "      <td>11146.575720</td>\n",
       "      <td>3535.633219</td>\n",
       "    </tr>\n",
       "    <tr>\n",
       "      <th>Cucurb</th>\n",
       "      <td>1.605352</td>\n",
       "      <td>2</td>\n",
       "      <td>262.054178</td>\n",
       "      <td>163.237815</td>\n",
       "    </tr>\n",
       "  </tbody>\n",
       "</table>\n",
       "</div>"
      ],
      "text/plain": [
       "                                  WaterUsage count     UsageTotal  \\\n",
       "                                        mean   sum            sum   \n",
       "Subbasin_N County_N Year CropName                                   \n",
       "CHOWCHILLA Madera   2010 Al Pist    3.344023     2  123589.945360   \n",
       "                         Alfalfa    4.318180     1  148510.980100   \n",
       "                         Corn       2.545571     3   24652.905436   \n",
       "                         Cotton     3.152639     1   11146.575720   \n",
       "                         Cucurb     1.605352     2     262.054178   \n",
       "\n",
       "                                          Acres  \n",
       "                                            sum  \n",
       "Subbasin_N County_N Year CropName                \n",
       "CHOWCHILLA Madera   2010 Al Pist   36958.464641  \n",
       "                         Alfalfa   34392.028150  \n",
       "                         Corn       9684.628242  \n",
       "                         Cotton     3535.633219  \n",
       "                         Cucurb      163.237815  "
      ]
     },
     "execution_count": 7,
     "metadata": {},
     "output_type": "execute_result"
    }
   ],
   "source": [
    "KAWEAH=pd.read_csv('San_Joaquin_Valley.csv')\n",
    "KAWEAH['count'] = pd.Series(1, index =KAWEAH.index )\n",
    "f = {'Acres':['sum'], 'WaterUsage':['mean'], 'UsageTotal':['sum'], 'count':['sum']}\n",
    "KAWEAH.groupby(['Subbasin_N', 'County_N', 'Year', 'CropName']).agg(f).head()\n"
   ]
  },
  {
   "cell_type": "code",
   "execution_count": 8,
   "metadata": {
    "collapsed": false
   },
   "outputs": [],
   "source": [
    "county_name=np.unique(KAWEAH[\"County_N\"])\n"
   ]
  },
  {
   "cell_type": "markdown",
   "metadata": {},
   "source": [
    "Lets extract the zipcode according to the county name "
   ]
  },
  {
   "cell_type": "code",
   "execution_count": 64,
   "metadata": {
    "collapsed": false,
    "scrolled": true
   },
   "outputs": [
    {
     "name": "stdout",
     "output_type": "stream",
     "text": [
      "Fresno\n",
      "Kern\n",
      "Kings\n",
      "Madera\n",
      "Merced\n",
      "Sacramento\n",
      "San Joaquin\n",
      "Stanislaus\n",
      "Tulare\n"
     ]
    }
   ],
   "source": [
    "for i in range(9):\n",
    "    print county_name[i]"
   ]
  },
  {
   "cell_type": "code",
   "execution_count": 65,
   "metadata": {
    "collapsed": false
   },
   "outputs": [
    {
     "data": {
      "text/html": [
       "<div>\n",
       "<table border=\"1\" class=\"dataframe\">\n",
       "  <thead>\n",
       "    <tr style=\"text-align: right;\">\n",
       "      <th></th>\n",
       "      <th>County_N</th>\n",
       "      <th>zipcode</th>\n",
       "    </tr>\n",
       "  </thead>\n",
       "  <tbody>\n",
       "    <tr>\n",
       "      <th>0</th>\n",
       "      <td>Fresno</td>\n",
       "      <td>93210</td>\n",
       "    </tr>\n",
       "    <tr>\n",
       "      <th>1</th>\n",
       "      <td>Kern</td>\n",
       "      <td>93263</td>\n",
       "    </tr>\n",
       "    <tr>\n",
       "      <th>2</th>\n",
       "      <td>Kings</td>\n",
       "      <td>93202</td>\n",
       "    </tr>\n",
       "    <tr>\n",
       "      <th>3</th>\n",
       "      <td>Madera</td>\n",
       "      <td>93638</td>\n",
       "    </tr>\n",
       "    <tr>\n",
       "      <th>4</th>\n",
       "      <td>Merced</td>\n",
       "      <td>93620</td>\n",
       "    </tr>\n",
       "    <tr>\n",
       "      <th>5</th>\n",
       "      <td>Sacramento</td>\n",
       "      <td>95641</td>\n",
       "    </tr>\n",
       "    <tr>\n",
       "      <th>6</th>\n",
       "      <td>San Joaquin</td>\n",
       "      <td>95242</td>\n",
       "    </tr>\n",
       "    <tr>\n",
       "      <th>7</th>\n",
       "      <td>Stanislaus</td>\n",
       "      <td>95326</td>\n",
       "    </tr>\n",
       "    <tr>\n",
       "      <th>8</th>\n",
       "      <td>Tulare</td>\n",
       "      <td>93201</td>\n",
       "    </tr>\n",
       "  </tbody>\n",
       "</table>\n",
       "</div>"
      ],
      "text/plain": [
       "      County_N  zipcode\n",
       "0       Fresno    93210\n",
       "1         Kern    93263\n",
       "2        Kings    93202\n",
       "3       Madera    93638\n",
       "4       Merced    93620\n",
       "5   Sacramento    95641\n",
       "6  San Joaquin    95242\n",
       "7   Stanislaus    95326\n",
       "8       Tulare    93201"
      ]
     },
     "execution_count": 65,
     "metadata": {},
     "output_type": "execute_result"
    }
   ],
   "source": [
    "zipcode=[93210,93263,93202,93638,93620,95641,95242,95326,93201]\n",
    "ZipcodeList=[{ \"County_N\":county_name[i], \"zipcode\":zipcode[i] } for i in range(len(zipcode))]\n",
    "COUNTYZIP=pd.DataFrame(ZipcodeList, columns=[\"County_N\", \"zipcode\"])\n",
    "COUNTYZIP\n"
   ]
  },
  {
   "cell_type": "markdown",
   "metadata": {},
   "source": [
    "Lets extract the zipcode and precipetation data from California Department of Water Resources \n",
    "http://et.water.ca.gov/Rest/Index"
   ]
  },
  {
   "cell_type": "code",
   "execution_count": 66,
   "metadata": {
    "collapsed": true
   },
   "outputs": [],
   "source": [
    "start=\"2010-01-01\"\n",
    "def ndb_search(term,start,end,verbose = False):\n",
    "    \"\"\"\n",
    "    This takes all of the necessary parameters to form a query \n",
    "    Input: key (data.gov API key, string), term (type, string)\n",
    "    Output: JSON object\n",
    "    \"\"\"\n",
    "    url = \"http://et.water.ca.gov/api/data\"\n",
    "    response = requests.get(url, params = {\n",
    "        \"targets\": term,\n",
    "        \"appKey\":\"90e36c84-3f23-48a3-becd-1865076a04fd\",\n",
    "        \"startDate\":start,\n",
    "        \"EndDate\":end,\n",
    "        \"dataItems\": \"day-precip\"  \n",
    "    })\n",
    "    response.raise_for_status() # check for errors\n",
    "    if verbose:\n",
    "        print response.url\n",
    "\n",
    "    return response.json() # parse JSON"
   ]
  },
  {
   "cell_type": "code",
   "execution_count": 67,
   "metadata": {
    "collapsed": false
   },
   "outputs": [
    {
     "ename": "NameError",
     "evalue": "name 'Tulare2010' is not defined",
     "output_type": "error",
     "traceback": [
      "\u001b[0;31m---------------------------------------------------------------------------\u001b[0m",
      "\u001b[0;31mNameError\u001b[0m                                 Traceback (most recent call last)",
      "\u001b[0;32m<ipython-input-67-282a1ceb064d>\u001b[0m in \u001b[0;36m<module>\u001b[0;34m()\u001b[0m\n\u001b[0;32m----> 1\u001b[0;31m \u001b[0mTulare2010_Recode\u001b[0m\u001b[0;34m=\u001b[0m\u001b[0mTulare2010\u001b[0m\u001b[0;34m[\u001b[0m\u001b[0;34m\"Data\"\u001b[0m\u001b[0;34m]\u001b[0m\u001b[0;34m[\u001b[0m\u001b[0;34m\"Providers\"\u001b[0m\u001b[0;34m]\u001b[0m\u001b[0;34m[\u001b[0m\u001b[0;36m0\u001b[0m\u001b[0;34m]\u001b[0m\u001b[0;34m[\u001b[0m\u001b[0;34m'Records'\u001b[0m\u001b[0;34m]\u001b[0m\u001b[0;34m\u001b[0m\u001b[0m\n\u001b[0m\u001b[1;32m      2\u001b[0m \u001b[0mlen\u001b[0m\u001b[0;34m(\u001b[0m\u001b[0mTulare2010_Recode\u001b[0m\u001b[0;34m)\u001b[0m\u001b[0;34m\u001b[0m\u001b[0m\n",
      "\u001b[0;31mNameError\u001b[0m: name 'Tulare2010' is not defined"
     ]
    }
   ],
   "source": [
    "Tulare2010_Recode=Tulare2010[\"Data\"][\"Providers\"][0]['Records']\n",
    "len(Tulare2010_Recode)"
   ]
  },
  {
   "cell_type": "code",
   "execution_count": 68,
   "metadata": {
    "collapsed": true
   },
   "outputs": [],
   "source": [
    "#note inside a county there may be multilple station that recode the data \n",
    "# we take the mean then times 365 to get one year rain \n",
    "# note the value is inches "
   ]
  },
  {
   "cell_type": "code",
   "execution_count": 69,
   "metadata": {
    "collapsed": false
   },
   "outputs": [
    {
     "ename": "NameError",
     "evalue": "name 'Tulare2010_Recode' is not defined",
     "output_type": "error",
     "traceback": [
      "\u001b[0;31m---------------------------------------------------------------------------\u001b[0m",
      "\u001b[0;31mNameError\u001b[0m                                 Traceback (most recent call last)",
      "\u001b[0;32m<ipython-input-69-db5103e07808>\u001b[0m in \u001b[0;36m<module>\u001b[0;34m()\u001b[0m\n\u001b[0;32m----> 1\u001b[0;31m \u001b[0mprecip\u001b[0m\u001b[0;34m=\u001b[0m\u001b[0;34m[\u001b[0m \u001b[0mTulare2010_Recode\u001b[0m\u001b[0;34m[\u001b[0m\u001b[0mi\u001b[0m\u001b[0;34m]\u001b[0m\u001b[0;34m[\u001b[0m\u001b[0;34m'DayPrecip'\u001b[0m\u001b[0;34m]\u001b[0m\u001b[0;34m[\u001b[0m\u001b[0;34m'Value'\u001b[0m\u001b[0;34m]\u001b[0m \u001b[0;32mfor\u001b[0m \u001b[0mi\u001b[0m \u001b[0;32min\u001b[0m \u001b[0mrange\u001b[0m\u001b[0;34m(\u001b[0m\u001b[0mlen\u001b[0m\u001b[0;34m(\u001b[0m\u001b[0mTulare2010_Recode\u001b[0m\u001b[0;34m)\u001b[0m\u001b[0;34m)\u001b[0m\u001b[0;34m]\u001b[0m\u001b[0;34m\u001b[0m\u001b[0m\n\u001b[0m\u001b[1;32m      2\u001b[0m \u001b[0mprecip2\u001b[0m\u001b[0;34m=\u001b[0m\u001b[0mnp\u001b[0m\u001b[0;34m.\u001b[0m\u001b[0marray\u001b[0m\u001b[0;34m(\u001b[0m\u001b[0mprecip\u001b[0m\u001b[0;34m)\u001b[0m\u001b[0;34m.\u001b[0m\u001b[0mastype\u001b[0m\u001b[0;34m(\u001b[0m\u001b[0mnp\u001b[0m\u001b[0;34m.\u001b[0m\u001b[0mfloat\u001b[0m\u001b[0;34m)\u001b[0m\u001b[0;34m\u001b[0m\u001b[0m\n\u001b[1;32m      3\u001b[0m \u001b[0;31m#precip2\u001b[0m\u001b[0;34m\u001b[0m\u001b[0;34m\u001b[0m\u001b[0m\n",
      "\u001b[0;31mNameError\u001b[0m: name 'Tulare2010_Recode' is not defined"
     ]
    }
   ],
   "source": [
    "precip=[ Tulare2010_Recode[i]['DayPrecip']['Value'] for i in range(len(Tulare2010_Recode))]\n",
    "precip2=np.array(precip).astype(np.float)\n",
    "#precip2"
   ]
  },
  {
   "cell_type": "code",
   "execution_count": 70,
   "metadata": {
    "collapsed": true
   },
   "outputs": [],
   "source": [
    "#WRITE INTO FUNCTIONS\n",
    "def precip_cal(term,year,verbose = False):\n",
    "    \"\"\"\n",
    "    This takes zipcode and year gives precipitaion of a year \n",
    "    Input: term (zipcode, int), year (year, int)\n",
    "    Output: precipitation of a year and a certain county \n",
    "    \"\"\"\n",
    "    start=\"{}-01-01\".format(\"\".join(str(year)))\n",
    "    end=\"{}-12-31\".format(\"\".join(str(year)))\n",
    "\n",
    "    Tulare2010=ndb_search(term,start,end,verbose = False)\n",
    "    Tulare2010_Recode=Tulare2010[\"Data\"][\"Providers\"][0]['Records']\n",
    "    precip=[ Tulare2010_Recode[i]['DayPrecip']['Value'] for i in range(len(Tulare2010_Recode))]\n",
    "    precip2=np.array(precip).astype(np.float)\n",
    "  \n",
    "    return np.nanmean(precip2)*365 # parse JSON"
   ]
  },
  {
   "cell_type": "code",
   "execution_count": 71,
   "metadata": {
    "collapsed": false
   },
   "outputs": [],
   "source": [
    "year=[2010,2011,2012,2013,2014,2015]\n",
    "ZipcodeList=[{ \"County_N\":county_name[i], \"zipcode\":zipcode[i],\"year\":year[j]} for i in range(len(zipcode)) for j in range(6) ]\n",
    "ZipcodeList\n",
    "COUNTYYear=pd.DataFrame(ZipcodeList, columns=[\"County_N\", \"zipcode\",\"year\"])\n",
    "x=[precip_cal(COUNTYYear[\"zipcode\"][i],COUNTYYear[\"year\"][i]) for i in xrange(54) ]\n"
   ]
  },
  {
   "cell_type": "code",
   "execution_count": 74,
   "metadata": {
    "collapsed": false
   },
   "outputs": [
    {
     "data": {
      "text/html": [
       "<div>\n",
       "<table border=\"1\" class=\"dataframe\">\n",
       "  <thead>\n",
       "    <tr style=\"text-align: right;\">\n",
       "      <th></th>\n",
       "      <th>County_N</th>\n",
       "      <th>zipcode</th>\n",
       "      <th>year</th>\n",
       "      <th>Precip</th>\n",
       "    </tr>\n",
       "  </thead>\n",
       "  <tbody>\n",
       "    <tr>\n",
       "      <th>0</th>\n",
       "      <td>Fresno</td>\n",
       "      <td>93210</td>\n",
       "      <td>2010</td>\n",
       "      <td>7.273551</td>\n",
       "    </tr>\n",
       "    <tr>\n",
       "      <th>1</th>\n",
       "      <td>Fresno</td>\n",
       "      <td>93210</td>\n",
       "      <td>2011</td>\n",
       "      <td>6.897796</td>\n",
       "    </tr>\n",
       "    <tr>\n",
       "      <th>2</th>\n",
       "      <td>Fresno</td>\n",
       "      <td>93210</td>\n",
       "      <td>2012</td>\n",
       "      <td>1.789807</td>\n",
       "    </tr>\n",
       "    <tr>\n",
       "      <th>3</th>\n",
       "      <td>Fresno</td>\n",
       "      <td>93210</td>\n",
       "      <td>2013</td>\n",
       "      <td>2.816295</td>\n",
       "    </tr>\n",
       "    <tr>\n",
       "      <th>4</th>\n",
       "      <td>Fresno</td>\n",
       "      <td>93210</td>\n",
       "      <td>2014</td>\n",
       "      <td>5.495055</td>\n",
       "    </tr>\n",
       "    <tr>\n",
       "      <th>5</th>\n",
       "      <td>Fresno</td>\n",
       "      <td>93210</td>\n",
       "      <td>2015</td>\n",
       "      <td>4.742995</td>\n",
       "    </tr>\n",
       "    <tr>\n",
       "      <th>6</th>\n",
       "      <td>Kern</td>\n",
       "      <td>93263</td>\n",
       "      <td>2010</td>\n",
       "      <td>13.194598</td>\n",
       "    </tr>\n",
       "    <tr>\n",
       "      <th>7</th>\n",
       "      <td>Kern</td>\n",
       "      <td>93263</td>\n",
       "      <td>2011</td>\n",
       "      <td>5.730000</td>\n",
       "    </tr>\n",
       "    <tr>\n",
       "      <th>8</th>\n",
       "      <td>Kern</td>\n",
       "      <td>93263</td>\n",
       "      <td>2012</td>\n",
       "      <td>8.691563</td>\n",
       "    </tr>\n",
       "    <tr>\n",
       "      <th>9</th>\n",
       "      <td>Kern</td>\n",
       "      <td>93263</td>\n",
       "      <td>2013</td>\n",
       "      <td>2.696396</td>\n",
       "    </tr>\n",
       "    <tr>\n",
       "      <th>10</th>\n",
       "      <td>Kern</td>\n",
       "      <td>93263</td>\n",
       "      <td>2014</td>\n",
       "      <td>4.540000</td>\n",
       "    </tr>\n",
       "    <tr>\n",
       "      <th>11</th>\n",
       "      <td>Kern</td>\n",
       "      <td>93263</td>\n",
       "      <td>2015</td>\n",
       "      <td>3.530000</td>\n",
       "    </tr>\n",
       "    <tr>\n",
       "      <th>12</th>\n",
       "      <td>Kings</td>\n",
       "      <td>93202</td>\n",
       "      <td>2010</td>\n",
       "      <td>12.658078</td>\n",
       "    </tr>\n",
       "    <tr>\n",
       "      <th>13</th>\n",
       "      <td>Kings</td>\n",
       "      <td>93202</td>\n",
       "      <td>2011</td>\n",
       "      <td>5.350000</td>\n",
       "    </tr>\n",
       "    <tr>\n",
       "      <th>14</th>\n",
       "      <td>Kings</td>\n",
       "      <td>93202</td>\n",
       "      <td>2012</td>\n",
       "      <td>5.564754</td>\n",
       "    </tr>\n",
       "    <tr>\n",
       "      <th>15</th>\n",
       "      <td>Kings</td>\n",
       "      <td>93202</td>\n",
       "      <td>2013</td>\n",
       "      <td>2.300000</td>\n",
       "    </tr>\n",
       "    <tr>\n",
       "      <th>16</th>\n",
       "      <td>Kings</td>\n",
       "      <td>93202</td>\n",
       "      <td>2014</td>\n",
       "      <td>5.140000</td>\n",
       "    </tr>\n",
       "    <tr>\n",
       "      <th>17</th>\n",
       "      <td>Kings</td>\n",
       "      <td>93202</td>\n",
       "      <td>2015</td>\n",
       "      <td>4.200000</td>\n",
       "    </tr>\n",
       "    <tr>\n",
       "      <th>18</th>\n",
       "      <td>Madera</td>\n",
       "      <td>93638</td>\n",
       "      <td>2010</td>\n",
       "      <td>14.150000</td>\n",
       "    </tr>\n",
       "    <tr>\n",
       "      <th>19</th>\n",
       "      <td>Madera</td>\n",
       "      <td>93638</td>\n",
       "      <td>2011</td>\n",
       "      <td>9.760000</td>\n",
       "    </tr>\n",
       "    <tr>\n",
       "      <th>20</th>\n",
       "      <td>Madera</td>\n",
       "      <td>93638</td>\n",
       "      <td>2012</td>\n",
       "      <td>7.409699</td>\n",
       "    </tr>\n",
       "    <tr>\n",
       "      <th>21</th>\n",
       "      <td>Madera</td>\n",
       "      <td>93638</td>\n",
       "      <td>2013</td>\n",
       "      <td>3.151811</td>\n",
       "    </tr>\n",
       "    <tr>\n",
       "      <th>22</th>\n",
       "      <td>Madera</td>\n",
       "      <td>93638</td>\n",
       "      <td>2014</td>\n",
       "      <td>6.460000</td>\n",
       "    </tr>\n",
       "    <tr>\n",
       "      <th>23</th>\n",
       "      <td>Madera</td>\n",
       "      <td>93638</td>\n",
       "      <td>2015</td>\n",
       "      <td>5.823823</td>\n",
       "    </tr>\n",
       "    <tr>\n",
       "      <th>24</th>\n",
       "      <td>Merced</td>\n",
       "      <td>93620</td>\n",
       "      <td>2010</td>\n",
       "      <td>12.036767</td>\n",
       "    </tr>\n",
       "    <tr>\n",
       "      <th>25</th>\n",
       "      <td>Merced</td>\n",
       "      <td>93620</td>\n",
       "      <td>2011</td>\n",
       "      <td>7.320000</td>\n",
       "    </tr>\n",
       "    <tr>\n",
       "      <th>26</th>\n",
       "      <td>Merced</td>\n",
       "      <td>93620</td>\n",
       "      <td>2012</td>\n",
       "      <td>5.190779</td>\n",
       "    </tr>\n",
       "    <tr>\n",
       "      <th>27</th>\n",
       "      <td>Merced</td>\n",
       "      <td>93620</td>\n",
       "      <td>2013</td>\n",
       "      <td>248.857849</td>\n",
       "    </tr>\n",
       "    <tr>\n",
       "      <th>28</th>\n",
       "      <td>Merced</td>\n",
       "      <td>93620</td>\n",
       "      <td>2014</td>\n",
       "      <td>6.880000</td>\n",
       "    </tr>\n",
       "    <tr>\n",
       "      <th>29</th>\n",
       "      <td>Merced</td>\n",
       "      <td>93620</td>\n",
       "      <td>2015</td>\n",
       "      <td>9.379241</td>\n",
       "    </tr>\n",
       "    <tr>\n",
       "      <th>30</th>\n",
       "      <td>Sacramento</td>\n",
       "      <td>95641</td>\n",
       "      <td>2010</td>\n",
       "      <td>18.330000</td>\n",
       "    </tr>\n",
       "    <tr>\n",
       "      <th>31</th>\n",
       "      <td>Sacramento</td>\n",
       "      <td>95641</td>\n",
       "      <td>2011</td>\n",
       "      <td>13.480000</td>\n",
       "    </tr>\n",
       "    <tr>\n",
       "      <th>32</th>\n",
       "      <td>Sacramento</td>\n",
       "      <td>95641</td>\n",
       "      <td>2012</td>\n",
       "      <td>17.362432</td>\n",
       "    </tr>\n",
       "    <tr>\n",
       "      <th>33</th>\n",
       "      <td>Sacramento</td>\n",
       "      <td>95641</td>\n",
       "      <td>2013</td>\n",
       "      <td>5.310000</td>\n",
       "    </tr>\n",
       "    <tr>\n",
       "      <th>34</th>\n",
       "      <td>Sacramento</td>\n",
       "      <td>95641</td>\n",
       "      <td>2014</td>\n",
       "      <td>16.465110</td>\n",
       "    </tr>\n",
       "    <tr>\n",
       "      <th>35</th>\n",
       "      <td>Sacramento</td>\n",
       "      <td>95641</td>\n",
       "      <td>2015</td>\n",
       "      <td>7.416934</td>\n",
       "    </tr>\n",
       "    <tr>\n",
       "      <th>36</th>\n",
       "      <td>San Joaquin</td>\n",
       "      <td>95242</td>\n",
       "      <td>2010</td>\n",
       "      <td>19.440000</td>\n",
       "    </tr>\n",
       "    <tr>\n",
       "      <th>37</th>\n",
       "      <td>San Joaquin</td>\n",
       "      <td>95242</td>\n",
       "      <td>2011</td>\n",
       "      <td>10.060000</td>\n",
       "    </tr>\n",
       "    <tr>\n",
       "      <th>38</th>\n",
       "      <td>San Joaquin</td>\n",
       "      <td>95242</td>\n",
       "      <td>2012</td>\n",
       "      <td>17.541940</td>\n",
       "    </tr>\n",
       "    <tr>\n",
       "      <th>39</th>\n",
       "      <td>San Joaquin</td>\n",
       "      <td>95242</td>\n",
       "      <td>2013</td>\n",
       "      <td>6.100000</td>\n",
       "    </tr>\n",
       "    <tr>\n",
       "      <th>40</th>\n",
       "      <td>San Joaquin</td>\n",
       "      <td>95242</td>\n",
       "      <td>2014</td>\n",
       "      <td>14.680220</td>\n",
       "    </tr>\n",
       "    <tr>\n",
       "      <th>41</th>\n",
       "      <td>San Joaquin</td>\n",
       "      <td>95242</td>\n",
       "      <td>2015</td>\n",
       "      <td>10.625556</td>\n",
       "    </tr>\n",
       "    <tr>\n",
       "      <th>42</th>\n",
       "      <td>Stanislaus</td>\n",
       "      <td>95326</td>\n",
       "      <td>2010</td>\n",
       "      <td>17.430000</td>\n",
       "    </tr>\n",
       "    <tr>\n",
       "      <th>43</th>\n",
       "      <td>Stanislaus</td>\n",
       "      <td>95326</td>\n",
       "      <td>2011</td>\n",
       "      <td>12.000000</td>\n",
       "    </tr>\n",
       "    <tr>\n",
       "      <th>44</th>\n",
       "      <td>Stanislaus</td>\n",
       "      <td>95326</td>\n",
       "      <td>2012</td>\n",
       "      <td>9.484016</td>\n",
       "    </tr>\n",
       "    <tr>\n",
       "      <th>45</th>\n",
       "      <td>Stanislaus</td>\n",
       "      <td>95326</td>\n",
       "      <td>2013</td>\n",
       "      <td>3.940000</td>\n",
       "    </tr>\n",
       "    <tr>\n",
       "      <th>46</th>\n",
       "      <td>Stanislaus</td>\n",
       "      <td>95326</td>\n",
       "      <td>2014</td>\n",
       "      <td>11.530000</td>\n",
       "    </tr>\n",
       "    <tr>\n",
       "      <th>47</th>\n",
       "      <td>Stanislaus</td>\n",
       "      <td>95326</td>\n",
       "      <td>2015</td>\n",
       "      <td>6.990000</td>\n",
       "    </tr>\n",
       "    <tr>\n",
       "      <th>48</th>\n",
       "      <td>Tulare</td>\n",
       "      <td>93201</td>\n",
       "      <td>2010</td>\n",
       "      <td>12.825000</td>\n",
       "    </tr>\n",
       "    <tr>\n",
       "      <th>49</th>\n",
       "      <td>Tulare</td>\n",
       "      <td>93201</td>\n",
       "      <td>2011</td>\n",
       "      <td>5.841017</td>\n",
       "    </tr>\n",
       "    <tr>\n",
       "      <th>50</th>\n",
       "      <td>Tulare</td>\n",
       "      <td>93201</td>\n",
       "      <td>2012</td>\n",
       "      <td>5.499932</td>\n",
       "    </tr>\n",
       "    <tr>\n",
       "      <th>51</th>\n",
       "      <td>Tulare</td>\n",
       "      <td>93201</td>\n",
       "      <td>2013</td>\n",
       "      <td>3.120000</td>\n",
       "    </tr>\n",
       "    <tr>\n",
       "      <th>52</th>\n",
       "      <td>Tulare</td>\n",
       "      <td>93201</td>\n",
       "      <td>2014</td>\n",
       "      <td>3.670000</td>\n",
       "    </tr>\n",
       "    <tr>\n",
       "      <th>53</th>\n",
       "      <td>Tulare</td>\n",
       "      <td>93201</td>\n",
       "      <td>2015</td>\n",
       "      <td>5.035000</td>\n",
       "    </tr>\n",
       "  </tbody>\n",
       "</table>\n",
       "</div>"
      ],
      "text/plain": [
       "       County_N  zipcode  year      Precip\n",
       "0        Fresno    93210  2010    7.273551\n",
       "1        Fresno    93210  2011    6.897796\n",
       "2        Fresno    93210  2012    1.789807\n",
       "3        Fresno    93210  2013    2.816295\n",
       "4        Fresno    93210  2014    5.495055\n",
       "5        Fresno    93210  2015    4.742995\n",
       "6          Kern    93263  2010   13.194598\n",
       "7          Kern    93263  2011    5.730000\n",
       "8          Kern    93263  2012    8.691563\n",
       "9          Kern    93263  2013    2.696396\n",
       "10         Kern    93263  2014    4.540000\n",
       "11         Kern    93263  2015    3.530000\n",
       "12        Kings    93202  2010   12.658078\n",
       "13        Kings    93202  2011    5.350000\n",
       "14        Kings    93202  2012    5.564754\n",
       "15        Kings    93202  2013    2.300000\n",
       "16        Kings    93202  2014    5.140000\n",
       "17        Kings    93202  2015    4.200000\n",
       "18       Madera    93638  2010   14.150000\n",
       "19       Madera    93638  2011    9.760000\n",
       "20       Madera    93638  2012    7.409699\n",
       "21       Madera    93638  2013    3.151811\n",
       "22       Madera    93638  2014    6.460000\n",
       "23       Madera    93638  2015    5.823823\n",
       "24       Merced    93620  2010   12.036767\n",
       "25       Merced    93620  2011    7.320000\n",
       "26       Merced    93620  2012    5.190779\n",
       "27       Merced    93620  2013  248.857849\n",
       "28       Merced    93620  2014    6.880000\n",
       "29       Merced    93620  2015    9.379241\n",
       "30   Sacramento    95641  2010   18.330000\n",
       "31   Sacramento    95641  2011   13.480000\n",
       "32   Sacramento    95641  2012   17.362432\n",
       "33   Sacramento    95641  2013    5.310000\n",
       "34   Sacramento    95641  2014   16.465110\n",
       "35   Sacramento    95641  2015    7.416934\n",
       "36  San Joaquin    95242  2010   19.440000\n",
       "37  San Joaquin    95242  2011   10.060000\n",
       "38  San Joaquin    95242  2012   17.541940\n",
       "39  San Joaquin    95242  2013    6.100000\n",
       "40  San Joaquin    95242  2014   14.680220\n",
       "41  San Joaquin    95242  2015   10.625556\n",
       "42   Stanislaus    95326  2010   17.430000\n",
       "43   Stanislaus    95326  2011   12.000000\n",
       "44   Stanislaus    95326  2012    9.484016\n",
       "45   Stanislaus    95326  2013    3.940000\n",
       "46   Stanislaus    95326  2014   11.530000\n",
       "47   Stanislaus    95326  2015    6.990000\n",
       "48       Tulare    93201  2010   12.825000\n",
       "49       Tulare    93201  2011    5.841017\n",
       "50       Tulare    93201  2012    5.499932\n",
       "51       Tulare    93201  2013    3.120000\n",
       "52       Tulare    93201  2014    3.670000\n",
       "53       Tulare    93201  2015    5.035000"
      ]
     },
     "execution_count": 74,
     "metadata": {},
     "output_type": "execute_result"
    }
   ],
   "source": [
    "COUNTYYear=pd.DataFrame(ZipcodeList, columns=[\"County_N\", \"zipcode\",\"year\"])\n",
    "COUNTYYear[\"Precip\"]=x\n",
    "COUNTYYear"
   ]
  },
  {
   "cell_type": "code",
   "execution_count": 75,
   "metadata": {
    "collapsed": false
   },
   "outputs": [],
   "source": [
    "COUNTYYear\n",
    "# unit for precip is inch \n",
    "newtable=pd.merge(KAWEAH, COUNTYYear,how=\"right\")\n",
    "f = {'Acres':['sum'], 'WaterUsage':['mean'], 'UsageTotal':['sum'], 'count':['sum'],\"Precip\":['mean']}\n",
    "grouped_data=newtable.groupby(['Subbasin_N', 'County_N', 'Year', 'CropName']).agg(f)\n"
   ]
  },
  {
   "cell_type": "markdown",
   "metadata": {},
   "source": [
    "Crop value extract from \n",
    "https://www.nass.usda.gov/Statistics_by_State/California/Publications/California_Ag_Statistics/CAFieldCrops.pdf\n",
    "cwt is unit 100pounds \n",
    "https://www.nass.usda.gov/Statistics_by_State/California/Publications/"
   ]
  },
  {
   "cell_type": "code",
   "execution_count": 283,
   "metadata": {
    "collapsed": true
   },
   "outputs": [],
   "source": [
    "cropname=np.unique(KAWEAH[\"CropName\"])"
   ]
  },
  {
   "cell_type": "code",
   "execution_count": 284,
   "metadata": {
    "collapsed": false
   },
   "outputs": [
    {
     "data": {
      "text/plain": [
       "array(['Al Pist', 'Alfalfa', 'Corn', 'Cotton', 'Cucurb', 'DryBean',\n",
       "       'Grain', 'On Gar', 'Oth Dec', 'Oth Fld', 'Oth Trk ', 'Pasture',\n",
       "       'Potato', 'Pro Tom', 'Rice', 'Safflwr', 'SgrBeet', 'Subtrop', 'Vine'], dtype=object)"
      ]
     },
     "execution_count": 284,
     "metadata": {},
     "output_type": "execute_result"
    }
   ],
   "source": [
    "cropname"
   ]
  },
  {
   "cell_type": "code",
   "execution_count": 286,
   "metadata": {
    "collapsed": false
   },
   "outputs": [
    {
     "name": "stdout",
     "output_type": "stream",
     "text": [
      "Al Pist\n",
      "Alfalfa\n",
      "Corn\n",
      "Cotton\n",
      "Cucurb\n",
      "DryBean\n",
      "Grain\n",
      "On Gar\n",
      "Oth Dec\n",
      "Oth Fld\n",
      "Oth Trk \n",
      "Pasture\n",
      "Potato\n",
      "Pro Tom\n",
      "Rice\n",
      "Safflwr\n",
      "SgrBeet\n",
      "Subtrop\n",
      "Vine\n"
     ]
    },
    {
     "data": {
      "text/plain": [
       "19"
      ]
     },
     "execution_count": 286,
     "metadata": {},
     "output_type": "execute_result"
    }
   ],
   "source": [
    "for i in range(len(cropname)):\n",
    "    print corpname[i]\n",
    "len(cropname)"
   ]
  },
  {
   "cell_type": "code",
   "execution_count": 20,
   "metadata": {
    "collapsed": false
   },
   "outputs": [
    {
     "data": {
      "text/plain": [
       "5564.693333333333"
      ]
     },
     "execution_count": 20,
     "metadata": {},
     "output_type": "execute_result"
    }
   ],
   "source": [
    "def avg(l):\n",
    "    return sum(l, 0.0) / len(l)\n",
    "avg([1*3,2*5])\n",
    "1628*140.00\n",
    "avg([ 8.88*466  ,5.73*682  ,2.48*3390  ,19.00*391,8.33*780,14.10*429 ,5.30*664 , 1.76 *3710,1750*2.06    ]) "
   ]
  },
  {
   "cell_type": "code",
   "execution_count": 28,
   "metadata": {
    "collapsed": false
   },
   "outputs": [
    {
     "data": {
      "text/plain": [
       "{'Al Pist': 7575.6,\n",
       " 'Alfalfa': 1442.0,\n",
       " 'Corn': 1278.095,\n",
       " 'Cotton': 227920.0,\n",
       " 'Cucurb': 5715.333333333333,\n",
       " 'DryBean': 131776.0,\n",
       " 'Grain': 1018.426,\n",
       " 'On Gar': 7614.75,\n",
       " 'Oth Dec': 5564.693333333333,\n",
       " 'Oth Fld': 17880.059999999998,\n",
       " 'Oth Trk': 11736.666666666666,\n",
       " 'Pasture': 0,\n",
       " 'Potato': 7267.500000000001,\n",
       " 'Pro Tom': 10860.0,\n",
       " 'Rice': 1772.3199999999997,\n",
       " 'Safflwr': 53000.0,\n",
       " 'SgrBeet': 2261.14,\n",
       " 'Subtrop': 3714.6949999999997,\n",
       " 'Vine': 4563.0}"
      ]
     },
     "execution_count": 28,
     "metadata": {},
     "output_type": "execute_result"
    }
   ],
   "source": [
    "# data from price value in 2013 \n",
    "# econ value is dollar per acers\n",
    "\n",
    "Econ_dict = { \"Al Pist\":2360*3.21, \n",
    "         \"Alfalfa\":7.0*206.00,\n",
    "         \"Corn\": 26.50*48.23,\n",
    "         \"Cotton\":1628*140.00, \n",
    "         \"Cucurb\":avg([260*20.20, 180*35.40, 200*25.90,580*13.00,300*16.00,330*15.60]),\n",
    "#Honeydew Melons  260 2,730,000 20.20 Cwt. Cwt. $/Cwt.\n",
    "#\"Squash\"   180 1,224,000 35.40   Cwt. Cwt. $/Cwt.\n",
    "#\"Cucumbers\"  200 760,000 25.90   Cwt. Cwt. $/Cwt.\n",
    "#\"Watermelons\"  580 5,800,000 13.00  Cwt. Cwt. $/Cwt.\n",
    "#\"Cantaloupes\"   300 12,750,000 16.00  Cwt. Cwt. $/Cwt.\n",
    "#\"Pumpkins    330 1,947,000 15.60   Cwt. Cwt. $/Cwt.\n",
    "\n",
    "         \"DryBean\": 2320*56.80, \n",
    "         \"Grain\":5.35*190.36,\n",
    "         \"On Gar\":avg([ 400*13.20,165*60.30 ]), \n",
    "#\"Onions\"  spring 400 2,720,000 13.20   summer  490 3,822,000 6.40   Onions, Summer Storage 399 11,700,000 9.11\n",
    "# \"Garlic\"   165 3,795,000 60.30\n",
    "\n",
    "         \"Oth Dec\":avg([ 8.88*466  ,5.73*682  ,2.48*3390  ,19.00*391,8.33*780,14.10*429 ,5.30*664 , 1.76 *3710,1750*2.06    ]),\n",
    "#\"Apples\" 8.88 135,000 466  Tons Tons $/Ton\n",
    "#\"Apricots\"  5.73 54,400 682   Tons Tons $/Ton\n",
    "#\"Cherries\", 2.48 82,000 3,390  Tons Tons $/Ton\n",
    "#\"Pears\",  19.00 220,000 391  Tons Tons $/Ton\n",
    "#\"Nectarines\"  8.33 150,000 780 Tons Tons $/Ton\n",
    "#\"Peaches\", 14.10 648,000 429 Tons Tons $/Ton\n",
    "#\"Plums\",  5.30 95,400 664   Tons Tons $/Ton\n",
    "#\"Walnuts\" 1.76 492,000 3,710  #tones Tons $/Ton\n",
    "#\"Pecans\"  1,750  5,000 2.06  Pounds 1000pounds $/Pound\n",
    "         \"Oth Fld\":avg([1296.00* 27.1, 17.00*37.56]),\n",
    "# sunflowers 1,296.00 751,500 27.1   Tons Tons $/Ton\n",
    " # Sorghum2009   17.00 646,000 37.56   Tons Tons $/Ton\n",
    "         \"Oth Trk\":avg([320*29.60, 350*24.90, 32*152.00, 180*42.70, 107*248.00,425*41.70,385* 38.70 ,165*42.10,405*21.70 ]),\n",
    "#\"Carrots\" 320 20,000,000 29.60  Cwt. Cwt. $/Cwt.\n",
    "#\"Lettuce\"  350 33,600,000 24.90 Cwt. Cwt. $/Cwt.\n",
    "#\"Asparagus\"  32  368,000  152.00  Cwt. Cwt. $/Cwt.\n",
    "#\"Cauliflower\"  180 5,868,000 42.70  Cwt. Cwt. $/Cwt.\n",
    "# berries  107 514,000 248.00 Cwt. Cwt. $/Cwt.\n",
    "# \"Peppers Bell\", 425 8,465,000 41.70  Cwt. Cwt. $/Cwt.\n",
    "# pepers Chile    385 2,640,000 38.70   Cwt. Cwt. $/Cwt.\n",
    "# \"Broccoli\",  165 20,460,000 42.10 8   Cwt. Cwt. $/Cwt.\n",
    "# \"Cabbage\",  405 5,670,000 21.70   Cwt. Cwt. $/Cwt.\n",
    "         \"Pasture\":0, \n",
    "         \"Potato\":425*17.1, # Cwt. Cwt. $/Cwt.\n",
    "         \"Pro Tom\":300*36.20, # Cwt. Cwt. $/Cwt \n",
    "         \"Rice\":84.80*20.9, # Cwt. Cwt. $/Cwt\n",
    "         \"Safflwr\": 2000.00*26.5, #  Pounds Cwt. $/Cwt.\n",
    "         \"SgrBeet\": 43.40*52.1,  # Tons Tons $/Ton\n",
    "          \"Subtrop\":avg([622*6.52,4.15*813  ]), \n",
    "# orange 622 109000000 6.52\n",
    "# Olives  4.15 166000 813  Tons Tons $/Ton\n",
    "\n",
    "          \"Vine\":900*5.07}# Cartons 3/ Cartons $/Carton\n",
    "\n",
    "\n",
    "Econ_dict"
   ]
  },
  {
   "cell_type": "markdown",
   "metadata": {},
   "source": [
    "find 33 perentile 66 percentile of the water usage"
   ]
  }
 ],
 "metadata": {
  "anaconda-cloud": {},
  "kernelspec": {
   "display_name": "Python 2",
   "language": "python",
   "name": "python2"
  },
  "language_info": {
   "codemirror_mode": {
    "name": "ipython",
    "version": 2
   },
   "file_extension": ".py",
   "mimetype": "text/x-python",
   "name": "python",
   "nbconvert_exporter": "python",
   "pygments_lexer": "ipython2",
   "version": "2.7.13"
  }
 },
 "nbformat": 4,
 "nbformat_minor": 1
}
